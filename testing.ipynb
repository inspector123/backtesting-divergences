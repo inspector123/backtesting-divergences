{
 "cells": [
  {
   "cell_type": "code",
   "execution_count": null,
   "id": "83e89bdc",
   "metadata": {},
   "outputs": [],
   "source": [
    "#import bybit\n",
    "import time\n",
    "\n",
    "import json\n",
    "from datetime import datetime, date, timedelta\n",
    "import pandas as pd\n",
    "import matplotlib.pyplot as plt\n",
    "import numpy as np\n",
    "from math import floor\n",
    "from termcolor import colored as cl\n",
    "\n",
    "plt.style.use('fivethirtyeight')\n",
    "plt.rcParams['figure.figsize'] = (20,10)\n",
    "# n=5\n",
    "# m = 5\n",
    "# result = []\n",
    "# client = bybit.bybit()\n",
    "# for i in range(n, 0, -1):\n",
    "#     time = pd.Timestamp(datetime.now()-timedelta(minutes=(m*200*i)), tz='US/Pacific').timestamp()\n",
    "#     res = client.LinearKline.LinearKline_get(symbol=\"ETHUSDT\", interval=f\"{m}\", **{'from':time}).result()[0]['result']\n",
    "#     result += res\n",
    "# #print(result)\n"
   ]
  },
  {
   "cell_type": "code",
   "execution_count": null,
   "id": "23a11f71",
   "metadata": {},
   "outputs": [],
   "source": [
    "from telegram import Update\n",
    "from telegram.ext import ApplicationBuilder, CommandHandler\n",
    "#-1001839931719\n",
    "from dotenv import dotenv_values\n",
    "import nest_asyncio\n",
    "nest_asyncio.apply()\n",
    "\n",
    "config = dotenv_values(\".env\")\n",
    "\n",
    "apikey = config[\"TELEGRAM_API_KEY\"]\n",
    "\n",
    "async def start(update, context):\n",
    "    await update.message.reply_text(f'Starting.')\n",
    "    start_routine();\n",
    "\n",
    "\n",
    "app = ApplicationBuilder().token(apikey).build()\n",
    "\n",
    "app.add_handler(CommandHandler(\"start\", start))\n",
    "\n",
    "app.run_polling()\n",
    "\n",
    "\n",
    "#next is move to a class and change self.blah to change these parameters instantly. for example alert is at -45 or 45 or whatever.\n",
    "def start_routine():\n",
    "    while True:\n",
    "        time.sleep(1)\n",
    "        current_time = pd.Timestamp(datetime.now()).second\n",
    "        if current_time == 0:\n",
    "            check_tsi_1m()"
   ]
  },
  {
   "cell_type": "code",
   "execution_count": null,
   "id": "4b9788c6",
   "metadata": {},
   "outputs": [],
   "source": [
    "\n",
    "        \n",
    "\n",
    "#load_dotenv()  # take environment variables from .env."
   ]
  },
  {
   "cell_type": "code",
   "execution_count": null,
   "id": "ba9076c7",
   "metadata": {},
   "outputs": [],
   "source": [
    "\n",
    "from datetime import datetime, timedelta\n",
    "import pandas as pd\n",
    "\n",
    "from pybit import usdt_perpetual\n",
    "\n",
    "def get_minutes(iterations, symbol, minutes_interval):\n",
    "    result = []\n",
    "    session_unauth = usdt_perpetual.HTTP(\n",
    "        endpoint=\"https://api.bybit.com\"\n",
    "    )\n",
    "    for i in range(iterations, 0, -1):\n",
    "        _time = int(pd.Timestamp(datetime.now()-timedelta(minutes=(minutes_interval*200*i)), tz='US/Pacific').timestamp())\n",
    "        res = session_unauth.query_kline(\n",
    "            symbol=symbol,\n",
    "            interval=minutes_interval,\n",
    "            from_time=_time\n",
    "        )[\"result\"]\n",
    "        result += res\n",
    "\n",
    "    df = pd.DataFrame(data=result, columns=[\"open_time\", \"high\", \"low\",\"open\",\"close\",\"volume\",\"turnover\", \"date_time\"])\n",
    "\n",
    "    df['date_time'] = df['open_time'].apply(lambda x: datetime.fromtimestamp(x))\n",
    "    df.set_index('date_time').astype(float)\n",
    "    return df\n",
    "#print(result)"
   ]
  },
  {
   "cell_type": "code",
   "execution_count": null,
   "id": "4dba8f7f",
   "metadata": {},
   "outputs": [],
   "source": [
    "eth_15m = get_minutes(15, \"ETHUSDT\", 15)"
   ]
  },
  {
   "cell_type": "code",
   "execution_count": null,
   "id": "00178214",
   "metadata": {},
   "outputs": [],
   "source": [
    "eth_5m = get_minutes(45, \"ETHUSDT\", 5)"
   ]
  },
  {
   "cell_type": "code",
   "execution_count": null,
   "id": "c681d736",
   "metadata": {},
   "outputs": [],
   "source": [
    "eth_1m = get_minutes(135, \"ETHUSDT\", 1)"
   ]
  },
  {
   "cell_type": "code",
   "execution_count": null,
   "id": "946dc3dd",
   "metadata": {},
   "outputs": [],
   "source": [
    "def set_index(dataframe):\n",
    "    dataframe.set_index('date_time').astype(float)"
   ]
  },
  {
   "cell_type": "code",
   "execution_count": null,
   "id": "e463ed33",
   "metadata": {},
   "outputs": [],
   "source": [
    "calcandplot(eth_15m)"
   ]
  },
  {
   "cell_type": "code",
   "execution_count": null,
   "id": "e2f31674",
   "metadata": {},
   "outputs": [],
   "source": [
    "calcandplot(eth_5m)"
   ]
  },
  {
   "cell_type": "code",
   "execution_count": null,
   "id": "f8674ed7",
   "metadata": {},
   "outputs": [],
   "source": []
  },
  {
   "cell_type": "code",
   "execution_count": null,
   "id": "39c899e1",
   "metadata": {},
   "outputs": [],
   "source": []
  },
  {
   "cell_type": "code",
   "execution_count": null,
   "id": "f7b7e15a",
   "metadata": {},
   "outputs": [],
   "source": [
    "#change price index so that if low[i-1]=low go with low[i] and use close price otherwise\n",
    "\n",
    "#will want to plot this"
   ]
  },
  {
   "cell_type": "code",
   "execution_count": null,
   "id": "824ca8d3",
   "metadata": {},
   "outputs": [],
   "source": [
    "eth['close'].iloc[-100:]"
   ]
  },
  {
   "cell_type": "code",
   "execution_count": null,
   "id": "3651dc87",
   "metadata": {},
   "outputs": [],
   "source": [
    "def setlowsandhighs(df):\n",
    "    for i in range(len(df)):\n",
    "        if (df['high'].iloc[i] > df['close'].iloc[i]):\n",
    "            df['customclose'].iloc[i] = df['high'].iloc[i] \n",
    "        elif (df['low'].iloc[i] < df['close'].iloc[i]):\n",
    "            df['customclose'].iloc[i] = df['low'].iloc[i]\n",
    "        else:\n",
    "            df[customclose].iloc[i] = df['close'].iloc[i]\n",
    "    return df"
   ]
  },
  {
   "cell_type": "code",
   "execution_count": null,
   "id": "b6ba9fbe",
   "metadata": {},
   "outputs": [],
   "source": [
    "eth_15m_customclose = setlowsandhighs(eth_15m)"
   ]
  },
  {
   "cell_type": "code",
   "execution_count": null,
   "id": "9387b82a",
   "metadata": {},
   "outputs": [],
   "source": [
    "eth_5m"
   ]
  },
  {
   "cell_type": "code",
   "execution_count": null,
   "id": "2d97461d",
   "metadata": {},
   "outputs": [],
   "source": [
    "def mod_join(df1, df2):\n",
    "    # Creating Modular Index values on df1\n",
    "    n = df2.shape[0]\n",
    "    df1[\"Modular Index\"] = df1[\"open_time\"].apply(lambda x: x)\n",
    "\n",
    "    # Merging dataframes\n",
    "    df_combined = df1.merge(df2, how=\"left\", left_on=\"Modular Index\", right_on=\"open_time\")\n",
    "    #df_combined\n",
    "    # Dropping unnecessary columns\n",
    "    df_combined = df_combined.drop([\"Modular Index\", \"high_y\", \"low_y\", \"open_y\", \"turnover_y\", \"volume_y\",'date_time_y', 'open_time_y','close_y'], axis=1)\n",
    "    return df_combined\n",
    "df_combined = mod_join(eth_5m, eth_15m)\n",
    "df_combined[-300:]\n"
   ]
  },
  {
   "cell_type": "code",
   "execution_count": null,
   "id": "615f2ca3",
   "metadata": {},
   "outputs": [],
   "source": [
    "# #small merges into big\n",
    "# eth_15m.set_index(\"date_time\").astype(float)\n",
    "# eth_5m.set_index(\"date_time\").astype(float)\n",
    "# #return new big merged\n",
    "# def merge(small, big):\n",
    "    \n",
    "#     _small = small\n",
    "#     _big = big\n",
    "#     #_big = _big.merge(_small, left_on='date_time',right_on=\"date_time\")\n",
    "    \n",
    "#     print(len(_big), len(_small))\n",
    "#     _big = _big.merge(_small)\n",
    "#     return _big\n",
    "    \n",
    "# df_merged = merge(eth_15m, eth_5m)\n",
    "# df_merged"
   ]
  },
  {
   "cell_type": "code",
   "execution_count": null,
   "id": "d40df797",
   "metadata": {},
   "outputs": [],
   "source": [
    "# dataframe_merged"
   ]
  },
  {
   "cell_type": "code",
   "execution_count": null,
   "id": "e85dbc41",
   "metadata": {},
   "outputs": [],
   "source": [
    "def calcandplot(dataframe):\n",
    "    set_index(dataframe)\n",
    "    dataframe['tsi'], dataframe['signal_line'] = get_tsi(dataframe['close'], 25,13,12)\n",
    "    plot(dataframe.iloc[-100:])"
   ]
  },
  {
   "cell_type": "code",
   "execution_count": null,
   "id": "36540253",
   "metadata": {},
   "outputs": [],
   "source": [
    "calcTSI(eth_5m, 'tsi_5m', 'signal_line_5m')\n",
    "calcTSI(eth_15m, 'tsi_15m', 'signal_line_15m')"
   ]
  },
  {
   "cell_type": "code",
   "execution_count": null,
   "id": "9fb255f9",
   "metadata": {},
   "outputs": [],
   "source": [
    "def calcTSI(df, tsi_index_name, tsi_signal_index_name ):\n",
    "    df[tsi_index_name], df[tsi_signal_index_name] = get_tsi(df['close'], 25,13,12)"
   ]
  },
  {
   "cell_type": "code",
   "execution_count": null,
   "id": "2bb5c7f6",
   "metadata": {},
   "outputs": [],
   "source": [
    "#calculate tsi\n",
    "\n",
    "def get_tsi(close, long, short, signal):\n",
    "    diff = close - close.shift(1)\n",
    "    abs_diff = abs(diff)\n",
    "    \n",
    "    diff_smoothed = diff.ewm(span = long, adjust = False).mean()\n",
    "    diff_double_smoothed = diff_smoothed.ewm(span = short, adjust = False).mean()\n",
    "    abs_diff_smoothed = abs_diff.ewm(span = long, adjust = False).mean()\n",
    "    abs_diff_double_smoothed = abs_diff_smoothed.ewm(span = short, adjust = False).mean()\n",
    "    \n",
    "    tsi = (diff_double_smoothed / abs_diff_double_smoothed) * 100\n",
    "    signal = tsi.ewm(span = signal, adjust = False).mean()\n",
    "    #tsi = tsi[tsi.index >= '2020-01-01'].dropna()\n",
    "    #signal = signal[signal.index >= '2020-01-01'].dropna()\n",
    "    \n",
    "    return tsi, signal\n",
    "\n",
    "eth['tsi'], eth['signal_line'] = get_tsi(eth['close'], 25, 13, 12)\n",
    "eth = eth[eth['date_time'] >= '2020-01-01']\n",
    "eth.tail()"
   ]
  },
  {
   "cell_type": "code",
   "execution_count": null,
   "id": "d029fa07",
   "metadata": {},
   "outputs": [],
   "source": [
    "def plot(dataframe):\n",
    "    ax1 = plt.subplot2grid((11,1), (0,0), rowspan = 5, colspan = 1)\n",
    "    ax2 = plt.subplot2grid((11,1), (6,0), rowspan = 5, colspan = 1)\n",
    "    ax3 = plt.subplot2grid((11,1), (6,0), rowspan = 5, colspan = 1)\n",
    "    ax1.plot(dataframe['close_x'], linewidth = 2)\n",
    "    #ax1.plot(aapl.index, buy_price, marker = '^', markersize = 12, color = 'green', linewidth = 0, label = 'BUY SIGNAL')\n",
    "    #ax1.plot(aapl.index, sell_price, marker = 'v', markersize = 12, color = 'r', linewidth = 0, label = 'SELL SIGNAL')\n",
    "    #ax1.legend()\n",
    "    ax1.set_title('ETH & TSI')\n",
    "    ax2.plot(dataframe['tsi_5m'], linewidth = 2, color = 'orange', label = 'TSI LINE')\n",
    "    ax2.plot(dataframe['signal_line_5m'], linewidth = 2, color = '#FF006E', label = 'SIGNAL LINE')\n",
    "#     ax3.plot(dataframe['tsi_15m'], linewidth = 2, color = 'orange', label = 'TSI LINE')\n",
    "#     ax3.plot(dataframe['signal_line_15m'], linewidth = 2, color = '#FF006E', label = 'SIGNAL LINE')\n",
    "    ax2.set_title('TSI 25,13,12')\n",
    "    ax2.legend()\n",
    "    plt.show()\n",
    "\n",
    "#Output:\n",
    "plot(df_combined[-100:])"
   ]
  },
  {
   "cell_type": "code",
   "execution_count": null,
   "id": "859670f8",
   "metadata": {},
   "outputs": [],
   "source": [
    "fig = plt.figure(figsize=(5.5, 3.5), layout=\"constrained\")\n",
    "spec = fig.add_gridspec(2, 2)\n",
    "\n",
    "ax0 = fig.add_subplot(int(df_combined['close_x']))\n",
    "annotate_axes(ax0, 'ax0')\n",
    "\n",
    "ax10 = fig.add_subplot(df_combined['tsi_5m'])\n",
    "annotate_axes(ax10, 'ax10')\n",
    "\n",
    "ax11 = fig.add_subplot(df_combined['tsi_15m'])\n",
    "annotate_axes(ax11, 'ax11')\n",
    "\n",
    "fig.suptitle('Manually added subplots, spanning a column')"
   ]
  },
  {
   "cell_type": "code",
   "execution_count": null,
   "id": "5c8c4ff2",
   "metadata": {},
   "outputs": [],
   "source": [
    "# //@version=2\n",
    "# //Credit to https://www.tradingview.com/script/p3oqCa56-Pekipek-s-PPO-Divergence-BETA/ (I just changed the visuals and added alerts)\n",
    "# study(\"PPO Divergence Alerts\", overlay=false)\n",
    "\n",
    "# source = open\n",
    "# long_term_div = input(true, title=\"Use long term Divergences?\")\n",
    "# div_lookback_period = input(55, minval=1, title=\"Lookback Period\")\n",
    "# fastLength = input(12, minval=1), slowLength=input(26,minval=1)\n",
    "# signalLength=input(9,minval=1)\n",
    "# smoother = input(2,minval=1)\n",
    "# fastMA = ema(source, fastLength)\n",
    "# slowMA = ema(source, slowLength)\n",
    "# macd = fastMA - slowMA\n",
    "# macd2=(macd/slowMA)*100\n",
    "# d = sma(macd2, smoother) // smoothing PPO\n",
    " \n",
    "# bullishPrice = low \n",
    "\n",
    "# priceMins = bullishPrice > bullishPrice[1] and bullishPrice[1] < bullishPrice[2] or low[1] == low[2] and low[1] < low and low[1] < low[3] or low[1] == low[2] and low[1] == low[3] and low[1] < low and low[1] < low[4] or low[1] == low[2] and low[1] == low[3] and low[1] and low[1] == low[4] and low[1] < low and low[1] < low[5] // this line identifies bottoms and plateaus in the price\n",
    "# oscMins= d > d[1] and d[1] < d[2] // this line identifies bottoms in the PPO\n",
    "\n",
    "# BottomPointsInPPO = oscMins\n",
    "\n",
    "# bearishPrice = high\n",
    "# priceMax = bearishPrice < bearishPrice[1] and bearishPrice[1] > bearishPrice[2] or high[1] == high[2] and high[1] > high and high[1] > high[3] or high[1] == high[2] and high[1] == high[3] and high[1] > high and high[1] > high[4] or high[1] == high[2] and high[1] == high[3] and high[1] and high[1] == high[4] and high[1] > high and high[1] > high[5]  // this line identifies tops in the price\n",
    "# oscMax = d < d[1] and d[1] > d[2]   // this line identifies tops in the PPO\n",
    "\n",
    "# TopPointsInPPO = oscMax\n",
    "\n",
    "# currenttrough4=valuewhen (oscMins, d[1], 0) // identifies the value of PPO at the most recent BOTTOM in the PPO\n",
    "# lasttrough4=valuewhen (oscMins, d[1], 1) // NOT USED identifies the value of PPO at the second most recent BOTTOM in the PPO\n",
    "# currenttrough5=valuewhen (oscMax, d[1], 0) // identifies the value of PPO at the most recent TOP in the PPO\n",
    "# lasttrough5=valuewhen (oscMax, d[1], 1) // NOT USED identifies the value of PPO at the second most recent TOP in the PPO\n",
    "\n",
    "# currenttrough6=valuewhen (priceMins, low[1], 0) // this line identifies the low (price) at the most recent bottom in the Price\n",
    "# lasttrough6=valuewhen (priceMins, low[1], 1) // NOT USED this line identifies the low (price) at the second most recent bottom in the Price\n",
    "# currenttrough7=valuewhen (priceMax, high[1], 0) // this line identifies the high (price) at the most recent top in the Price\n",
    "# lasttrough7=valuewhen (priceMax, high[1], 1) // NOT USED this line identifies the high (price) at the second most recent top in the Price\n",
    "\n",
    "# delayedlow = priceMins and barssince(oscMins) < 3 ? low[1] : na\n",
    "# delayedhigh = priceMax and barssince(oscMax) < 3 ? high[1] : na\n",
    "\n",
    "# // only take tops/bottoms in price when tops/bottoms are less than 5 bars away\n",
    "# filter = barssince(priceMins) < 5 ? lowest(currenttrough6, 4) : na\n",
    "# filter2 = barssince(priceMax) < 5 ? highest(currenttrough7, 4) : na\n",
    "\n",
    "# //delayedbottom/top when oscillator bottom/top is earlier than price bottom/top\n",
    "# y11 = valuewhen(oscMins, delayedlow, 0)\n",
    "# y12 = valuewhen(oscMax, delayedhigh, 0)\n",
    "\n",
    "# // only take tops/bottoms in price when tops/bottoms are less than 5 bars away, since 2nd most recent top/bottom in osc\n",
    "# y2=valuewhen(oscMax, filter2, 1) // identifies the highest high in the tops of price with 5 bar lookback period SINCE the SECOND most recent top in PPO\n",
    "# y6=valuewhen(oscMins, filter, 1) // identifies the lowest low in the bottoms of price with 5 bar lookback period SINCE the SECOND most recent bottom in PPO\n",
    "\n",
    "# long_term_bull_filt = valuewhen(priceMins, lowest(div_lookback_period), 1)\n",
    "# long_term_bear_filt = valuewhen(priceMax, highest(div_lookback_period), 1)\n",
    "\n",
    "# y3=valuewhen(oscMax, currenttrough5, 0) // identifies the value of PPO in the most recent top of PPO \n",
    "# y4=valuewhen(oscMax, currenttrough5, 1) // identifies the value of PPO in the second most recent top of PPO \n",
    "\n",
    "# y7=valuewhen(oscMins, currenttrough4, 0) // identifies the value of PPO in the most recent bottom of PPO\n",
    "# y8=valuewhen(oscMins, currenttrough4, 1) // identifies the value of PPO in the SECOND most recent bottom of PPO\n",
    "\n",
    "# y9=valuewhen(oscMins, currenttrough6, 0)\n",
    "# y10=valuewhen(oscMax, currenttrough7, 0)\n",
    "\n",
    "# bulldiv= BottomPointsInPPO ? d[1] : na // plots dots at bottoms in the PPO\n",
    "# beardiv= TopPointsInPPO ? d[1]: na // plots dots at tops in the PPO\n",
    "\n",
    "# i = currenttrough5 < highest(d, div_lookback_period) // long term bearish oscilator divergence\n",
    "# i2 = y10 > long_term_bear_filt // long term bearish top divergence\n",
    "# i3 = delayedhigh > long_term_bear_filt // long term bearish delayedhigh divergence\n",
    "\n",
    "# i4 = currenttrough4 > lowest(d, div_lookback_period) // long term bullish osc divergence\n",
    "# i5 = y9 < long_term_bull_filt // long term bullish bottom div\n",
    "# i6 = delayedlow < long_term_bull_filt // long term bullish delayedbottom div\n",
    "\n",
    "\n",
    "# plot(0, color=gray)\n",
    "# plot(d, color=black)\n",
    "# plot(bulldiv, title = \"Bottoms\", color=maroon, style=circles, linewidth=3, offset= -1)\n",
    "# plot(beardiv, title = \"Tops\", color=green, style=circles, linewidth=3, offset= -1)\n",
    "\n",
    "# bearishdiv1 = (y10 > y2 and oscMax and y3 < y4) ? true : false\n",
    "# bearishdiv2 = (delayedhigh > y2 and y3 < y4) ? true : false\n",
    "# bearishdiv3 = (long_term_div and oscMax and i and i2) ? true : false\n",
    "# bearishdiv4 = (long_term_div and i and i3) ? true : false\n",
    "\n",
    "# bullishdiv1 = (y9 < y6 and oscMins and y7 > y8) ? true : false\n",
    "# bullishdiv2 = (delayedlow < y6 and y7 > y8) ? true : false\n",
    "# bullishdiv3 = (long_term_div and oscMins and i4 and i5) ? true : false\n",
    "# bullishdiv4 = (long_term_div and i4 and i6) ? true : false\n",
    "\n",
    "# bearish = bearishdiv1 or bearishdiv2 or bearishdiv3 or bearishdiv4\n",
    "# bullish = bullishdiv1 or bullishdiv2 or bullishdiv3 or bullishdiv4\n",
    " \n",
    "# greendot = beardiv != 0 ? true : false\n",
    "# reddot = bulldiv != 0 ? true : false\n",
    "\n",
    "# alertcondition( bearish, title=\"Bearish Signal (Orange Circle)\", message=\"Orange & Bearish: Short \" ) \n",
    "# alertcondition( bullish, title=\"Bullish Signal (Purple Circle)\", message=\"Purple & Bullish: Long \" )\n",
    "# alertcondition( greendot, title=\"PPO High (Green Dot)\", message=\"Green High Point: Short \" ) \n",
    "# alertcondition( reddot, title=\"PPO Low (Red Dot)\", message=\"Red Low Point: Long \" )\n",
    "\n",
    "# plot(y10>y2 and oscMax and y3 < y4 ? d :na, title = \"Bearish Divergence1\", color=orange, style= circles, linewidth=6)\n",
    "# plot(y9<y6 and oscMins and y7 > y8 ? d :na, title = \"Bullish Divergence1\", color=purple, style=circles, linewidth=6)\n",
    "# plot(delayedhigh>y2 and y3 < y4 ? d :na, title = \"Bearish Divergence2\", color=orange, style= circles, linewidth=6)\n",
    "# plot(delayedlow<y6 and y7 > y8 ? d :na, title = \"Bullish Divergence2\", color=purple, style=circles, linewidth=6)\n",
    "\n",
    "# plot(long_term_div and oscMax and i and i2 ? d :na, title = \"Bearish Divergence3\", color=orange, style= circles, linewidth=6)\n",
    "# plot(long_term_div and oscMins and i4 and i5 ? d : na, title = \"Bullish Divergence3\", color=purple, style=circles, linewidth=6)\n",
    "# plot(long_term_div and i and i3 ? d :na, title = \"Bearish Divergence4\", color=orange, style= circles, linewidth=6)\n",
    "# plot(long_term_div and i4 and i6 ? d : na, title = \"Bullish Divergence4\", color=purple, style=circles, linewidth=6)"
   ]
  }
 ],
 "metadata": {
  "interpreter": {
   "hash": "31f2aee4e71d21fbe5cf8b01ff0e069b9275f58929596ceb00d14d90e3e16cd6"
  },
  "kernelspec": {
   "display_name": "Python 3.10.6 64-bit",
   "language": "python",
   "name": "python3"
  },
  "language_info": {
   "codemirror_mode": {
    "name": "ipython",
    "version": 3
   },
   "file_extension": ".py",
   "mimetype": "text/x-python",
   "name": "python",
   "nbconvert_exporter": "python",
   "pygments_lexer": "ipython3",
   "version": "3.10.6"
  }
 },
 "nbformat": 4,
 "nbformat_minor": 5
}
