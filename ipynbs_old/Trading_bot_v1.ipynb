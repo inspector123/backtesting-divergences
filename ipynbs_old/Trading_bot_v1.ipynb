{
 "cells": [
  {
   "cell_type": "code",
   "execution_count": 4,
   "metadata": {},
   "outputs": [
    {
     "name": "stdout",
     "output_type": "stream",
     "text": [
      "2.3242719992461502\n",
      "1\n",
      "Rsi Below 30, Entering\n",
      "1.9995187981769504\n",
      "2\n",
      "0.2030154937984321\n",
      "1\n",
      "0.1245109037572405\n",
      "2\n",
      "0.0424450224230668\n",
      "1\n",
      "88.96196693197253\n",
      "2\n",
      "RSI Above 50, exiting\n",
      "97.75134598970675\n",
      "1\n",
      "48.71024282644568\n",
      "2\n",
      "80.80694293897206\n",
      "1\n",
      "45.951277297035084\n",
      "1\n",
      "14.55663130134414\n",
      "1\n",
      "Rsi Below 30, Entering\n",
      "73.92941970750967\n",
      "1\n",
      "RSI Above 50, exiting\n",
      "16.52277758877625\n",
      "1\n",
      "Rsi Below 30, Entering\n",
      "78.46276194770698\n",
      "2\n",
      "RSI Above 50, exiting\n",
      "94.2114494155123\n",
      "1\n",
      "94.2114494155123\n",
      "1\n",
      "98.53619957108262\n",
      "1\n",
      "60.72730648840358\n",
      "1\n",
      "82.76771787394847\n",
      "1\n",
      "99.12558247001655\n",
      "1\n",
      "99.12558247001655\n",
      "2\n",
      "99.8606206079863\n",
      "1\n",
      "63.996722527448824\n",
      "2\n",
      "83.61351054471942\n",
      "1\n",
      "3.6681526316302495\n",
      "2\n",
      "Rsi Below 30, Entering\n",
      "3.6681526316302495\n",
      "1\n",
      "82.24797167538237\n",
      "1\n",
      "RSI Above 50, exiting\n",
      "13.953766975169657\n",
      "2\n",
      "Rsi Below 30, Entering\n",
      "13.953766975169657\n",
      "1\n",
      "2.2779475881483506\n",
      "1\n",
      "2.2779475881483506\n",
      "2\n",
      "0.1625234480266755\n",
      "1\n",
      "57.08956450390802\n",
      "2\n",
      "RSI Above 50, exiting\n",
      "57.089564503908015\n",
      "1\n",
      "2.5810878920864866\n",
      "1\n",
      "Rsi Below 30, Entering\n",
      "57.14179714748226\n",
      "1\n",
      "RSI Above 50, exiting\n",
      "70.77954079089308\n",
      "1\n",
      "95.36435998875692\n",
      "2\n",
      "98.57084234409045\n",
      "1\n",
      "99.90365690757972\n",
      "2\n",
      "65.80816992064607\n",
      "1\n",
      "22.00337650974444\n",
      "1\n",
      "Rsi Below 30, Entering\n",
      "40.77584556380232\n",
      "1\n",
      "5.49671857879504\n",
      "1\n",
      "30.53776041330765\n",
      "1\n",
      "63.115786931921825\n",
      "1\n",
      "RSI Above 50, exiting\n",
      "96.91175260226123\n",
      "1\n",
      "96.91175260226123\n",
      "1\n",
      "99.72379007785904\n",
      "1\n",
      "99.72379007785904\n",
      "1\n",
      "18.688850409372165\n",
      "1\n",
      "Rsi Below 30, Entering\n",
      "57.2694751077613\n",
      "2\n",
      "RSI Above 50, exiting\n",
      "57.269475107761295\n",
      "1\n",
      "9.130953014471075\n",
      "2\n",
      "Rsi Below 30, Entering\n",
      "76.09886752161076\n",
      "1\n",
      "RSI Above 50, exiting\n",
      "76.09886752161076\n",
      "1\n",
      "97.39882033838518\n",
      "1\n",
      "99.73756451534251\n",
      "1\n",
      "99.93434238084222\n",
      "1\n",
      "99.9944502104449\n",
      "1\n",
      "34.745691434657445\n",
      "1\n",
      "14.726341174639458\n",
      "1\n",
      "Rsi Below 30, Entering\n",
      "5.0423013839698285\n",
      "1\n",
      "5.0423013839698285\n",
      "1\n",
      "5.0423013839698285\n",
      "1\n",
      "95.36439862581969\n",
      "1\n",
      "RSI Above 50, exiting\n",
      "97.4141097950452\n",
      "2\n",
      "39.37688229979808\n",
      "1\n",
      "94.45332939306526\n",
      "2\n",
      "98.62309197029437\n",
      "1\n",
      "65.69735130859924\n",
      "2\n",
      "65.69735130859924\n",
      "1\n",
      "65.69735130859922\n",
      "1\n",
      "99.3201997241843\n",
      "1\n",
      "99.62582929953152\n",
      "1\n",
      "99.62582929953152\n",
      "1\n",
      "99.99507224154847\n",
      "1\n",
      "16.545069866958244\n",
      "1\n",
      "Rsi Below 30, Entering\n",
      "4.839211513881111\n",
      "2\n",
      "2.6509948172530216\n",
      "1\n",
      "53.1216391954796\n",
      "2\n",
      "RSI Above 50, exiting\n",
      "65.16261370430232\n",
      "1\n",
      "96.90999814560539\n",
      "1\n",
      "77.33376817481857\n",
      "1\n",
      "77.33376817481857\n",
      "1\n",
      "4.627594397329631\n",
      "1\n",
      "Rsi Below 30, Entering\n",
      "0.9201341855315377\n",
      "1\n",
      "0.9201341855315377\n",
      "2\n"
     ]
    },
    {
     "ename": "KeyboardInterrupt",
     "evalue": "",
     "output_type": "error",
     "traceback": [
      "\u001b[1;31m---------------------------------------------------------------------------\u001b[0m",
      "\u001b[1;31mKeyboardInterrupt\u001b[0m                         Traceback (most recent call last)",
      "\u001b[1;32m<ipython-input-4-caca41ab744a>\u001b[0m in \u001b[0;36m<module>\u001b[1;34m()\u001b[0m\n\u001b[0;32m     21\u001b[0m \u001b[0mtime2\u001b[0m\u001b[1;33m=\u001b[0m\u001b[0mpd\u001b[0m\u001b[1;33m.\u001b[0m\u001b[0mSeries\u001b[0m\u001b[1;33m(\u001b[0m\u001b[0mdatetime\u001b[0m\u001b[1;33m.\u001b[0m\u001b[0mdatetime\u001b[0m\u001b[1;33m.\u001b[0m\u001b[0mnow\u001b[0m\u001b[1;33m(\u001b[0m\u001b[1;33m)\u001b[0m\u001b[1;33m.\u001b[0m\u001b[0mtimetuple\u001b[0m\u001b[1;33m(\u001b[0m\u001b[1;33m)\u001b[0m\u001b[1;33m)\u001b[0m\u001b[1;33m\u001b[0m\u001b[0m\n\u001b[0;32m     22\u001b[0m \u001b[1;32mwhile\u001b[0m \u001b[1;32mTrue\u001b[0m\u001b[1;33m:\u001b[0m\u001b[1;33m\u001b[0m\u001b[0m\n\u001b[1;32m---> 23\u001b[1;33m     \u001b[0mtime\u001b[0m\u001b[1;33m.\u001b[0m\u001b[0msleep\u001b[0m\u001b[1;33m(\u001b[0m\u001b[1;36m1\u001b[0m\u001b[1;33m)\u001b[0m\u001b[1;33m\u001b[0m\u001b[0m\n\u001b[0m\u001b[0;32m     24\u001b[0m     \u001b[0mt\u001b[0m \u001b[1;33m=\u001b[0m \u001b[0mpd\u001b[0m\u001b[1;33m.\u001b[0m\u001b[0mSeries\u001b[0m\u001b[1;33m(\u001b[0m\u001b[0mdatetime\u001b[0m\u001b[1;33m.\u001b[0m\u001b[0mdatetime\u001b[0m\u001b[1;33m.\u001b[0m\u001b[0mnow\u001b[0m\u001b[1;33m(\u001b[0m\u001b[1;33m)\u001b[0m\u001b[1;33m.\u001b[0m\u001b[0mtimetuple\u001b[0m\u001b[1;33m(\u001b[0m\u001b[1;33m)\u001b[0m\u001b[1;33m)\u001b[0m\u001b[1;33m\u001b[0m\u001b[0m\n\u001b[0;32m     25\u001b[0m     \u001b[1;32mif\u001b[0m \u001b[0mt\u001b[0m\u001b[1;33m[\u001b[0m\u001b[1;36m5\u001b[0m\u001b[1;33m]\u001b[0m \u001b[1;33m==\u001b[0m \u001b[1;36m0\u001b[0m \u001b[1;32mand\u001b[0m \u001b[0mn\u001b[0m \u001b[1;33m==\u001b[0m \u001b[1;36m0\u001b[0m\u001b[1;33m:\u001b[0m\u001b[1;33m\u001b[0m\u001b[0m\n",
      "\u001b[1;31mKeyboardInterrupt\u001b[0m: "
     ]
    }
   ],
   "source": [
    "## TIME POLLING ##\n",
    "import time\n",
    "import datetime\n",
    "import pandas as pd\n",
    "import numpy as np\n",
    "import csv\n",
    "import sys\n",
    "from settings import API_KEY, API_SECRET, API_BASE\n",
    "from lib.bitmex import BitMEX\n",
    "from lib import bitmex\n",
    "import BK\n",
    "\n",
    "low = 31\n",
    "high = 50\n",
    "boys_now = 1\n",
    "j = 0\n",
    "n = 0\n",
    "L = 10\n",
    "num = 10\n",
    "BK.Lev(L)\n",
    "time2=pd.Series(datetime.datetime.now().timetuple())\n",
    "while True:\n",
    "    time.sleep(1)\n",
    "    t = pd.Series(datetime.datetime.now().timetuple())\n",
    "    if t[5] == 0 and n == 0:\n",
    "        RSI = BK.rsi_ewma_pd(0.7)\n",
    "        n = 1\n",
    "    elif n == 1:\n",
    "        print(RSI)\n",
    "        n=0\n",
    "        print(t[5])\n",
    "        if RSI <= low and j == 0:\n",
    "            j = 1\n",
    "            print('Rsi Below 30, Entering')\n",
    "            BK.Short(L, num)\n",
    "            time2[5] = t[5]\n",
    "        elif RSI >= high and j == 1:\n",
    "            j = 0\n",
    "            print('RSI Above 50, exiting')\n",
    "            BK.EndSL()\n",
    "            time2[5] = t[5]\n",
    "    if t[5] == time2[5]+5 and j==1 and BK.Filled() == 'New':\n",
    "        BK.Cancel()\n",
    "        BK.Short(L, num)\n",
    "        print('Repositioning Short...')\n",
    "    if t[5] == time2[5]+5 and j==0 and BK.Filled() == 'New':\n",
    "        BK.Cancel()\n",
    "        BK.EndSL()\n",
    "        print('Repositioning Limit...')\n",
    "    else:\n",
    "        boys_now\n"
   ]
  },
  {
   "cell_type": "code",
   "execution_count": null,
   "metadata": {},
   "outputs": [],
   "source": [
    "#BK.rsi_ewma_pd(0.7)"
   ]
  },
  {
   "cell_type": "code",
   "execution_count": 12,
   "metadata": {},
   "outputs": [],
   "source": [
    "#RSI = BK.rsi_ewma_pd(0.7)"
   ]
  },
  {
   "cell_type": "code",
   "execution_count": 9,
   "metadata": {},
   "outputs": [
    {
     "data": {
      "text/plain": [
       "65.82072283808779"
      ]
     },
     "execution_count": 9,
     "metadata": {},
     "output_type": "execute_result"
    }
   ],
   "source": [
    "#BK.rsi_ewma_pd(0.7)"
   ]
  },
  {
   "cell_type": "code",
   "execution_count": 2,
   "metadata": {},
   "outputs": [],
   "source": [
    "\n",
    "## TIME POLLING ##\n",
    "#import time\n",
    "#import datetime\n",
    "#import pandas as pd\n",
    "#import numpy as np\n",
    "#import csv\n",
    "#import sys\n",
    "#from settings import API_KEY, API_SECRET, API_BASE\n",
    "#from lib.bitmex import BitMEX\n",
    "#from lib import bitmex\n",
    "#import BK\n",
    "#leverage = 10\n",
    "#BK.Lev(leverage)\n",
    "#BK.qty(leverage,  10)"
   ]
  },
  {
   "cell_type": "code",
   "execution_count": 10,
   "metadata": {},
   "outputs": [
    {
     "name": "stdout",
     "output_type": "stream",
     "text": [
      "77.61034531472379\n",
      "43.9339867227057\n",
      "58.823328553987004\n",
      "95.82058973444512\n"
     ]
    },
    {
     "ename": "KeyboardInterrupt",
     "evalue": "",
     "output_type": "error",
     "traceback": [
      "\u001b[1;31m---------------------------------------------------------------------------\u001b[0m",
      "\u001b[1;31mKeyboardInterrupt\u001b[0m                         Traceback (most recent call last)",
      "\u001b[1;32m<ipython-input-10-ae16d86f7b08>\u001b[0m in \u001b[0;36m<module>\u001b[1;34m()\u001b[0m\n\u001b[0;32m      1\u001b[0m \u001b[1;32mwhile\u001b[0m \u001b[1;32mTrue\u001b[0m\u001b[1;33m:\u001b[0m\u001b[1;33m\u001b[0m\u001b[0m\n\u001b[1;32m----> 2\u001b[1;33m     \u001b[0mtime\u001b[0m\u001b[1;33m.\u001b[0m\u001b[0msleep\u001b[0m\u001b[1;33m(\u001b[0m\u001b[1;36m1\u001b[0m\u001b[1;33m)\u001b[0m\u001b[1;33m\u001b[0m\u001b[0m\n\u001b[0m\u001b[0;32m      3\u001b[0m     \u001b[0mt\u001b[0m \u001b[1;33m=\u001b[0m \u001b[0mpd\u001b[0m\u001b[1;33m.\u001b[0m\u001b[0mSeries\u001b[0m\u001b[1;33m(\u001b[0m\u001b[0mdatetime\u001b[0m\u001b[1;33m.\u001b[0m\u001b[0mdatetime\u001b[0m\u001b[1;33m.\u001b[0m\u001b[0mnow\u001b[0m\u001b[1;33m(\u001b[0m\u001b[1;33m)\u001b[0m\u001b[1;33m.\u001b[0m\u001b[0mtimetuple\u001b[0m\u001b[1;33m(\u001b[0m\u001b[1;33m)\u001b[0m\u001b[1;33m)\u001b[0m\u001b[1;33m\u001b[0m\u001b[0m\n\u001b[0;32m      4\u001b[0m     \u001b[1;32mif\u001b[0m \u001b[0mt\u001b[0m\u001b[1;33m[\u001b[0m\u001b[1;36m5\u001b[0m\u001b[1;33m]\u001b[0m \u001b[1;33m==\u001b[0m \u001b[1;36m0\u001b[0m\u001b[1;33m:\u001b[0m\u001b[1;33m\u001b[0m\u001b[0m\n\u001b[0;32m      5\u001b[0m         \u001b[0mRSI\u001b[0m \u001b[1;33m=\u001b[0m \u001b[0mBK\u001b[0m\u001b[1;33m.\u001b[0m\u001b[0mrsi_ewma_pd\u001b[0m\u001b[1;33m(\u001b[0m\u001b[1;36m0.7\u001b[0m\u001b[1;33m)\u001b[0m\u001b[1;33m\u001b[0m\u001b[0m\n",
      "\u001b[1;31mKeyboardInterrupt\u001b[0m: "
     ]
    }
   ],
   "source": [
    "while True:\n",
    "    time.sleep(1)\n",
    "    t = pd.Series(datetime.datetime.now().timetuple())\n",
    "    if t[5] == 0:\n",
    "        RSI = BK.rsi_ewma_pd(0.7)\n",
    "        print(RSI)"
   ]
  },
  {
   "cell_type": "code",
   "execution_count": 24,
   "metadata": {},
   "outputs": [],
   "source": [
    "def getqty():\n",
    "    queryShort = {\n",
    "        'symbol': 'XBTUSD',\n",
    "        'count' : 1,\n",
    "        'reverse' : 'true'\n",
    "    }\n",
    "    data = pd.DataFrame(connector._curl_bitmex(path=\"order\", verb=\"GET\", query=queryShort, timeout=5))\n",
    "    qty = data.ordStatus[0]\n",
    "    return qty\n"
   ]
  },
  {
   "cell_type": "code",
   "execution_count": null,
   "metadata": {},
   "outputs": [],
   "source": [
    "#int(BK_FUNCTIONS.GetBalance()*BK_FUNCTIONS.GetOrderBookPrice()*10)-10"
   ]
  },
  {
   "cell_type": "code",
   "execution_count": 3,
   "metadata": {},
   "outputs": [
    {
     "data": {
      "text/plain": [
       "2.3242719992461502"
      ]
     },
     "execution_count": 3,
     "metadata": {},
     "output_type": "execute_result"
    }
   ],
   "source": [
    "BK.rsi_ewma_pd(0.7)"
   ]
  },
  {
   "cell_type": "code",
   "execution_count": 9,
   "metadata": {},
   "outputs": [
    {
     "data": {
      "text/plain": [
       "0.00324059"
      ]
     },
     "execution_count": 9,
     "metadata": {},
     "output_type": "execute_result"
    }
   ],
   "source": [
    "BK.Bal()"
   ]
  },
  {
   "cell_type": "code",
   "execution_count": 21,
   "metadata": {},
   "outputs": [
    {
     "data": {
      "text/plain": [
       "640"
      ]
     },
     "execution_count": 21,
     "metadata": {},
     "output_type": "execute_result"
    }
   ],
   "source": [
    "BK.qty(25, 15)"
   ]
  },
  {
   "cell_type": "code",
   "execution_count": 18,
   "metadata": {},
   "outputs": [
    {
     "data": {
      "text/plain": [
       "8292.5"
      ]
     },
     "execution_count": 18,
     "metadata": {},
     "output_type": "execute_result"
    }
   ],
   "source": [
    "BK.GOBP()"
   ]
  },
  {
   "cell_type": "code",
   "execution_count": null,
   "metadata": {},
   "outputs": [],
   "source": []
  },
  {
   "cell_type": "code",
   "execution_count": 4,
   "metadata": {},
   "outputs": [
    {
     "data": {
      "text/plain": [
       "'New'"
      ]
     },
     "execution_count": 4,
     "metadata": {},
     "output_type": "execute_result"
    }
   ],
   "source": [
    "\n",
    "BK.getqty()"
   ]
  },
  {
   "cell_type": "code",
   "execution_count": 3,
   "metadata": {},
   "outputs": [],
   "source": [
    "leverage = 1\n",
    "num = 3\n",
    "BK.ShortTest(leverage, num)"
   ]
  },
  {
   "cell_type": "code",
   "execution_count": 3,
   "metadata": {},
   "outputs": [
    {
     "name": "stdout",
     "output_type": "stream",
     "text": [
      "Repositioning Short...\n"
     ]
    },
    {
     "ename": "KeyboardInterrupt",
     "evalue": "",
     "output_type": "error",
     "traceback": [
      "\u001b[1;31m---------------------------------------------------------------------------\u001b[0m",
      "\u001b[1;31mKeyboardInterrupt\u001b[0m                         Traceback (most recent call last)",
      "\u001b[1;32m<ipython-input-3-f774f2ce7786>\u001b[0m in \u001b[0;36m<module>\u001b[1;34m()\u001b[0m\n\u001b[0;32m      4\u001b[0m \u001b[0mtime2\u001b[0m\u001b[1;33m=\u001b[0m\u001b[0mpd\u001b[0m\u001b[1;33m.\u001b[0m\u001b[0mSeries\u001b[0m\u001b[1;33m(\u001b[0m\u001b[0mdatetime\u001b[0m\u001b[1;33m.\u001b[0m\u001b[0mdatetime\u001b[0m\u001b[1;33m.\u001b[0m\u001b[0mnow\u001b[0m\u001b[1;33m(\u001b[0m\u001b[1;33m)\u001b[0m\u001b[1;33m.\u001b[0m\u001b[0mtimetuple\u001b[0m\u001b[1;33m(\u001b[0m\u001b[1;33m)\u001b[0m\u001b[1;33m)\u001b[0m\u001b[1;33m\u001b[0m\u001b[0m\n\u001b[0;32m      5\u001b[0m \u001b[1;32mwhile\u001b[0m \u001b[1;32mTrue\u001b[0m\u001b[1;33m:\u001b[0m\u001b[1;33m\u001b[0m\u001b[0m\n\u001b[1;32m----> 6\u001b[1;33m     \u001b[0mtime\u001b[0m\u001b[1;33m.\u001b[0m\u001b[0msleep\u001b[0m\u001b[1;33m(\u001b[0m\u001b[1;36m1\u001b[0m\u001b[1;33m)\u001b[0m\u001b[1;33m\u001b[0m\u001b[0m\n\u001b[0m\u001b[0;32m      7\u001b[0m     \u001b[0mt\u001b[0m \u001b[1;33m=\u001b[0m \u001b[0mpd\u001b[0m\u001b[1;33m.\u001b[0m\u001b[0mSeries\u001b[0m\u001b[1;33m(\u001b[0m\u001b[0mdatetime\u001b[0m\u001b[1;33m.\u001b[0m\u001b[0mdatetime\u001b[0m\u001b[1;33m.\u001b[0m\u001b[0mnow\u001b[0m\u001b[1;33m(\u001b[0m\u001b[1;33m)\u001b[0m\u001b[1;33m.\u001b[0m\u001b[0mtimetuple\u001b[0m\u001b[1;33m(\u001b[0m\u001b[1;33m)\u001b[0m\u001b[1;33m)\u001b[0m\u001b[1;33m\u001b[0m\u001b[0m\n\u001b[0;32m      8\u001b[0m     \u001b[1;32mif\u001b[0m \u001b[0mt\u001b[0m\u001b[1;33m[\u001b[0m\u001b[1;36m5\u001b[0m\u001b[1;33m]\u001b[0m \u001b[1;33m==\u001b[0m \u001b[0mtime2\u001b[0m\u001b[1;33m[\u001b[0m\u001b[1;36m5\u001b[0m\u001b[1;33m]\u001b[0m\u001b[1;33m+\u001b[0m\u001b[1;36m5\u001b[0m \u001b[1;32mand\u001b[0m \u001b[0mBK\u001b[0m\u001b[1;33m.\u001b[0m\u001b[0mFilled\u001b[0m\u001b[1;33m(\u001b[0m\u001b[1;33m)\u001b[0m \u001b[1;33m==\u001b[0m \u001b[1;34m'New'\u001b[0m\u001b[1;33m:\u001b[0m\u001b[1;33m\u001b[0m\u001b[0m\n",
      "\u001b[1;31mKeyboardInterrupt\u001b[0m: "
     ]
    }
   ],
   "source": [
    "leverage = 1\n",
    "num = 3\n",
    "BK.ShortTest(leverage, num)\n",
    "time2=pd.Series(datetime.datetime.now().timetuple())\n",
    "while True:\n",
    "    time.sleep(1)\n",
    "    t = pd.Series(datetime.datetime.now().timetuple())\n",
    "    if t[5] == time2[5]+5 and BK.Filled() == 'New':\n",
    "        BK.Cancel()\n",
    "        BK.Short(leverage, num)\n",
    "        print('Repositioning Short...')\n",
    "    "
   ]
  },
  {
   "cell_type": "code",
   "execution_count": null,
   "metadata": {},
   "outputs": [],
   "source": [
    "## For 25x num = 15"
   ]
  }
 ],
 "metadata": {
  "kernelspec": {
   "display_name": "Python [conda env:domdecarlo_353]",
   "language": "python",
   "name": "conda-env-domdecarlo_353-py"
  },
  "language_info": {
   "codemirror_mode": {
    "name": "ipython",
    "version": 3
   },
   "file_extension": ".py",
   "mimetype": "text/x-python",
   "name": "python",
   "nbconvert_exporter": "python",
   "pygments_lexer": "ipython3",
   "version": "3.5.3"
  }
 },
 "nbformat": 4,
 "nbformat_minor": 2
}
