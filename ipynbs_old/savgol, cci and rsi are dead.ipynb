{
 "cells": [
  {
   "cell_type": "code",
   "execution_count": null,
   "metadata": {},
   "outputs": [],
   "source": []
  },
  {
   "cell_type": "code",
   "execution_count": 1,
   "metadata": {},
   "outputs": [],
   "source": [
    "from __future__ import division\n",
    "import matplotlib.pyplot as plt\n",
    "import pandas as pd\n",
    "import numpy as np\n",
    "import argparse\n",
    "import json\n",
    "import csv\n",
    "import sys\n",
    "import time\n",
    "import datetime\n",
    "from lib import bitmex\n",
    "from lib.bitmex import BitMEX\n",
    "from settings import API_BASE, API_KEY, API_SECRET\n",
    "from numpy import mean,absolute \n",
    "import scipy as sp\n",
    "from scipy.stats import *\n",
    "from scipy.stats import skew, kurtosis\n",
    "from scipy.signal import *"
   ]
  },
  {
   "cell_type": "code",
   "execution_count": null,
   "metadata": {},
   "outputs": [],
   "source": []
  },
  {
   "cell_type": "code",
   "execution_count": null,
   "metadata": {},
   "outputs": [],
   "source": []
  },
  {
   "cell_type": "code",
   "execution_count": null,
   "metadata": {},
   "outputs": [],
   "source": [
    "plt.rcParams['figure.figsize'] = [20, 10]\n"
   ]
  },
  {
   "cell_type": "code",
   "execution_count": null,
   "metadata": {},
   "outputs": [],
   "source": []
  },
  {
   "cell_type": "code",
   "execution_count": null,
   "metadata": {},
   "outputs": [],
   "source": []
  },
  {
   "cell_type": "code",
   "execution_count": null,
   "metadata": {},
   "outputs": [],
   "source": []
  },
  {
   "cell_type": "code",
   "execution_count": null,
   "metadata": {},
   "outputs": [],
   "source": []
  },
  {
   "cell_type": "code",
   "execution_count": null,
   "metadata": {},
   "outputs": [],
   "source": []
  },
  {
   "cell_type": "code",
   "execution_count": null,
   "metadata": {},
   "outputs": [],
   "source": []
  },
  {
   "cell_type": "code",
   "execution_count": null,
   "metadata": {},
   "outputs": [],
   "source": []
  },
  {
   "cell_type": "code",
   "execution_count": null,
   "metadata": {},
   "outputs": [],
   "source": []
  },
  {
   "cell_type": "code",
   "execution_count": null,
   "metadata": {},
   "outputs": [],
   "source": []
  },
  {
   "cell_type": "code",
   "execution_count": null,
   "metadata": {},
   "outputs": [],
   "source": []
  },
  {
   "cell_type": "code",
   "execution_count": null,
   "metadata": {},
   "outputs": [],
   "source": []
  },
  {
   "cell_type": "code",
   "execution_count": null,
   "metadata": {},
   "outputs": [],
   "source": []
  },
  {
   "cell_type": "code",
   "execution_count": null,
   "metadata": {},
   "outputs": [],
   "source": []
  },
  {
   "cell_type": "code",
   "execution_count": null,
   "metadata": {},
   "outputs": [],
   "source": []
  },
  {
   "cell_type": "code",
   "execution_count": null,
   "metadata": {},
   "outputs": [],
   "source": []
  },
  {
   "cell_type": "code",
   "execution_count": null,
   "metadata": {},
   "outputs": [],
   "source": []
  },
  {
   "cell_type": "code",
   "execution_count": null,
   "metadata": {},
   "outputs": [],
   "source": []
  },
  {
   "cell_type": "code",
   "execution_count": null,
   "metadata": {},
   "outputs": [],
   "source": []
  },
  {
   "cell_type": "code",
   "execution_count": null,
   "metadata": {},
   "outputs": [],
   "source": [
    "\n"
   ]
  },
  {
   "cell_type": "code",
   "execution_count": null,
   "metadata": {},
   "outputs": [],
   "source": []
  },
  {
   "cell_type": "code",
   "execution_count": null,
   "metadata": {},
   "outputs": [],
   "source": []
  },
  {
   "cell_type": "code",
   "execution_count": null,
   "metadata": {},
   "outputs": [],
   "source": []
  },
  {
   "cell_type": "code",
   "execution_count": null,
   "metadata": {},
   "outputs": [],
   "source": [
    "1/leverage+1"
   ]
  },
  {
   "cell_type": "code",
   "execution_count": null,
   "metadata": {},
   "outputs": [],
   "source": []
  },
  {
   "cell_type": "code",
   "execution_count": null,
   "metadata": {},
   "outputs": [],
   "source": []
  },
  {
   "cell_type": "code",
   "execution_count": null,
   "metadata": {},
   "outputs": [],
   "source": []
  },
  {
   "cell_type": "code",
   "execution_count": null,
   "metadata": {},
   "outputs": [],
   "source": [
    "time2=pd.Series(datetime.datetime.now().timetuple())\n",
    "df1 = pd.read_csv(name)\n",
    "df_all = pd.DataFrame(df1)\n",
    "df_all = pd.DataFrame(df_all.values[::-1], df_all.index, df_all.columns) # turn around data\n",
    "\n",
    "\n",
    "close = pd.Series(df_all['close'])\n",
    "high = pd.Series(df_all['high'])\n",
    "low = pd.Series(df_all['low'])#close values "
   ]
  },
  {
   "cell_type": "code",
   "execution_count": 57,
   "metadata": {},
   "outputs": [
    {
     "data": {
      "text/plain": [
       "0          9567\n",
       "10         9562\n",
       "20         9561\n",
       "30       9566.5\n",
       "40         9557\n",
       "50       9500.5\n",
       "60       9544.5\n",
       "70       9537.5\n",
       "80         9500\n",
       "90       9498.5\n",
       "100        9515\n",
       "110      9479.5\n",
       "120        9480\n",
       "130        9470\n",
       "140      9468.5\n",
       "150      9536.5\n",
       "160        9517\n",
       "170        9499\n",
       "180        9532\n",
       "190      9553.5\n",
       "200      9553.5\n",
       "210      9519.5\n",
       "220      9520.5\n",
       "230        9526\n",
       "240        9532\n",
       "250      9529.5\n",
       "260        9520\n",
       "270      9570.5\n",
       "280        9566\n",
       "290      9593.5\n",
       "          ...  \n",
       "43200      7597\n",
       "43210      7627\n",
       "43220    7615.5\n",
       "43230    7634.5\n",
       "43240      7627\n",
       "43250    7629.5\n",
       "43260    7633.5\n",
       "43270    7637.5\n",
       "43280    7627.5\n",
       "43290      7624\n",
       "43300      7628\n",
       "43310      7629\n",
       "43320      7621\n",
       "43330      7619\n",
       "43340      7628\n",
       "43350      7624\n",
       "43360    7621.5\n",
       "43370    7623.5\n",
       "43380      7629\n",
       "43390      7630\n",
       "43400    7637.5\n",
       "43410      7635\n",
       "43420      7633\n",
       "43430    7601.5\n",
       "43440      7611\n",
       "43450    7606.5\n",
       "43460      7602\n",
       "43470    7609.5\n",
       "43480    7608.5\n",
       "43490      7613\n",
       "Name: close, Length: 4350, dtype: object"
      ]
     },
     "execution_count": 57,
     "metadata": {},
     "output_type": "execute_result"
    }
   ],
   "source": [
    "close"
   ]
  },
  {
   "cell_type": "code",
   "execution_count": null,
   "metadata": {},
   "outputs": [],
   "source": [
    "np.delete(price, np.s_[k::], 0)"
   ]
  },
  {
   "cell_type": "code",
   "execution_count": 150,
   "metadata": {},
   "outputs": [
    {
     "name": "stdout",
     "output_type": "stream",
     "text": [
      "0.9645224655039925\n"
     ]
    },
    {
     "data": {
      "image/png": "[encoded data removed]",
      "text/plain": [
       "<Figure size 1440x720 with 5 Axes>"
      ]
     },
     "metadata": {},
     "output_type": "display_data"
    }
   ],
   "source": [
    "time2=pd.Series(datetime.datetime.now().timetuple())\n",
    "df1 = pd.read_csv(name)\n",
    "df_all = pd.DataFrame(df1)\n",
    "df_all = pd.DataFrame(df_all.values[::-1], df_all.index, df_all.columns) # turn around data\n",
    "close = pd.Series(df_all['close'])\n",
    "n = 10\n",
    "close = pd.Series(close.values[::n])\n",
    "l = len(close)\n",
    "length = l\n",
    "X =0\n",
    "X2 = abs(X-1)\n",
    "hi = 1\n",
    "lo = 99\n",
    "alpha1 = -1\n",
    "alpha2 = 1-alpha1\n",
    "beta1 = 1\n",
    "beta2 = 1-beta1\n",
    "rsi_len = 10\n",
    "change_close = pd.Series(np.zeros(l))\n",
    "gain = pd.Series(np.zeros(l))\n",
    "loss = pd.Series(np.zeros(l))\n",
    "smagain = pd.Series(np.zeros(l))\n",
    "smaloss = pd.Series(np.zeros(l))\n",
    "RS = pd.Series(np.zeros(l))\n",
    "rsi = pd.Series(np.zeros(l))\n",
    "dRdt = pd.Series(np.zeros(l))\n",
    "dR2dt = pd.Series(np.zeros(l))\n",
    "for i in range(n+100,l):   \n",
    "    #print(close[i])\n",
    "    change_close[i] = close[i]-close[i-1]\n",
    "    if change_close[i] > 0:\n",
    "        gain[i] = change_close[i]\n",
    "    elif change_close[i] < 0:\n",
    "        loss[i] = change_close[i]*-1\n",
    "    elif change_close[i] == 0.00000:\n",
    "        loss[i] = 0\n",
    "        gain[i] = 0\n",
    "    if i == rsi_len:   \n",
    "        smagain[rsi_len] = gain[i-rsi_len:i].sum()/rsi_len\n",
    "        smaloss[rsi_len] = loss[i-rsi_len:i].sum()/rsi_len\n",
    "    elif i > rsi_len: \n",
    "        smagain[i] = alpha1*smagain[i-1] + alpha2*gain[i]\n",
    "        smaloss[i] = beta1*smaloss[i-1] + beta2*loss[i]\n",
    "        if smaloss[i] == 0:\n",
    "            rsi[i] = 100\n",
    "        else:\n",
    "            RS[i] = smagain[i]/smaloss[i]\n",
    "            rsi[i] = 100 - 100/(1+RS[i])\n",
    "           #print(RSIclose[i])\n",
    "RSI102 = pd.Series(np.zeros(l))\n",
    "win_len = 500\n",
    "## Short Only ##  (Why is it backwards???)\n",
    "leverage = 25\n",
    "d = 0 #count variable\n",
    "j = 0 #count variable\n",
    "k = 0  #count variable\n",
    "liq = 0  #count variable\n",
    "price = np.zeros((l, 9))\n",
    "var = RSI100\n",
    "for i in range(n+100, l):\n",
    "    if (var[i] < lo and j == 0):\n",
    "        j = 1\n",
    "        price[k, 0] = close[i]\n",
    "        price[k, 2] = i\n",
    "        price[k, 5] = var[i]\n",
    "    elif j == 1 and high[i] > (1/leverage+1)*price[k,0]:\n",
    "        liq +=1\n",
    "        price[k, 1] = close[i]\n",
    "        price[k, 3] = i\n",
    "        j = 0\n",
    "        k = k+1\n",
    "    elif j == 1 and close[i] > (1/leverage/2 + 1)*price[k,0]:\n",
    "        price[k, 1] = close[i]\n",
    "        price[k, 3] = i\n",
    "        j = 0\n",
    "        k = k+1\n",
    "        d +=1\n",
    "    elif (var[i] > hi) and (j==1):\n",
    "        #mat[j,k] = RSIclose[i]\n",
    "        price[k, 3] = i\n",
    "        price[k, 1] = close[i]\n",
    "        price[k, 6] = var[i]\n",
    "        j = 0\n",
    "        k = k+1\n",
    "   # d = 1\n",
    "price = np.delete(price, np.s_[k::], 0)\n",
    "pnl = np.ones(len(price))\n",
    "pnlT = np.ones(len(price))\n",
    "p = 0 ##ignore\n",
    "p2 = abs(p-1) #ignore\n",
    "count = 0\n",
    "for i in range(0, len(price)-1):\n",
    "    check = (price[i,X]/price[i,X2]-1-.00075*2)*leverage\n",
    "    if check > 1:\n",
    "        p = 1\n",
    "        p2 = abs(p-1)\n",
    "    else:\n",
    "        p = 0\n",
    "        p2 = abs(p-1)\n",
    "    pnl[i+1] = (p2+(price[i,X]/price[i,X2]-1-.00075*2)*leverage) \n",
    "    pnlT[i+1] = pnlT[i]*(p2+(price[i,X]/price[i,X2]-1-.00075*2)*leverage)\n",
    "    price[i, 4] = price[i,3]-price[i,2]\n",
    "    price[i, 7] = pnl[i+1]\n",
    "    price[i, 8] = pnlT[i+1]\n",
    "    k = i\n",
    "J = np.arange(1, l)\n",
    "plt.subplot(5,1,5)\n",
    "n, bins, patches = plt.hist(pnl, 500, density=False, facecolor='g', alpha=0.85)\n",
    "plt.subplot(5,1,4)\n",
    "plt.plot(range(1,len(pnl)+1),pnl, label='Boys per Time')\n",
    "plt.subplot(5,1,3)\n",
    "#plt.plot(range())\n",
    "plt.plot(range(1,len(pnl)+1),pnlT, label='Boys per Time')\n",
    "plt.subplot(5,1,2)\n",
    "#plt.plot(range())\n",
    "plt.plot(J, var[J])\n",
    "plt.subplot(5,1,1)\n",
    "#plt.plot(range())\n",
    "plt.plot(J, close[J])\n",
    "\n",
    "\n",
    "## change into DataFrames ##\n",
    "\n",
    "price = pd.DataFrame(price)\n",
    "print(np.average(pnl))\n",
    "#print(np.average(price.iloc[:,4]))\n",
    "#print(liq)\n",
    "#print(pnlT[-1:])\n",
    "plt.show()"
   ]
  },
  {
   "cell_type": "code",
   "execution_count": null,
   "metadata": {},
   "outputs": [],
   "source": [
    "smaloss"
   ]
  },
  {
   "cell_type": "code",
   "execution_count": null,
   "metadata": {},
   "outputs": [],
   "source": [
    "priceDF = pd.DataFrame(price)"
   ]
  },
  {
   "cell_type": "code",
   "execution_count": null,
   "metadata": {},
   "outputs": [],
   "source": [
    "length"
   ]
  },
  {
   "cell_type": "code",
   "execution_count": null,
   "metadata": {},
   "outputs": [],
   "source": [
    "print(100)"
   ]
  },
  {
   "cell_type": "code",
   "execution_count": null,
   "metadata": {},
   "outputs": [],
   "source": [
    "price.iloc[50, 3]"
   ]
  },
  {
   "cell_type": "code",
   "execution_count": null,
   "metadata": {},
   "outputs": [],
   "source": [
    "len(close)"
   ]
  },
  {
   "cell_type": "code",
   "execution_count": null,
   "metadata": {},
   "outputs": [],
   "source": [
    "close[27]"
   ]
  },
  {
   "cell_type": "code",
   "execution_count": null,
   "metadata": {},
   "outputs": [],
   "source": []
  },
  {
   "cell_type": "code",
   "execution_count": null,
   "metadata": {},
   "outputs": [],
   "source": [
    "print(CCI)"
   ]
  },
  {
   "cell_type": "code",
   "execution_count": null,
   "metadata": {},
   "outputs": [],
   "source": [
    "name"
   ]
  },
  {
   "cell_type": "code",
   "execution_count": null,
   "metadata": {
    "scrolled": true
   },
   "outputs": [],
   "source": [
    "price.loc[52, 'time']"
   ]
  },
  {
   "cell_type": "code",
   "execution_count": null,
   "metadata": {
    "scrolled": true
   },
   "outputs": [],
   "source": [
    "print(pd.DataFrame(CCIAli105B))"
   ]
  },
  {
   "cell_type": "code",
   "execution_count": null,
   "metadata": {},
   "outputs": [],
   "source": [
    "4.579964*1.5759"
   ]
  },
  {
   "cell_type": "code",
   "execution_count": null,
   "metadata": {},
   "outputs": [],
   "source": []
  },
  {
   "cell_type": "code",
   "execution_count": null,
   "metadata": {},
   "outputs": [],
   "source": [
    "(7544/7416 - 1-.00075*2)*100"
   ]
  },
  {
   "cell_type": "code",
   "execution_count": null,
   "metadata": {},
   "outputs": [],
   "source": []
  },
  {
   "cell_type": "code",
   "execution_count": null,
   "metadata": {},
   "outputs": [],
   "source": [
    "price.iloc[25, 1]"
   ]
  },
  {
   "cell_type": "code",
   "execution_count": null,
   "metadata": {},
   "outputs": [],
   "source": [
    "high[price]"
   ]
  },
  {
   "cell_type": "code",
   "execution_count": null,
   "metadata": {},
   "outputs": [],
   "source": [
    "1+1/leverage"
   ]
  },
  {
   "cell_type": "code",
   "execution_count": null,
   "metadata": {},
   "outputs": [],
   "source": [
    "np.where(pnlT>10)"
   ]
  },
  {
   "cell_type": "code",
   "execution_count": null,
   "metadata": {},
   "outputs": [],
   "source": [
    "np.where(pnlT>1000)"
   ]
  },
  {
   "cell_type": "code",
   "execution_count": null,
   "metadata": {},
   "outputs": [],
   "source": [
    "price.loc[31, 'time']"
   ]
  },
  {
   "cell_type": "code",
   "execution_count": null,
   "metadata": {},
   "outputs": [],
   "source": [
    "d"
   ]
  },
  {
   "cell_type": "code",
   "execution_count": null,
   "metadata": {},
   "outputs": [],
   "source": []
  },
  {
   "cell_type": "code",
   "execution_count": null,
   "metadata": {},
   "outputs": [],
   "source": [
    "price.loc[71, 'time']"
   ]
  },
  {
   "cell_type": "code",
   "execution_count": null,
   "metadata": {},
   "outputs": [],
   "source": []
  },
  {
   "cell_type": "code",
   "execution_count": null,
   "metadata": {},
   "outputs": [],
   "source": []
  },
  {
   "cell_type": "code",
   "execution_count": null,
   "metadata": {},
   "outputs": [],
   "source": [
    "\n"
   ]
  },
  {
   "cell_type": "code",
   "execution_count": null,
   "metadata": {},
   "outputs": [],
   "source": []
  },
  {
   "cell_type": "code",
   "execution_count": null,
   "metadata": {},
   "outputs": [],
   "source": []
  },
  {
   "cell_type": "code",
   "execution_count": null,
   "metadata": {},
   "outputs": [],
   "source": []
  },
  {
   "cell_type": "code",
   "execution_count": null,
   "metadata": {},
   "outputs": [],
   "source": []
  },
  {
   "cell_type": "code",
   "execution_count": null,
   "metadata": {},
   "outputs": [],
   "source": []
  },
  {
   "cell_type": "code",
   "execution_count": null,
   "metadata": {},
   "outputs": [],
   "source": []
  },
  {
   "cell_type": "code",
   "execution_count": null,
   "metadata": {},
   "outputs": [],
   "source": []
  },
  {
   "cell_type": "code",
   "execution_count": null,
   "metadata": {},
   "outputs": [],
   "source": []
  },
  {
   "cell_type": "code",
   "execution_count": null,
   "metadata": {},
   "outputs": [],
   "source": []
  },
  {
   "cell_type": "code",
   "execution_count": null,
   "metadata": {},
   "outputs": [],
   "source": []
  },
  {
   "cell_type": "code",
   "execution_count": null,
   "metadata": {},
   "outputs": [],
   "source": [
    "name"
   ]
  },
  {
   "cell_type": "code",
   "execution_count": null,
   "metadata": {},
   "outputs": [],
   "source": [
    "high[-1:]"
   ]
  },
  {
   "cell_type": "code",
   "execution_count": null,
   "metadata": {},
   "outputs": [],
   "source": [
    "high[10:95]"
   ]
  },
  {
   "cell_type": "code",
   "execution_count": null,
   "metadata": {},
   "outputs": [],
   "source": []
  },
  {
   "cell_type": "code",
   "execution_count": null,
   "metadata": {},
   "outputs": [],
   "source": [
    "## CCI and RSI init only ##\n",
    "time2=pd.Series(datetime.datetime.now().timetuple())\n",
    "df1 = pd.read_csv(name)\n",
    "df_all = pd.DataFrame(df1)\n",
    "df_all = pd.DataFrame(df_all.values[::-1], df_all.index, df_all.columns) # turn around data\n",
    "\n",
    "\n",
    "close = pd.Series(df_all['close'])\n",
    "high = pd.Series(df_all['high'])\n",
    "low = pd.Series(df_all['low'])#close values \n",
    "\n"
   ]
  },
  {
   "cell_type": "code",
   "execution_count": null,
   "metadata": {},
   "outputs": [],
   "source": [
    "print(np.mean(CCIAli106))"
   ]
  },
  {
   "cell_type": "code",
   "execution_count": null,
   "metadata": {},
   "outputs": [],
   "source": []
  },
  {
   "cell_type": "code",
   "execution_count": null,
   "metadata": {},
   "outputs": [],
   "source": []
  },
  {
   "cell_type": "code",
   "execution_count": null,
   "metadata": {},
   "outputs": [],
   "source": [
    "for i in range(cci_len, len(close)):\n",
    "    CCIAli105[i] = sp.signal.savgol_filter(CCI[])"
   ]
  },
  {
   "cell_type": "code",
   "execution_count": null,
   "metadata": {},
   "outputs": [],
   "source": [
    "CCIAli105B[95:]"
   ]
  },
  {
   "cell_type": "code",
   "execution_count": null,
   "metadata": {},
   "outputs": [],
   "source": [
    "J = np.arange(1,length)\n",
    "plt.subplot(3, 1, 1)\n",
    "plt.plot(J, CCIAli106A[J])\n",
    "plt.subplot(3, 1, 2)\n",
    "plt.plot(J, CCIAli106[J])\n",
    "plt.subplot(3, 1, 3)\n",
    "plt.plot(J, CCIAli105B[J])"
   ]
  },
  {
   "cell_type": "code",
   "execution_count": null,
   "metadata": {},
   "outputs": [],
   "source": [
    "def mad(data):\n",
    "    return mean(absolute(data-mean(data)))\n",
    "\n",
    "\n",
    "def mad2(data1, data2):\n",
    "    return mean(absolute(data1 - data2))"
   ]
  },
  {
   "cell_type": "code",
   "execution_count": null,
   "metadata": {},
   "outputs": [],
   "source": []
  },
  {
   "cell_type": "code",
   "execution_count": null,
   "metadata": {},
   "outputs": [],
   "source": []
  },
  {
   "cell_type": "code",
   "execution_count": null,
   "metadata": {},
   "outputs": [],
   "source": [
    "M = 30/5\n",
    "name = '1440_30_5m_Jun7.csv'\n",
    "dl5m(1440*M, name)"
   ]
  },
  {
   "cell_type": "code",
   "execution_count": null,
   "metadata": {},
   "outputs": [],
   "source": [
    "name = '1440_5m_Jun3.csv'"
   ]
  },
  {
   "cell_type": "code",
   "execution_count": null,
   "metadata": {},
   "outputs": [],
   "source": [
    "name = '1440_30_1m_Jun5.csv'"
   ]
  },
  {
   "cell_type": "code",
   "execution_count": 2,
   "metadata": {},
   "outputs": [],
   "source": [
    "name = '1440_7_Jun3.csv'"
   ]
  },
  {
   "cell_type": "code",
   "execution_count": null,
   "metadata": {},
   "outputs": [],
   "source": [
    "name = '500J3.csv'"
   ]
  },
  {
   "cell_type": "code",
   "execution_count": null,
   "metadata": {},
   "outputs": [],
   "source": []
  },
  {
   "cell_type": "code",
   "execution_count": null,
   "metadata": {},
   "outputs": [],
   "source": [
    "dlshort_cci(500, '500J3_2.csv')"
   ]
  },
  {
   "cell_type": "code",
   "execution_count": null,
   "metadata": {},
   "outputs": [],
   "source": [
    "def dl_st(name):\n",
    "    # Create connector\n",
    "    connector = bitmex.BitMEX(base_url=API_BASE)\n",
    "\n",
    "    # Do trade history query\n",
    "    path = \"trade/bucketed?binSize=1m&symbol=XBTUSD&columns=symbol%2C%20timestamp%2C%20close%2C%20high%2C%20low&startTime=2018-06-05T05%3A10%3A00.000Z\"\n",
    "    count = 500  # max API will allow\n",
    "    query = {\n",
    "        'reverse': 'true',\n",
    "        'start': 0,\n",
    "        'count': count,\n",
    "        }\n",
    "\n",
    "    csvwriter = None\n",
    "    with open(name, 'w+') as f:\n",
    "        while True:\n",
    "            data = connector._curl_bitmex(path=path, verb=\"GET\", query=query, timeout=5)\n",
    "            if csvwriter is None:\n",
    "                # csv requires dict keys\n",
    "                if len(data) == 0:\n",
    "                    break\n",
    "                keys = sorted(data[0].keys())\n",
    "                # Write to stdout\n",
    "                csvwriter = csv.DictWriter(f, fieldnames=keys)\n",
    "                csvwriter.writeheader()\n",
    "\n",
    "            csvwriter.writerows(data)\n",
    "            query['start'] += count\n",
    "            #if query['start'] > num-1:\n",
    "            #    break\n",
    "            if len(data) < count:\n",
    "                break\n",
    "    df1 = pd.read_csv(name)\n",
    "    df_all = pd.DataFrame(df1)\n",
    "    df_all = pd.DataFrame(df_all.values[::-1], df_all.index, df_all.columns) # turn around data\n",
    "\n",
    "    close = pd.Series(df_all['close'])\n",
    "    high = pd.Series(df_all['high'])\n",
    "    low = pd.Series(df_all['low'])#close values \n",
    "    l = len(close)\n",
    "    CCI = pd.Series(np.zeros(l))\n",
    "    SMA = pd.Series(np.zeros(l))\n",
    "    madmat = pd.Series(np.zeros(l))\n",
    "    cci_len=95\n",
    "    TP = (high+low+close)/3\n",
    "    for i in range(cci_len, len(close)):\n",
    "        SMA[i] = TP[i-cci_len:i].sum()/cci_len\n",
    "        madmat[i] = mad(TP[i-cci_len:i])\n",
    "        CCI[i] = (TP[i]-SMA[i])/(.015*madmat[i])\n",
    "    j = 0\n",
    "    k = 0\n",
    "    CCI_500 = sp.signal.savgol_filter(CCI, 105, 3)\n",
    "    cci500df = pd.DataFrame(CCI_500)\n",
    "    print(cci500df)"
   ]
  },
  {
   "cell_type": "code",
   "execution_count": null,
   "metadata": {},
   "outputs": [],
   "source": [
    "dl_starttime('boysnow.csv')"
   ]
  },
  {
   "cell_type": "code",
   "execution_count": null,
   "metadata": {},
   "outputs": [],
   "source": [
    "dl_starttime('boysnow.csv')"
   ]
  },
  {
   "cell_type": "code",
   "execution_count": null,
   "metadata": {},
   "outputs": [],
   "source": [
    "def dl1m(start, end,name):\n",
    "    # Create connector\n",
    "    connector = bitmex.BitMEX(base_url=API_BASE)\n",
    "\n",
    "    # Do trade history query\n",
    "    path = \"trade/bucketed?binSize=1m&symbol=XBTUSD&columns=symbol%2C%20timestamp%2C%20close%2C%20high%2C%20low\"\n",
    "    count = 500  # max API will allow\n",
    "    query = {\n",
    "        'reverse': 'true',\n",
    "        'start': start,\n",
    "        'count': count,\n",
    "        }\n",
    "\n",
    "    csvwriter = None\n",
    "    with open(name, 'w+') as f:\n",
    "        while True:\n",
    "            data = connector._curl_bitmex(path=path, verb=\"GET\", query=query, timeout=5)\n",
    "            if csvwriter is None:\n",
    "                # csv requires dict keys\n",
    "                if len(data) == 0:\n",
    "                    break\n",
    "                keys = sorted(data[0].keys())\n",
    "                # Write to stdout\n",
    "                csvwriter = csv.DictWriter(f, fieldnames=keys)\n",
    "                csvwriter.writeheader()\n",
    "\n",
    "            csvwriter.writerows(data)\n",
    "            #data2 = pd.DataFrame\n",
    "            query['start'] += count\n",
    "            if query['start'] > end:\n",
    "                break\n",
    "            if len(data) < count:\n",
    "                break"
   ]
  },
  {
   "cell_type": "code",
   "execution_count": null,
   "metadata": {},
   "outputs": [],
   "source": [
    "def dl5m(num,name):\n",
    "    # Create connector\n",
    "    connector = bitmex.BitMEX(base_url=API_BASE)\n",
    "\n",
    "    # Do trade history query\n",
    "    path = \"trade/bucketed?binSize=5m&symbol=XBTUSD&columns=symbol%2C%20timestamp%2C%20close%2C%20high%2C%20low\"\n",
    "    count = 500  # max API will allow\n",
    "    query = {\n",
    "        'reverse': 'true',\n",
    "        'start': 0,\n",
    "        'count': count,\n",
    "        }\n",
    "\n",
    "    csvwriter = None\n",
    "    with open(name, 'w+') as f:\n",
    "        while True:\n",
    "            data = connector._curl_bitmex(path=path, verb=\"GET\", query=query, timeout=5)\n",
    "            if csvwriter is None:\n",
    "                # csv requires dict keys\n",
    "                if len(data) == 0:\n",
    "                    break\n",
    "                keys = sorted(data[0].keys())\n",
    "                # Write to stdout\n",
    "                csvwriter = csv.DictWriter(f, fieldnames=keys)\n",
    "                csvwriter.writeheader()\n",
    "\n",
    "            csvwriter.writerows(data)\n",
    "            #data2 = pd.DataFrame\n",
    "            query['start'] += count\n",
    "            if query['start'] > num:\n",
    "                break\n",
    "            if len(data) < count:\n",
    "                break"
   ]
  },
  {
   "cell_type": "code",
   "execution_count": null,
   "metadata": {},
   "outputs": [],
   "source": [
    "boys_now = 1\n",
    "\n",
    "while True:\n",
    "    time.sleep(1)\n",
    "    t = pd.Series(datetime.datetime.now().timetuple())\n",
    "    if t[5] == 0:\n",
    "        dlCCI1m(900, '1440j3_try.csv')\n",
    "        \n",
    "    else:\n",
    "        boys_now\n"
   ]
  },
  {
   "cell_type": "code",
   "execution_count": null,
   "metadata": {},
   "outputs": [],
   "source": [
    "dlshortCCI(500, '500J3_10.csv')"
   ]
  },
  {
   "cell_type": "code",
   "execution_count": null,
   "metadata": {},
   "outputs": [],
   "source": [
    "dlCCI(1440, '1440j3_try.csv')"
   ]
  },
  {
   "cell_type": "code",
   "execution_count": null,
   "metadata": {},
   "outputs": [],
   "source": [
    "name = '1440_30_1m_Jun7.csv'\n",
    "dl1m(1440*30,1440*60, name)"
   ]
  },
  {
   "cell_type": "code",
   "execution_count": null,
   "metadata": {},
   "outputs": [],
   "source": [
    "name = '1440_30_1m_Jun5.csv'"
   ]
  },
  {
   "cell_type": "code",
   "execution_count": null,
   "metadata": {},
   "outputs": [],
   "source": [
    "pd.set_option('display.max_rows',6000)"
   ]
  },
  {
   "cell_type": "code",
   "execution_count": null,
   "metadata": {},
   "outputs": [],
   "source": [
    "alpha1 = 0.5\n",
    "alpha2 = 1-alpha1\n",
    "beta1 = 0.95\n",
    "beta2 = 1-beta1\n",
    "rsi_len = 50\n",
    "change_close = pd.Series(np.zeros(l))\n",
    "gain = pd.Series(np.zeros(l))\n",
    "loss = pd.Series(np.zeros(l))\n",
    "smagain = pd.Series(np.zeros(l))\n",
    "smaloss = pd.Series(np.zeros(l))\n",
    "RS = pd.Series(np.zeros(l))\n",
    "RSI100 = pd.Series(np.zeros(l))\n",
    "dRdt = pd.Series(np.zeros(l))\n",
    "dR2dt = pd.Series(np.zeros(l))\n",
    "for i in range(1,length):   \n",
    "    #print(close[i])\n",
    "    change_close[i] = close[i]-close[i-1]\n",
    "    if change_close[i] > 0:\n",
    "        gain[i] = change_close[i]\n",
    "    elif change_close[i] < 0:\n",
    "        loss[i] = change_close[i]*-1\n",
    "    elif change_close[i] == 0.00000:\n",
    "        loss[i] = 0\n",
    "        gain[i] = 0\n",
    "    if i == rsi_len:   \n",
    "        smagain[rsi_len] = gain[i-rsi_len:i].sum()/rsi_len\n",
    "        smaloss[rsi_len] = loss[i-rsi_len:i].sum()/rsi_len\n",
    "    elif i > rsi_len: \n",
    "        smagain[i] = alpha1*smagain[i-1] + alpha2*gain[i]\n",
    "        smaloss[i] = beta1*smagain[i-1] + beta2*gain[i]\n",
    "        if smaloss[i] == 0:\n",
    "            RSI100[i] = 100\n",
    "        else:\n",
    "            RS[i] = smagain[i]/smaloss[i]\n",
    "            RSI100[i] = 100 - 100/(1+RS[i])\n",
    "           #print(RSIclose[i])"
   ]
  },
  {
   "cell_type": "code",
   "execution_count": null,
   "metadata": {},
   "outputs": [],
   "source": [
    "fil = sp.signal.savgol_filter(RSI100, 105, 3)"
   ]
  },
  {
   "cell_type": "code",
   "execution_count": null,
   "metadata": {},
   "outputs": [],
   "source": [
    "'1440_30_2_1m_Jun7.csv'"
   ]
  },
  {
   "cell_type": "code",
   "execution_count": null,
   "metadata": {},
   "outputs": [],
   "source": []
  }
 ],
 "metadata": {
  "kernelspec": {
   "display_name": "Python [conda env:domdecarlo]",
   "language": "python",
   "name": "conda-env-domdecarlo-py"
  },
  "language_info": {
   "codemirror_mode": {
    "name": "ipython",
    "version": 3
   },
   "file_extension": ".py",
   "mimetype": "text/x-python",
   "name": "python",
   "nbconvert_exporter": "python",
   "pygments_lexer": "ipython3",
   "version": "3.5.3"
  }
 },
 "nbformat": 4,
 "nbformat_minor": 2
}
