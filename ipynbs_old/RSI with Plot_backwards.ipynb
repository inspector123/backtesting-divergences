{
 "cells": [
  {
   "cell_type": "code",
   "execution_count": null,
   "metadata": {},
   "outputs": [],
   "source": []
  },
  {
   "cell_type": "code",
   "execution_count": null,
   "metadata": {},
   "outputs": [],
   "source": []
  },
  {
   "cell_type": "code",
   "execution_count": null,
   "metadata": {},
   "outputs": [],
   "source": []
  },
  {
   "cell_type": "code",
   "execution_count": null,
   "metadata": {},
   "outputs": [],
   "source": []
  },
  {
   "cell_type": "code",
   "execution_count": null,
   "metadata": {},
   "outputs": [],
   "source": []
  },
  {
   "cell_type": "code",
   "execution_count": null,
   "metadata": {},
   "outputs": [],
   "source": []
  },
  {
   "cell_type": "code",
   "execution_count": null,
   "metadata": {},
   "outputs": [],
   "source": []
  },
  {
   "cell_type": "code",
   "execution_count": null,
   "metadata": {},
   "outputs": [],
   "source": []
  },
  {
   "cell_type": "code",
   "execution_count": null,
   "metadata": {},
   "outputs": [],
   "source": []
  },
  {
   "cell_type": "code",
   "execution_count": null,
   "metadata": {},
   "outputs": [],
   "source": []
  },
  {
   "cell_type": "code",
   "execution_count": null,
   "metadata": {},
   "outputs": [],
   "source": []
  },
  {
   "cell_type": "code",
   "execution_count": 1,
   "metadata": {},
   "outputs": [],
   "source": [
    "from __future__ import division\n",
    "import matplotlib.pyplot as plt\n",
    "import pandas as pd\n",
    "import numpy as np\n",
    "import argparse\n",
    "import json\n",
    "import csv\n",
    "import sys\n",
    "import time\n",
    "from lib import bitmex\n",
    "from settings import API_BASE\n",
    "import scipy as sp\n",
    "from scipy.stats import *\n",
    "from scipy.stats import skew, kurtosis\n",
    "from arch import arch_model\n"
   ]
  },
  {
   "cell_type": "code",
   "execution_count": null,
   "metadata": {},
   "outputs": [],
   "source": []
  },
  {
   "cell_type": "code",
   "execution_count": null,
   "metadata": {},
   "outputs": [],
   "source": []
  },
  {
   "cell_type": "code",
   "execution_count": null,
   "metadata": {},
   "outputs": [],
   "source": []
  },
  {
   "cell_type": "code",
   "execution_count": null,
   "metadata": {},
   "outputs": [],
   "source": [
    "\n"
   ]
  },
  {
   "cell_type": "code",
   "execution_count": null,
   "metadata": {},
   "outputs": [],
   "source": []
  },
  {
   "cell_type": "code",
   "execution_count": null,
   "metadata": {},
   "outputs": [],
   "source": []
  },
  {
   "cell_type": "code",
   "execution_count": null,
   "metadata": {},
   "outputs": [],
   "source": [
    "\n"
   ]
  },
  {
   "cell_type": "code",
   "execution_count": null,
   "metadata": {},
   "outputs": [],
   "source": []
  },
  {
   "cell_type": "code",
   "execution_count": null,
   "metadata": {},
   "outputs": [],
   "source": []
  },
  {
   "cell_type": "code",
   "execution_count": null,
   "metadata": {},
   "outputs": [],
   "source": []
  },
  {
   "cell_type": "code",
   "execution_count": 2,
   "metadata": {},
   "outputs": [],
   "source": []
  },
  {
   "cell_type": "code",
   "execution_count": 3,
   "metadata": {},
   "outputs": [
    {
     "ename": "UnboundLocalError",
     "evalue": "local variable 'j' referenced before assignment",
     "output_type": "error",
     "traceback": [
      "\u001b[1;31m---------------------------------------------------------------------------\u001b[0m",
      "\u001b[1;31mUnboundLocalError\u001b[0m                         Traceback (most recent call last)",
      "\u001b[1;32m<ipython-input-3-b6bca495f7fa>\u001b[0m in \u001b[0;36m<module>\u001b[1;34m()\u001b[0m\n\u001b[0;32m      1\u001b[0m \u001b[1;31m#from RSI_EWMA import pnl2\u001b[0m\u001b[1;33m\u001b[0m\u001b[1;33m\u001b[0m\u001b[0m\n\u001b[1;32m----> 2\u001b[1;33m \u001b[0mrsi_ewma_sleep\u001b[0m\u001b[1;33m(\u001b[0m\u001b[1;36m100000\u001b[0m\u001b[1;33m,\u001b[0m \u001b[1;34m'long.csv'\u001b[0m\u001b[1;33m,\u001b[0m \u001b[1;36m30\u001b[0m\u001b[1;33m,\u001b[0m \u001b[1;36m50\u001b[0m\u001b[1;33m)\u001b[0m\u001b[1;33m\u001b[0m\u001b[0m\n\u001b[0m\u001b[0;32m      3\u001b[0m \u001b[1;31m#pnl(30,50)\u001b[0m\u001b[1;33m\u001b[0m\u001b[1;33m\u001b[0m\u001b[0m\n",
      "\u001b[1;32m~\\e\\RSI_EWMA.py\u001b[0m in \u001b[0;36mrsi_ewma_sleep\u001b[1;34m(trades, name, low, high)\u001b[0m\n\u001b[0;32m    159\u001b[0m     \u001b[1;32mfor\u001b[0m \u001b[0mi\u001b[0m \u001b[1;32min\u001b[0m \u001b[0mrange\u001b[0m\u001b[1;33m(\u001b[0m\u001b[0mrsi_len\u001b[0m\u001b[1;33m+\u001b[0m\u001b[1;36m1\u001b[0m\u001b[1;33m,\u001b[0m \u001b[0ml\u001b[0m\u001b[1;33m)\u001b[0m\u001b[1;33m:\u001b[0m\u001b[1;33m\u001b[0m\u001b[0m\n\u001b[0;32m    160\u001b[0m        \u001b[1;31m# print(price[i])\u001b[0m\u001b[1;33m\u001b[0m\u001b[1;33m\u001b[0m\u001b[0m\n\u001b[1;32m--> 161\u001b[1;33m         \u001b[1;32mif\u001b[0m \u001b[1;33m(\u001b[0m\u001b[0mRSIclose\u001b[0m\u001b[1;33m[\u001b[0m\u001b[0mi\u001b[0m\u001b[1;33m]\u001b[0m \u001b[1;33m<\u001b[0m \u001b[0mlow\u001b[0m \u001b[1;32mand\u001b[0m \u001b[0mj\u001b[0m \u001b[1;33m==\u001b[0m \u001b[1;36m0\u001b[0m\u001b[1;33m)\u001b[0m\u001b[1;33m:\u001b[0m\u001b[1;33m\u001b[0m\u001b[0m\n\u001b[0m\u001b[0;32m    162\u001b[0m             \u001b[0mj\u001b[0m \u001b[1;33m=\u001b[0m \u001b[1;36m1\u001b[0m\u001b[1;33m\u001b[0m\u001b[0m\n\u001b[0;32m    163\u001b[0m             \u001b[1;31m#d = i\u001b[0m\u001b[1;33m\u001b[0m\u001b[1;33m\u001b[0m\u001b[0m\n",
      "\u001b[1;31mUnboundLocalError\u001b[0m: local variable 'j' referenced before assignment"
     ]
    }
   ],
   "source": [
    "\n",
    "rsi_ewma_sleep(100000, 'long.csv')\n"
   ]
  },
  {
   "cell_type": "code",
   "execution_count": null,
   "metadata": {},
   "outputs": [],
   "source": []
  },
  {
   "cell_type": "code",
   "execution_count": 15,
   "metadata": {},
   "outputs": [],
   "source": [
    "import argparse\n",
    "import json\n",
    "import csv\n",
    "import sys\n",
    "import time\n",
    "import requests\n",
    "from lib import bitmex\n",
    "from settings import API_BASE\n",
    "import pandas as pd\n",
    "import numpy as np\n",
    "import matplotlib.pyplot as plt\n",
    "def rsi_ewma (requests, name):\n",
    "    # Create connector\n",
    "    connector = bitmex.BitMEX(base_url=API_BASE)\n",
    "\n",
    "    # Do trade history query\n",
    "    path = \"trade/bucketed?binSize=1m&symbol=XBTUSD&columns=symbol%2C%20timestamp%2C%20close%2C%20vwap\"\n",
    "    count = 500  # max API will allow\n",
    "    query = {\n",
    "        'reverse': 'true',\n",
    "        'start': 0,\n",
    "        'count': count,\n",
    "        }\n",
    "\n",
    "    csvwriter = None\n",
    "    with open(name, 'w+') as f:\n",
    "        while True:\n",
    "            data = connector._curl_bitmex(path=path, verb=\"GET\", query=query, timeout=5)\n",
    "            #time.sleep(2.1)\n",
    "            if csvwriter is None:\n",
    "                # csv requires dict keys\n",
    "                if len(data) == 0:\n",
    "                    break\n",
    "                keys = sorted(data[0].keys())\n",
    "                # Write to stdout\n",
    "                csvwriter = csv.DictWriter(f, fieldnames=keys)\n",
    "                csvwriter.writeheader()\n",
    "\n",
    "            csvwriter.writerows(data)\n",
    "            #data2 = pd.DataFrame\n",
    "            data2 = np.append(data, data)\n",
    "            query['start'] += count\n",
    "            if query['start'] > requests*500:\n",
    "                break\n",
    "            if len(data) < count:\n",
    "                break\n",
    "    df1 = pd.read_csv(name)\n",
    "    df_all = pd.DataFrame(df1)\n",
    "    df_all = pd.DataFrame(df_all.values[::-1], df_all.index, df_all.columns) # turn around data\n",
    "\n",
    "    close = df_all['close'] #close values\n",
    "    vwap = pd.Series(df_all['vwap']) #volume-weighted price average\n",
    "    lm = len(close)-1\n",
    "    lp = len(close)+1\n",
    "    l = len(close)\n",
    "    rsi_len = 15\n",
    "    ## RSI CLOSE ##\n",
    "    change_close = pd.Series(np.zeros(l))\n",
    "    gain = pd.Series(np.zeros(l))\n",
    "    loss = pd.Series(np.zeros(l))\n",
    "    smagain = pd.Series(np.zeros(l))\n",
    "    smaloss = pd.Series(np.zeros(l))\n",
    "    RS = pd.Series(np.zeros(l))\n",
    "    RSIclose = pd.Series(np.zeros(l))\n",
    "\n",
    "    alpha = 0.06 ##current optmized value\n",
    "    for i in range(1,len(close)):   \n",
    "        #print(close[i])\n",
    "        change_close[i] = close[i]-close[i-1]\n",
    "        if change_close[i] > 0:\n",
    "            gain[i] = change_close[i]\n",
    "        elif change_close[i] < 0:\n",
    "            loss[i] = change_close[i]*-1\n",
    "        elif change_close[i] == 0.00000:\n",
    "            loss[i] = 0\n",
    "            gain[i] = 0\n",
    "        if i == rsi_len+1:   \n",
    "            smagain[rsi_len+1] = gain[i-rsi_len:i].sum()/rsi_len\n",
    "            smaloss[rsi_len+1] = loss[i-rsi_len:i].sum()/rsi_len\n",
    "        elif i > rsi_len+1: \n",
    "            smagain[i] = alpha*gain[i] + (1-alpha)*smagain[i-1]\n",
    "            smaloss[i] = alpha*loss[i] + (1-alpha)*smaloss[i-1]\n",
    "            RS[i] = smagain[i]/smaloss[i]\n",
    "            RSIclose[i] = 100 - 100/(1+RS[i])\n",
    "               #print(RSIclose[i])\n",
    "    print(RSIclose[l-1])\n",
    "def rsi_ewma_sleep (trades, name, low, high):\n",
    "    # Create connector\n",
    "    connector = bitmex.BitMEX(base_url=API_BASE)\n",
    "\n",
    "    # Do trade history query\n",
    "    path = \"trade/bucketed?binSize=1m&symbol=XBTUSD&columns=symbol%2C%20timestamp%2C%20close%2C%20vwap\"\n",
    "    count = 500  # max API will allow\n",
    "    query = {\n",
    "        'reverse': 'true',\n",
    "        'start': 0,\n",
    "        'count': count,\n",
    "        }\n",
    "\n",
    "    csvwriter = None\n",
    "    with open(name, 'w+') as f:\n",
    "        while True:\n",
    "            data = connector._curl_bitmex(path=path, verb=\"GET\", query=query, timeout=5)\n",
    "            time.sleep(2.1)\n",
    "            if csvwriter is None:\n",
    "                # csv requires dict keys\n",
    "                if len(data) == 0:\n",
    "                    break\n",
    "                keys = sorted(data[0].keys())\n",
    "                # Write to stdout\n",
    "                csvwriter = csv.DictWriter(f, fieldnames=keys)\n",
    "                csvwriter.writeheader()\n",
    "\n",
    "            csvwriter.writerows(data)\n",
    "            #data2 = pd.DataFrame\n",
    "            data2 = np.append(data, data)\n",
    "            query['start'] += count\n",
    "            if query['start'] > trades:\n",
    "                break\n",
    "            if len(data) < count:\n",
    "                break\n",
    "    df1 = pd.read_csv(name)\n",
    "    df_all = pd.DataFrame(df1)\n",
    "    df_all = pd.DataFrame(df_all.values[::-1], df_all.index, df_all.columns) # turn around data\n",
    "\n",
    "    close = df_all['close'] #close values\n",
    "    l = len(close)\n",
    "    rsi_len = 15\n",
    "    ## RSI CLOSE ##\n",
    "    change_close = pd.Series(np.zeros(l))\n",
    "    gain = pd.Series(np.zeros(l))\n",
    "    loss = pd.Series(np.zeros(l))\n",
    "    smagain = pd.Series(np.zeros(l))\n",
    "    smaloss = pd.Series(np.zeros(l))\n",
    "    RS = pd.Series(np.zeros(l))\n",
    "    RSIclose = pd.Series(np.zeros(l))\n",
    "\n",
    "    alpha = 0.06 ##current optmized value\n",
    "    for i in range(1,len(close)):   \n",
    "        #print(close[i])\n",
    "        change_close[i] = close[i]-close[i-1]\n",
    "        if change_close[i] > 0:\n",
    "            gain[i] = change_close[i]\n",
    "        elif change_close[i] < 0:\n",
    "            loss[i] = change_close[i]*-1\n",
    "        elif change_close[i] == 0.00000:\n",
    "            loss[i] = 0\n",
    "            gain[i] = 0\n",
    "        if i == rsi_len+1:   \n",
    "            smagain[rsi_len+1] = gain[i-rsi_len:i].sum()/rsi_len\n",
    "            smaloss[rsi_len+1] = loss[i-rsi_len:i].sum()/rsi_len\n",
    "        elif i > rsi_len+1: \n",
    "            smagain[i] = alpha*gain[i] + (1-alpha)*smagain[i-1]\n",
    "            smaloss[i] = alpha*loss[i] + (1-alpha)*smaloss[i-1]\n",
    "            RS[i] = smagain[i]/smaloss[i]\n",
    "            RSIclose[i] = 100 - 100/(1+RS[i])\n",
    "    j = 0\n",
    "    k = 0\n",
    "    l = len(close)\n",
    "    rsi_len = 15\n",
    "    L=3\n",
    "    price = np.zeros((l-rsi_len, 4))\n",
    "    for i in range(rsi_len+1, l):\n",
    "       # print(price[i])\n",
    "        if (RSIclose[i] < low and j == 0):\n",
    "            j = 1\n",
    "            #d = i\n",
    "            price[k, 0] = close[i]\n",
    "       # elif (RSIclose[i] < low and j == 0):\n",
    "       #     j = j+1\n",
    "       #     price[i, 0] = close[d]\n",
    "        elif (RSIclose[i]>=high) and (j>=1):\n",
    "            k = k+1\n",
    "            j = 0\n",
    "       #     f = i=\n",
    "        price[k, 1] = close[i]\n",
    "      #  elif (RSIclose[i]>=low) and (j>=0):\n",
    "      #      price[i, 0] = close[f]\n",
    "      ##  print(price[i])\n",
    "      #  if (RSIclose[i] >= hiS and j == 0):\n",
    "     #       j = 1\n",
    "     #       price[k, 0] = close[i]\n",
    "     #       price[k, 2] = 1\n",
    "     ##   elif (RSIclose[i] <= loS) and (j>=1):\n",
    "     #       j = 0 \n",
    "     #      k = k+1\n",
    "      #  price[k, 1] = close[i];\n",
    "    price = np.delete(price, np.s_[k::], 0)\n",
    "    #print(len(price))\n",
    "    #print(price[16:30000])\n",
    "    pnl = np.ones(len(price))\n",
    "    pnlT = np.ones(len(price))\n",
    "    for i in range(0, len(price)-1):\n",
    "        pnl[i] = (1+(price[i,1]/price[i,0]-1)*L)\n",
    "        if price[i,2] == 0:\n",
    "            pnlT[i+1]=pnlT[i]*(1+(price[i,1]/price[i,0]-1)*L)\n",
    "        else:\n",
    "            pnlT[i+1] = pnlT[i]*(1+(price[i,0]/price[i,1]-1)*L)\n",
    "        price[i, 3] = pnlT[i]\n",
    "    plt.plot(range(0,len(price)), pnlT, label='Boys per Time')\n",
    "    plt.title(\"Boys Club Now\")\n",
    "    plt.legend()\n",
    "    plt.show()\n",
    "    print(np.average(pnl))\n",
    "    #n, bins, patches = plt.hist(pnl, 500, density=False, facecolor='g', alpha=0.85)            \n",
    "               #print(RSIclose[i])\n",
    "def pnl2(low, high):\n",
    "    l = len(close)\n",
    "    rsi_len = 15\n",
    "    for i in range(rsi_len+1, l):\n",
    "       # print(price[i])\n",
    "        if (RSIclose[i] < low and j == 0):\n",
    "            j = 1\n",
    "            #d = i\n",
    "            price[k, 0] = close[i]\n",
    "       # elif (RSIclose[i] < low and j == 0):\n",
    "       #     j = j+1\n",
    "       #     price[i, 0] = close[d]\n",
    "        elif (RSIclose[i]>=high) and (j>=1):\n",
    "            k = k+1\n",
    "            j = 0\n",
    "       #     f = i=\n",
    "        price[k, 1] = close[i]\n",
    "      #  elif (RSIclose[i]>=low) and (j>=0):\n",
    "      #      price[i, 0] = close[f]\n",
    "      ##  print(price[i])\n",
    "      #  if (RSIclose[i] >= hiS and j == 0):\n",
    "     #       j = 1\n",
    "     #       price[k, 0] = close[i]\n",
    "     #       price[k, 2] = 1\n",
    "     ##   elif (RSIclose[i] <= loS) and (j>=1):\n",
    "     #       j = 0 \n",
    "     #      k = k+1\n",
    "      #  price[k, 1] = close[i];\n",
    "    price = np.delete(price, np.s_[k::], 0)\n",
    "    #print(len(price))\n",
    "    #print(price[16:30000])\n",
    "    pnl = np.ones(len(price))\n",
    "    pnlT = np.ones(len(price))\n",
    "    for i in range(0, len(price)-1):\n",
    "        pnl[i] = (1+(price[i,1]/price[i,0]-1)*L)\n",
    "        pnlT[i+1] = pnlT[i]*(1+(price[i,1]/price[i,0]-1)*L)\n",
    "        price[i, 3] = pnlT[i]\n",
    "    plt.plot(range(0,len(price)), pnlT, label='Boys per Time')\n",
    "    plt.title(\"Boys Club Now\")\n",
    "    plt.legend()\n",
    "    plt.show()\n",
    "    print(np.average(pnl))\n",
    "    #n, bins, patches = plt.hist(pnl, 500, density=False, facecolor='g', alpha=0.85)\n",
    "    \n"
   ]
  },
  {
   "cell_type": "code",
   "execution_count": 17,
   "metadata": {},
   "outputs": [
    {
     "data": {
      "image/png": "[encoded data removed]",
      "text/plain": [
       "<Figure size 432x288 with 1 Axes>"
      ]
     },
     "metadata": {},
     "output_type": "display_data"
    },
    {
     "name": "stdout",
     "output_type": "stream",
     "text": [
      "0.994599276791453\n"
     ]
    }
   ],
   "source": [
    "rsi_ewma_sleep(100000, 'name.csv', 30, 50)"
   ]
  },
  {
   "cell_type": "code",
   "execution_count": 5,
   "metadata": {},
   "outputs": [
    {
     "ename": "NameError",
     "evalue": "name 'RSIclose' is not defined",
     "output_type": "error",
     "traceback": [
      "\u001b[1;31m---------------------------------------------------------------------------\u001b[0m",
      "\u001b[1;31mNameError\u001b[0m                                 Traceback (most recent call last)",
      "\u001b[1;32m<ipython-input-5-7c665ea8efa8>\u001b[0m in \u001b[0;36m<module>\u001b[1;34m()\u001b[0m\n\u001b[1;32m----> 1\u001b[1;33m \u001b[0mRSIclose\u001b[0m\u001b[1;33m\u001b[0m\u001b[0m\n\u001b[0m",
      "\u001b[1;31mNameError\u001b[0m: name 'RSIclose' is not defined"
     ]
    }
   ],
   "source": []
  },
  {
   "cell_type": "code",
   "execution_count": 6,
   "metadata": {},
   "outputs": [
    {
     "data": {
      "image/png": "[encoded data removed]",
      "text/plain": [
       "<Figure size 432x288 with 1 Axes>"
      ]
     },
     "metadata": {},
     "output_type": "display_data"
    },
    {
     "name": "stdout",
     "output_type": "stream",
     "text": [
      "1.0045485095057318\n"
     ]
    },
    {
     "data": {
      "image/png": "[encoded data removed]",
      "text/plain": [
       "<Figure size 432x288 with 1 Axes>"
      ]
     },
     "metadata": {},
     "output_type": "display_data"
    }
   ],
   "source": [
    "df1 = pd.read_csv('long.csv')\n",
    "df_all = pd.DataFrame(df1)\n",
    "df_all = pd.DataFrame(df_all.values[::-1], df_all.index, df_all.columns) # turn around data\n",
    "\n",
    "close = pd.Series(df_all['close']) #close values\n",
    "l = len(close)\n",
    "rsi_len = 15\n",
    "## RSI CLOSE ##\n",
    "change_close = pd.Series(np.zeros(l))\n",
    "gain = pd.Series(np.zeros(l))\n",
    "loss = pd.Series(np.zeros(l))\n",
    "smagain = pd.Series(np.zeros(l))\n",
    "smaloss = pd.Series(np.zeros(l))\n",
    "RS = pd.Series(np.zeros(l))\n",
    "RSIclose = pd.Series(np.zeros(l))\n",
    "low = 30\n",
    "high = 50\n",
    "alpha = 1/15 ##current optmized value\n",
    "for i in range(1,len(close)):   \n",
    "    #print(close[i])\n",
    "    change_close[i] = close[i]-close[i-1]\n",
    "    if change_close[i] > 0:\n",
    "        gain[i] = change_close[i]\n",
    "    elif change_close[i] < 0:\n",
    "        loss[i] = change_close[i]*-1\n",
    "    elif change_close[i] == 0.00000:\n",
    "        loss[i] = 0\n",
    "        gain[i] = 0\n",
    "    if i == rsi_len+1:   \n",
    "        smagain[rsi_len+1] = (gain[1:rsi_len+1].sum())/rsi_len\n",
    "        smaloss[rsi_len+1] = (loss[1:rsi_len+1].sum())/rsi_len\n",
    "    if i > rsi_len+1: \n",
    "        smagain[i] = alpha*gain[i] + (1-alpha)*smagain[i-1]\n",
    "        smaloss[i] = alpha*loss[i] + (1-alpha)*smaloss[i-1]\n",
    "        RS[i] = smagain[i]/smaloss[i]\n",
    "        RSIclose[i] = 100 - 100/(1+RS[i])\n",
    "\n",
    "j = 0\n",
    "k = 0\n",
    "l = len(close)\n",
    "rsi_len = 15\n",
    "L=3\n",
    "price = np.zeros((l-rsi_len, 4))\n",
    "for i in range(rsi_len+1, l):\n",
    "   # print(price[i])\n",
    "    if (RSIclose[i] < low and j == 0):\n",
    "        j = 1\n",
    "        #d = i\n",
    "        price[k, 0] = close[i]\n",
    "   # elif (RSIclose[i] < low and j == 0):\n",
    "   #     j = j+1\n",
    "   #     price[i, 0] = close[d]\n",
    "    elif (RSIclose[i]>=high) and (j>=1):\n",
    "        k = k+1\n",
    "        j = 0\n",
    "   #     f = i=\n",
    "    price[k, 1] = close[i]\n",
    "  #  elif (RSIclose[i]>=low) and (j>=0):\n",
    "  #      price[i, 0] = close[f]\n",
    "  ##  print(price[i])\n",
    "  #  if (RSIclose[i] >= hiS and j == 0):\n",
    " #       j = 1\n",
    " #       price[k, 0] = close[i]\n",
    " #       price[k, 2] = 1\n",
    " ##   elif (RSIclose[i] <= loS) and (j>=1):\n",
    " #       j = 0 \n",
    " #      k = k+1\n",
    "  #  price[k, 1] = close[i];\n",
    "price = np.delete(price, np.s_[k::], 0)\n",
    "#print(price[16:30000])\n",
    "pnl = np.ones(len(price))\n",
    "pnlT = np.ones(len(price))\n",
    "for i in range(0, len(price)-1):\n",
    "    pnl[i] = (1+(price[i,0]/price[i,1]-1)*L)\n",
    "    pnlT[i+1] = pnlT[i]*(1+(price[i,0]/price[i,1]-1)*L)\n",
    "    price[i, 3] = pnlT[i]\n",
    "plt.plot(range(0,len(price)), pnlT, label='Boys per Time')\n",
    "plt.title(\"Boys Club Now\")\n",
    "plt.legend()\n",
    "plt.show()\n",
    "print(np.average(pnl))\n",
    "n, bins, patches = plt.hist(pnl, 500, density=False, facecolor='g', alpha=0.85)            \n",
    "           #print(RSIclose[i])"
   ]
  },
  {
   "cell_type": "code",
   "execution_count": 36,
   "metadata": {},
   "outputs": [
    {
     "name": "stdout",
     "output_type": "stream",
     "text": [
      "[[1.05400000e+04 1.05090000e+04 0.00000000e+00 1.00000000e+00]\n",
      " [1.04800000e+04 1.04800000e+04 0.00000000e+00 9.91176471e-01]\n",
      " [1.05000000e+04 1.05000000e+04 0.00000000e+00 9.91176471e-01]\n",
      " ...\n",
      " [9.07200000e+03 9.07050000e+03 0.00000000e+00 4.61745095e-27]\n",
      " [9.06950000e+03 9.06650000e+03 0.00000000e+00 4.61516055e-27]\n",
      " [9.05650000e+03 9.04050000e+03 0.00000000e+00 0.00000000e+00]]\n"
     ]
    }
   ],
   "source": [
    "print(price)"
   ]
  },
  {
   "cell_type": "code",
   "execution_count": null,
   "metadata": {},
   "outputs": [],
   "source": []
  }
 ],
 "metadata": {
  "kernelspec": {
   "display_name": "Python [conda env:domdecarlo_353]",
   "language": "python",
   "name": "conda-env-domdecarlo_353-py"
  },
  "language_info": {
   "codemirror_mode": {
    "name": "ipython",
    "version": 3
   },
   "file_extension": ".py",
   "mimetype": "text/x-python",
   "name": "python",
   "nbconvert_exporter": "python",
   "pygments_lexer": "ipython3",
   "version": "3.5.3"
  }
 },
 "nbformat": 4,
 "nbformat_minor": 2
}
