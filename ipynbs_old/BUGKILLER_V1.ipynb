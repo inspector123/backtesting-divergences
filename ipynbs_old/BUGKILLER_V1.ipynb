{
 "cells": [
  {
   "cell_type": "code",
   "execution_count": 1,
   "metadata": {},
   "outputs": [
    {
     "name": "stdout",
     "output_type": "stream",
     "text": [
      "37.256632327264796\n",
      "71.32488849551962\n",
      "82.63770047523298\n",
      "80.0073472160166\n",
      "84.83451301266209\n",
      "22.902210873830256\n",
      "j printed and below 30\n",
      "Unable to contact the BitMEX API (503), retrying. Request: https://www.bitmex.com/api/v1/order \n",
      " null\n",
      "65.75701324221448\n",
      "j printed and above 50\n",
      "74.14151766753453\n",
      "40.305329223588586\n",
      "22.892668630938545\n",
      "j printed and below 30\n",
      "18.1801646988215\n",
      "73.24856194565812\n",
      "j printed and above 50\n",
      "81.53413081156077\n"
     ]
    },
    {
     "ename": "KeyboardInterrupt",
     "evalue": "",
     "output_type": "error",
     "traceback": [
      "\u001b[1;31m---------------------------------------------------------------------------\u001b[0m",
      "\u001b[1;31mKeyboardInterrupt\u001b[0m                         Traceback (most recent call last)",
      "\u001b[1;32m<ipython-input-1-46f8398d2504>\u001b[0m in \u001b[0;36m<module>\u001b[1;34m()\u001b[0m\n\u001b[0;32m     17\u001b[0m \u001b[0mBK_FUNCTIONS\u001b[0m\u001b[1;33m.\u001b[0m\u001b[0mLeverage\u001b[0m\u001b[1;33m(\u001b[0m\u001b[0mleverage\u001b[0m\u001b[1;33m)\u001b[0m\u001b[1;33m\u001b[0m\u001b[0m\n\u001b[0;32m     18\u001b[0m \u001b[1;32mwhile\u001b[0m \u001b[1;32mTrue\u001b[0m\u001b[1;33m:\u001b[0m\u001b[1;33m\u001b[0m\u001b[0m\n\u001b[1;32m---> 19\u001b[1;33m     \u001b[0mtime\u001b[0m\u001b[1;33m.\u001b[0m\u001b[0msleep\u001b[0m\u001b[1;33m(\u001b[0m\u001b[1;36m1\u001b[0m\u001b[1;33m)\u001b[0m\u001b[1;33m\u001b[0m\u001b[0m\n\u001b[0m\u001b[0;32m     20\u001b[0m     \u001b[0mt\u001b[0m \u001b[1;33m=\u001b[0m \u001b[0mpd\u001b[0m\u001b[1;33m.\u001b[0m\u001b[0mSeries\u001b[0m\u001b[1;33m(\u001b[0m\u001b[0mdatetime\u001b[0m\u001b[1;33m.\u001b[0m\u001b[0mdatetime\u001b[0m\u001b[1;33m.\u001b[0m\u001b[0mnow\u001b[0m\u001b[1;33m(\u001b[0m\u001b[1;33m)\u001b[0m\u001b[1;33m.\u001b[0m\u001b[0mtimetuple\u001b[0m\u001b[1;33m(\u001b[0m\u001b[1;33m)\u001b[0m\u001b[1;33m)\u001b[0m\u001b[1;33m\u001b[0m\u001b[0m\n\u001b[0;32m     21\u001b[0m     \u001b[1;32mif\u001b[0m \u001b[0mt\u001b[0m\u001b[1;33m[\u001b[0m\u001b[1;36m5\u001b[0m\u001b[1;33m]\u001b[0m \u001b[1;33m==\u001b[0m \u001b[1;36m0\u001b[0m \u001b[1;32mand\u001b[0m \u001b[0mn\u001b[0m \u001b[1;33m==\u001b[0m \u001b[1;36m0\u001b[0m\u001b[1;33m:\u001b[0m\u001b[1;33m\u001b[0m\u001b[0m\n",
      "\u001b[1;31mKeyboardInterrupt\u001b[0m: "
     ]
    }
   ],
   "source": [
    "## TIME POLLING ##\n",
    "import time\n",
    "import datetime\n",
    "import pandas as pd\n",
    "import numpy as np\n",
    "import csv\n",
    "import sys\n",
    "from settings import API_KEY, API_SECRET, API_BASE\n",
    "from lib.bitmex import BitMEX\n",
    "from lib import bitmex\n",
    "import BK_FUNCTIONS\n",
    "\n",
    "\n",
    "low = 31\n",
    "high = 80\n",
    "boys_now = 1\n",
    "j = 0\n",
    "n = 0\n",
    "#leverage = 25\n",
    "#BK_FUNCTIONS.Leverage(leverage)\n",
    "while True:\n",
    "    time.sleep(1)\n",
    "    t = pd.Series(datetime.datetime.now().timetuple())\n",
    "    if t[5] == 0 and n == 0:\n",
    "        RSI = BK_FUNCTIONS.rsi_ewma_pd(0.7)\n",
    "        n = 1\n",
    "    elif n == 1:\n",
    "        print(RSI)\n",
    "        n=0\n",
    "        if RSI <= low and j == 0:\n",
    "            j = 1\n",
    "            print('j printed and below 30')\n",
    "            BK_FUNCTIONS.BeginShort(BK_FUNCTIONS.GetOrderBookPrice, BK_FUNCTIONS.GetBalance, 25)\n",
    "        elif RSI >= high and j == 1:\n",
    "            j = 0\n",
    "            print('j printed and above 50')\n",
    "            BK_FUNCTIONS.EndShortMkt()\n",
    "    else:\n",
    "        boys_now\n",
    "##NEED TO MULTIP_LY TIMES LEVERAGBE!@!@!!!!!!!!!!"
   ]
  },
  {
   "cell_type": "code",
   "execution_count": 8,
   "metadata": {},
   "outputs": [
    {
     "data": {
      "text/plain": [
       "700"
      ]
     },
     "execution_count": 8,
     "metadata": {},
     "output_type": "execute_result"
    }
   ],
   "source": [
    " int(BK_FUNCTIONS.GetBalance()*BK_FUNCTIONS.GetOrderBookPrice())*25"
   ]
  },
  {
   "cell_type": "code",
   "execution_count": null,
   "metadata": {},
   "outputs": [],
   "source": [
    "#int(38.75)"
   ]
  },
  {
   "cell_type": "code",
   "execution_count": null,
   "metadata": {},
   "outputs": [],
   "source": [
    "#int(BK_FUNCTIONS.GetOrderBookPrice()*BK_FUNCTIONS.GetBalance()*25)-30"
   ]
  },
  {
   "cell_type": "code",
   "execution_count": 4,
   "metadata": {},
   "outputs": [],
   "source": [
    "\n",
    "## TIME POLLING ##\n",
    "import time\n",
    "import datetime\n",
    "import pandas as pd\n",
    "import numpy as np\n",
    "import csv\n",
    "import sys\n",
    "from settings import API_KEY, API_SECRET, API_BASE\n",
    "from lib.bitmex import BitMEX\n",
    "from lib import bitmex\n",
    "import BK_FUNCTIONS"
   ]
  },
  {
   "cell_type": "code",
   "execution_count": null,
   "metadata": {},
   "outputs": [],
   "source": [
    "#BK_FUNCTIONS.Leverage(50)"
   ]
  },
  {
   "cell_type": "code",
   "execution_count": null,
   "metadata": {},
   "outputs": [],
   "source": []
  },
  {
   "cell_type": "code",
   "execution_count": null,
   "metadata": {},
   "outputs": [],
   "source": [
    "#int(BK_FUNCTIONS.GetBalance()*BK_FUNCTIONS.GetOrderBookPrice()*10)-10"
   ]
  },
  {
   "cell_type": "code",
   "execution_count": null,
   "metadata": {},
   "outputs": [],
   "source": [
    "#BK_FUNCTIONS.GetBalance()"
   ]
  },
  {
   "cell_type": "code",
   "execution_count": null,
   "metadata": {},
   "outputs": [],
   "source": [
    "#BK_FUNCTIONS.GetOrderBookPrice()"
   ]
  },
  {
   "cell_type": "code",
   "execution_count": null,
   "metadata": {},
   "outputs": [],
   "source": [
    "\n",
    "#int(BK_FUNCTIONS.GetBalance()*BK_FUNCTIONS.GetOrderBookPrice()*10)-10"
   ]
  },
  {
   "cell_type": "code",
   "execution_count": null,
   "metadata": {},
   "outputs": [],
   "source": [
    "#319/8710"
   ]
  },
  {
   "cell_type": "code",
   "execution_count": null,
   "metadata": {},
   "outputs": [],
   "source": [
    "#int(8717.0*)"
   ]
  },
  {
   "cell_type": "code",
   "execution_count": null,
   "metadata": {},
   "outputs": [],
   "source": [
    "\n"
   ]
  },
  {
   "cell_type": "code",
   "execution_count": null,
   "metadata": {},
   "outputs": [],
   "source": []
  },
  {
   "cell_type": "code",
   "execution_count": null,
   "metadata": {},
   "outputs": [],
   "source": []
  }
 ],
 "metadata": {
  "kernelspec": {
   "display_name": "Python [conda env:domdecarlo]",
   "language": "python",
   "name": "conda-env-domdecarlo-py"
  },
  "language_info": {
   "codemirror_mode": {
    "name": "ipython",
    "version": 3
   },
   "file_extension": ".py",
   "mimetype": "text/x-python",
   "name": "python",
   "nbconvert_exporter": "python",
   "pygments_lexer": "ipython3",
   "version": "3.5.3"
  }
 },
 "nbformat": 4,
 "nbformat_minor": 2
}
