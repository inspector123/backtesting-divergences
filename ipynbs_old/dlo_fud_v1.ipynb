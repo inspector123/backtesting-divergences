{
 "cells": [
  {
   "cell_type": "code",
   "execution_count": 1,
   "metadata": {},
   "outputs": [
    {
     "ename": "KeyboardInterrupt",
     "evalue": "",
     "output_type": "error",
     "traceback": [
      "\u001b[0;31m--------------------------------------------------------\u001b[0m",
      "\u001b[0;31mKeyboardInterrupt\u001b[0m      Traceback (most recent call last)",
      "\u001b[0;32m<ipython-input-1-bf9e02461de7>\u001b[0m in \u001b[0;36m<module>\u001b[0;34m()\u001b[0m\n\u001b[1;32m     20\u001b[0m \u001b[0mBK_FUNCTIONS\u001b[0m\u001b[0;34m.\u001b[0m\u001b[0mLeverage\u001b[0m\u001b[0;34m(\u001b[0m\u001b[0mL\u001b[0m\u001b[0;34m)\u001b[0m\u001b[0;34m\u001b[0m\u001b[0m\n\u001b[1;32m     21\u001b[0m \u001b[0;32mwhile\u001b[0m \u001b[0;32mTrue\u001b[0m\u001b[0;34m:\u001b[0m\u001b[0;34m\u001b[0m\u001b[0m\n\u001b[0;32m---> 22\u001b[0;31m     \u001b[0mtime\u001b[0m\u001b[0;34m.\u001b[0m\u001b[0msleep\u001b[0m\u001b[0;34m(\u001b[0m\u001b[0;36m1\u001b[0m\u001b[0;34m)\u001b[0m\u001b[0;34m\u001b[0m\u001b[0m\n\u001b[0m\u001b[1;32m     23\u001b[0m     \u001b[0mt\u001b[0m \u001b[0;34m=\u001b[0m \u001b[0mpd\u001b[0m\u001b[0;34m.\u001b[0m\u001b[0mSeries\u001b[0m\u001b[0;34m(\u001b[0m\u001b[0mdatetime\u001b[0m\u001b[0;34m.\u001b[0m\u001b[0mdatetime\u001b[0m\u001b[0;34m.\u001b[0m\u001b[0mnow\u001b[0m\u001b[0;34m(\u001b[0m\u001b[0;34m)\u001b[0m\u001b[0;34m.\u001b[0m\u001b[0mtimetuple\u001b[0m\u001b[0;34m(\u001b[0m\u001b[0;34m)\u001b[0m\u001b[0;34m)\u001b[0m\u001b[0;34m\u001b[0m\u001b[0m\n\u001b[1;32m     24\u001b[0m     \u001b[0;32mif\u001b[0m \u001b[0mt\u001b[0m\u001b[0;34m[\u001b[0m\u001b[0;36m5\u001b[0m\u001b[0;34m]\u001b[0m \u001b[0;34m==\u001b[0m \u001b[0;36m0\u001b[0m \u001b[0;32mand\u001b[0m \u001b[0mn\u001b[0m \u001b[0;34m==\u001b[0m \u001b[0;36m0\u001b[0m\u001b[0;34m:\u001b[0m\u001b[0;34m\u001b[0m\u001b[0m\n",
      "\u001b[0;31mKeyboardInterrupt\u001b[0m: "
     ]
    }
   ],
   "source": [
    "## TIME POLLING ##\n",
    "import time\n",
    "import datetime\n",
    "import pandas as pd\n",
    "import numpy as np\n",
    "import csv\n",
    "import sys\n",
    "from settings import API_KEY, API_SECRET, API_BASE\n",
    "from lib.bitmex import BitMEX\n",
    "from lib import bitmex\n",
    "import BK\n",
    "\n",
    "low = 31\n",
    "high = 80\n",
    "boys_now = 1\n",
    "j = 0\n",
    "n = 0\n",
    "L = 1\n",
    "num = 5\n",
    "BK.Lev(L)\n",
    "while True:\n",
    "    time.sleep(1)\n",
    "    t = pd.Series(datetime.datetime.now().timetuple())\n",
    "    if t[5] == 0 and n == 0:\n",
    "        RSI = BK.rsi_ewma_pd(0.7)\n",
    "        n = 1\n",
    "    elif n == 1:\n",
    "        print(RSI)\n",
    "        n=0\n",
    "        if RSI <= low and j == 0:\n",
    "            j = 1\n",
    "            print('Rsi Below 30')\n",
    "            BK.Short(L, num)\n",
    "            time = t[5]\n",
    "        elif t[5] > time+5 and j==1 and np.abs(BK.getqty())!= np.abs(BK.qty(L, num)) :\n",
    "            BK.Cancel()\n",
    "            BK_FUNCTIONS.Short(L, num)\n",
    "        elif RSI >= high and j == 1:\n",
    "            j = 0\n",
    "            print('RSI Above 80')\n",
    "            BK.EndSL(L, 15) \n",
    "    else:\n",
    "        boys_now\n",
    "##NEED TO MULTIP_LY TIMES LEVERAGBE!@!@!!!!!!!!!!"
   ]
  },
  {
   "cell_type": "code",
   "execution_count": 2,
   "metadata": {},
   "outputs": [],
   "source": [
    "BK_FUNCTIONS.BeginShort(1, 5)"
   ]
  },
  {
   "cell_type": "code",
   "execution_count": 3,
   "metadata": {},
   "outputs": [],
   "source": [
    "#BK_FUNCTIONS.EndShortLimit(BK_FUNCTIONS.GetOrderBookPrice, BK_FUNCTIONS.GetBalance,2) "
   ]
  },
  {
   "cell_type": "code",
   "execution_count": null,
   "metadata": {},
   "outputs": [],
   "source": [
    "#int(BK_FUNCTIONS.GetOrderBookPrice()*BK_FUNCTIONS.GetBalance()*25)-30"
   ]
  },
  {
   "cell_type": "code",
   "execution_count": 2,
   "metadata": {},
   "outputs": [],
   "source": [
    "BK.FUNCTIONS\n",
    "## TIME POLLING ##\n",
    "import time\n",
    "import datetime\n",
    "import pandas as pd\n",
    "import numpy as np\n",
    "import csv\n",
    "import sys\n",
    "from settings import API_KEY, API_SECRET, API_BASE\n",
    "from lib.bitmex import BitMEX\n",
    "from lib import bitmex\n",
    "import BK_FUNCTIONS"
   ]
  },
  {
   "cell_type": "code",
   "execution_count": 8,
   "metadata": {},
   "outputs": [],
   "source": [
    "#connector = bitmex.BitMEX(base_url=API_BASE,apiKey=API_KEY,apiSecret=API_SECRET)\n",
    "BK_FUNCTIONS.BeginShort(1, 2)"
   ]
  },
  {
   "cell_type": "code",
   "execution_count": 6,
   "metadata": {},
   "outputs": [],
   "source": [
    "def getqty():\n",
    "    queryShort = {\n",
    "        'symbol': 'XBTUSD',\n",
    "        'count' : 1,\n",
    "        'reverse' : 'true' \n",
    "    }\n",
    "    data = pd.DataFrame(connector._curl_bitmex(path=\"order\", verb=\"GET\", query=queryShort, timeout=5))\n",
    "    qty = data.orderQty[0]\n",
    "    return data\n"
   ]
  },
  {
   "cell_type": "code",
   "execution_count": null,
   "metadata": {},
   "outputs": [],
   "source": [
    "#int(BK_FUNCTIONS.GetBalance()*BK_FUNCTIONS.GetOrderBookPrice()*10)-10"
   ]
  },
  {
   "cell_type": "code",
   "execution_count": 10,
   "metadata": {},
   "outputs": [
    {
     "data": {
      "text/plain": [
       "25"
      ]
     },
     "execution_count": 10,
     "metadata": {},
     "output_type": "execute_result"
    }
   ],
   "source": [
    "np.abs(BK_FUNCTIONS.getqty())"
   ]
  },
  {
   "cell_type": "code",
   "execution_count": 3,
   "metadata": {},
   "outputs": [],
   "source": [
    "import os\n",
    "\n",
    "def find(name, path):\n",
    "    for root, dirs, files in os.walk(path):\n",
    "        if name in files:\n",
    "            return os.path.join(root, name)"
   ]
  },
  {
   "cell_type": "code",
   "execution_count": null,
   "metadata": {},
   "outputs": [],
   "source": [
    "\n",
    "#int(BK_FUNCTIONS.GetBalance()*BK_FUNCTIONS.GetOrderBookPrice()*10)-10"
   ]
  },
  {
   "cell_type": "code",
   "execution_count": null,
   "metadata": {},
   "outputs": [],
   "source": []
  },
  {
   "cell_type": "code",
   "execution_count": null,
   "metadata": {},
   "outputs": [],
   "source": [
    "#int(8717.0*)"
   ]
  },
  {
   "cell_type": "code",
   "execution_count": null,
   "metadata": {},
   "outputs": [],
   "source": [
    "\n"
   ]
  },
  {
   "cell_type": "code",
   "execution_count": null,
   "metadata": {},
   "outputs": [],
   "source": []
  },
  {
   "cell_type": "code",
   "execution_count": null,
   "metadata": {},
   "outputs": [],
   "source": []
  }
 ],
 "metadata": {
  "kernelspec": {
   "display_name": "Python [default]",
   "language": "python",
   "name": "python3"
  },
  "language_info": {
   "codemirror_mode": {
    "name": "ipython",
    "version": 3
   },
   "file_extension": ".py",
   "mimetype": "text/x-python",
   "name": "python",
   "nbconvert_exporter": "python",
   "pygments_lexer": "ipython3",
   "version": "3.5.3"
  }
 },
 "nbformat": 4,
 "nbformat_minor": 2
}
