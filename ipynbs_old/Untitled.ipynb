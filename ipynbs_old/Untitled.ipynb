{
 "cells": [
  {
   "cell_type": "code",
   "execution_count": 1,
   "metadata": {},
   "outputs": [],
   "source": [
    "## TIME POLLING ##\n",
    "import time\n",
    "import datetime\n",
    "import pandas as pd\n",
    "import numpy as np\n",
    "import csv\n",
    "import sys\n",
    "from settings import API_KEY, API_SECRET, API_BASE\n",
    "from lib.bitmex import BitMEX\n",
    "from lib import bitmex\n",
    "import BK_FUNCTIONS\n",
    "BK_FUNCTIONS.BeginShort(BK_FUNCTIONS.GetOrderBookPrice, BK_FUNCTIONS.GetBalance)\n",
    "BK_FUNCTIONS.EndShortMkt()"
   ]
  },
  {
   "cell_type": "code",
   "execution_count": null,
   "metadata": {},
   "outputs": [],
   "source": []
  }
 ],
 "metadata": {
  "kernelspec": {
   "display_name": "Python [conda env:domdecarlo]",
   "language": "python",
   "name": "conda-env-domdecarlo-py"
  },
  "language_info": {
   "codemirror_mode": {
    "name": "ipython",
    "version": 3
   },
   "file_extension": ".py",
   "mimetype": "text/x-python",
   "name": "python",
   "nbconvert_exporter": "python",
   "pygments_lexer": "ipython3",
   "version": "3.5.3"
  }
 },
 "nbformat": 4,
 "nbformat_minor": 2
}
