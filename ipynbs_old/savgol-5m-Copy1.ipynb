{
 "cells": [
  {
   "cell_type": "code",
   "execution_count": null,
   "metadata": {},
   "outputs": [],
   "source": []
  },
  {
   "cell_type": "code",
   "execution_count": 2,
   "metadata": {},
   "outputs": [],
   "source": [
    "from __future__ import division\n",
    "import matplotlib.pyplot as plt\n",
    "import pandas as pd\n",
    "import numpy as np\n",
    "import argparse\n",
    "import json\n",
    "import csv\n",
    "import sys\n",
    "import time\n",
    "import datetime\n",
    "from lib import bitmex\n",
    "from lib.bitmex import BitMEX\n",
    "from settings import API_BASE, API_KEY, API_SECRET\n",
    "import scipy as sp\n",
    "from scipy.stats import *\n",
    "from scipy.stats import skew, kurtosis\n",
    "from scipy.signal import *"
   ]
  },
  {
   "cell_type": "code",
   "execution_count": 78,
   "metadata": {},
   "outputs": [],
   "source": [
    "plt.rcParams['figure.figsize'] = [10, 10]\n"
   ]
  },
  {
   "cell_type": "code",
   "execution_count": null,
   "metadata": {},
   "outputs": [],
   "source": [
    "## THERE'S SOMETHING HERE ####\n",
    "#CCIsav = sp.signal.savgol_filter(CCI, 305, 3)\n",
    "fil = sp.signal.savgol_filter(RSI100, 105, 3)\n",
    "dFdt = pd.Series(np.zeros(l))\n",
    "dF2 = pd.Series(np.zeros(l))\n",
    "for i in range(1, len(fil)):\n",
    "    dFdt[i] = fil[i]-fil[i-1]\n",
    "    dF2[i] = dFdt[i] - dFdt[i-1]\n",
    "dFdt = sp.signal.savgol_filter(dFdt, 25, 3)\n",
    "dF2 = sp.signal.savgol_filter(dF2, 75, 3)\n",
    "\n",
    "plt.rcParams['figure.figsize'] = [10, 10]\n",
    "\n",
    "m = 4\n",
    "J = np.arange(1, l)\n",
    "plt.subplot(m,1,1)\n",
    "plt.plot(J, close[J])\n",
    "#plt.subplot(5,1,2)\n",
    "#plt.plot(J, CCI[J])\n",
    "plt.subplot(m,1,2)\n",
    "plt.plot(J, CCI[J])\n",
    "plt.subplot(m,1,3)\n",
    "plt.plot(J, CCIsav[J])\n",
    "#plt.subplot(4,1,2)\n",
    "#plt.plot(J, CCI[J])\n",
    "plt.subplot(m,1,4)\n",
    "plt.plot(J, fil[J])\n",
    "\n",
    "\n",
    "plt.show()"
   ]
  },
  {
   "cell_type": "code",
   "execution_count": null,
   "metadata": {},
   "outputs": [],
   "source": [
    "pd.set_option('display.max_rows', 2000)\n",
    "J = np.arange(0, 1500)\n",
    "#plt.plot(J,CCI_7d[J])\n",
    "CCI_1d_DF = pd.DataFrame(CCI_1d)\n",
    "print(CCI_1d_DF.iloc[J])"
   ]
  },
  {
   "cell_type": "code",
   "execution_count": null,
   "metadata": {},
   "outputs": [],
   "source": [
    "boys_now = 1\n",
    "n1 = 500\n",
    "n2 = 1440\n",
    "while True:\n",
    "    time.sleep(1)\n",
    "    t = pd.Series(datetime.datetime.now().timetuple())\n",
    "    if t[5] == 0:\n",
    "        n2 += 1\n",
    "        dlCCI(n2, '1440j3_try.csv')\n",
    "        \n",
    "    else:\n",
    "        boys_now\n"
   ]
  },
  {
   "cell_type": "code",
   "execution_count": null,
   "metadata": {},
   "outputs": [],
   "source": [
    "CCIsav = sp.signal.savgol_filter(CCI, 105, 3)"
   ]
  },
  {
   "cell_type": "code",
   "execution_count": null,
   "metadata": {},
   "outputs": [],
   "source": []
  },
  {
   "cell_type": "code",
   "execution_count": null,
   "metadata": {},
   "outputs": [],
   "source": []
  },
  {
   "cell_type": "code",
   "execution_count": null,
   "metadata": {},
   "outputs": [],
   "source": []
  },
  {
   "cell_type": "code",
   "execution_count": null,
   "metadata": {},
   "outputs": [],
   "source": []
  },
  {
   "cell_type": "code",
   "execution_count": null,
   "metadata": {},
   "outputs": [],
   "source": []
  },
  {
   "cell_type": "code",
   "execution_count": null,
   "metadata": {},
   "outputs": [],
   "source": []
  },
  {
   "cell_type": "code",
   "execution_count": null,
   "metadata": {},
   "outputs": [],
   "source": []
  },
  {
   "cell_type": "code",
   "execution_count": null,
   "metadata": {},
   "outputs": [],
   "source": [
    "## What Seems To Work ###\n",
    "\n",
    "## 1. CCI_len = 30, 5m binsize, 105 filter, -50, 50, short ##\n",
    "\n",
    "## 2. CCI_len = 75, 1m binsize, 105 filter, -50, 50, short ##"
   ]
  },
  {
   "cell_type": "code",
   "execution_count": null,
   "metadata": {},
   "outputs": [],
   "source": []
  },
  {
   "cell_type": "code",
   "execution_count": null,
   "metadata": {},
   "outputs": [],
   "source": []
  },
  {
   "cell_type": "code",
   "execution_count": null,
   "metadata": {},
   "outputs": [],
   "source": []
  },
  {
   "cell_type": "code",
   "execution_count": null,
   "metadata": {},
   "outputs": [],
   "source": []
  },
  {
   "cell_type": "code",
   "execution_count": null,
   "metadata": {},
   "outputs": [],
   "source": []
  },
  {
   "cell_type": "code",
   "execution_count": null,
   "metadata": {},
   "outputs": [],
   "source": []
  },
  {
   "cell_type": "code",
   "execution_count": null,
   "metadata": {},
   "outputs": [],
   "source": []
  },
  {
   "cell_type": "code",
   "execution_count": 50,
   "metadata": {},
   "outputs": [
    {
     "data": {
      "text/plain": [
       "'1440_10_5m_jun5.csv'"
      ]
     },
     "execution_count": 50,
     "metadata": {},
     "output_type": "execute_result"
    }
   ],
   "source": [
    "name"
   ]
  },
  {
   "cell_type": "code",
   "execution_count": null,
   "metadata": {},
   "outputs": [],
   "source": [
    "\n"
   ]
  },
  {
   "cell_type": "code",
   "execution_count": null,
   "metadata": {},
   "outputs": [],
   "source": []
  },
  {
   "cell_type": "code",
   "execution_count": 129,
   "metadata": {},
   "outputs": [
    {
     "data": {
      "text/plain": [
       "'1440_4_5m_jun5.csv'"
      ]
     },
     "execution_count": 129,
     "metadata": {},
     "output_type": "execute_result"
    }
   ],
   "source": [
    "name"
   ]
  },
  {
   "cell_type": "code",
   "execution_count": 131,
   "metadata": {},
   "outputs": [],
   "source": [
    "## CCI and RSI init only ##\n",
    "df1 = pd.read_csv(name)\n",
    "df_all = pd.DataFrame(df1)\n",
    "df_all = pd.DataFrame(df_all.values[::-1], df_all.index, df_all.columns) # turn around data\n",
    "\n",
    "close = pd.Series(df_all['close'])\n",
    "high = pd.Series(df_all['high'])\n",
    "low = pd.Series(df_all['low'])#close values \n",
    "l = len(close)\n",
    "CCI = pd.Series(np.zeros(l))\n",
    "SMA = pd.Series(np.zeros(l))\n",
    "madmat = pd.Series(np.zeros(l))\n",
    "cci_len=30\n",
    "TP = (high+low+close)/3\n",
    "for i in range(cci_len, len(close)):\n",
    "    SMA[i] = TP[i-cci_len:i].sum()/cci_len\n",
    "    madmat[i] = abs(SMA[i]-TP[i])\n",
    "    for j in range(1, cci_len):\n",
    "        madmat[i] = madmat[i] + abs(SMA[i]-TP[i-j])\n",
    "    madmat[i] = madmat[i]/cci_len\n",
    "    CCI[i] = (TP[i]-SMA[i])/(.015*madmat[i])\n",
    "j = 0\n",
    "k = 0\n",
    "CCI = sp.signal.savgol_filter(CCI, 105, 3)"
   ]
  },
  {
   "cell_type": "code",
   "execution_count": null,
   "metadata": {},
   "outputs": [],
   "source": []
  },
  {
   "cell_type": "code",
   "execution_count": 132,
   "metadata": {},
   "outputs": [
    {
     "data": {
      "text/plain": [
       "7500"
      ]
     },
     "execution_count": 132,
     "metadata": {},
     "output_type": "execute_result"
    }
   ],
   "source": [
    "len(CCI)"
   ]
  },
  {
   "cell_type": "code",
   "execution_count": null,
   "metadata": {},
   "outputs": [],
   "source": []
  },
  {
   "cell_type": "code",
   "execution_count": null,
   "metadata": {},
   "outputs": [],
   "source": []
  },
  {
   "cell_type": "code",
   "execution_count": null,
   "metadata": {},
   "outputs": [],
   "source": []
  },
  {
   "cell_type": "code",
   "execution_count": null,
   "metadata": {},
   "outputs": [],
   "source": []
  },
  {
   "cell_type": "code",
   "execution_count": 133,
   "metadata": {},
   "outputs": [
    {
     "name": "stdout",
     "output_type": "stream",
     "text": [
      "54.967213114754095\n",
      "0.7352532586325183\n",
      "1.1974940322010192\n",
      "0\n"
     ]
    },
    {
     "data": {
      "image/png": "[encoded data removed]",
      "text/plain": [
       "<Figure size 720x720 with 3 Axes>"
      ]
     },
     "metadata": {},
     "output_type": "display_data"
    },
    {
     "name": "stdout",
     "output_type": "stream",
     "text": [
      "         0       1       2       3      4         5            6\n",
      "0   9044.0  8911.0    30.0    66.0   36.0  1.335634     1.335634\n",
      "1   8971.5  8614.5   109.0   209.0  100.0  1.998544     2.669324\n",
      "2   8597.0  8662.0   255.0   264.0    9.0  0.774899     2.068456\n",
      "3   8650.0  8427.5   265.0   316.0   51.0  1.622542     3.356156\n",
      "4   8447.0  8302.0   349.0   426.0   77.0  1.399142     4.695738\n",
      "5   8570.0  8369.5   485.0   534.0   49.0  1.561401     7.331930\n",
      "6   8517.0  8388.0   602.0   680.0   78.0  1.346978     9.875947\n",
      "7   8680.0  8392.5   897.0   976.0   79.0  1.818919    17.963551\n",
      "8   8666.5  8746.0  1177.0  1186.0    9.0  0.735253    13.207759\n",
      "9   8722.0  8706.0  1187.0  1210.0   23.0  1.008445    13.319303\n",
      "10  8762.5  8499.0  1335.0  1408.0   73.0  1.737591    23.143504\n",
      "11  8481.5  8552.0  1416.0  1423.0    7.0  0.756408    17.505928\n",
      "12  8555.5  8194.0  1424.0  1530.0  106.0  1.065441    18.651537\n",
      "13  8375.5  8288.0  1621.0  1664.0   43.0  1.226436    22.874913\n",
      "14  8305.0  8299.5  1706.0  1721.0   15.0  0.979067    22.396078\n",
      "15  8366.0  8304.5  1814.0  1893.0   79.0  1.147641    25.702648\n",
      "16  8298.0  7988.0  1942.0  2077.0  135.0  1.932705    49.675645\n",
      "17  8103.5  8114.5  2185.0  2237.0   52.0  0.928610    46.129303\n",
      "18  8215.5  8210.5  2323.0  2366.0   43.0  0.977724    45.101745\n",
      "19  8228.0  8212.5  2405.0  2448.0   43.0  1.009684    45.538518\n",
      "20  8323.0  8206.0  2509.0  2634.0  125.0  1.318947    60.062870\n",
      "21  8339.5  8318.0  2770.0  2779.0    9.0  1.027119    61.691708\n",
      "22  8532.0  8474.0  2892.0  2938.0   46.0  1.133612    69.934439\n",
      "23  8539.0  8395.5  3007.0  3157.0  150.0  1.389812    97.195739\n",
      "24  8399.0  8279.5  3190.0  3257.0   67.0  1.323331   128.622132\n",
      "25  8323.5  8220.5  3282.0  3360.0   78.0  1.275741   164.088564\n",
      "26  8227.0  7944.0  3403.0  3530.0  127.0  1.853109   304.074039\n",
      "27  7918.5  7852.5  3562.0  3618.0   56.0  1.172624   356.564565\n",
      "28  7916.5  7518.0  3655.0  3718.0   63.0  1.287653   459.131420\n",
      "29  7481.5  7531.0  3769.0  3771.0    2.0  0.798179   366.469146\n",
      "..     ...     ...     ...     ...    ...       ...          ...\n",
      "31  7571.5  7588.0  3781.0  3791.0   10.0  0.908138   257.185034\n",
      "32  7690.5  7376.0  3848.0  3914.0   66.0  1.028457   264.503789\n",
      "33  7545.5  7591.5  4043.0  4056.0   13.0  0.811015   214.516484\n",
      "34  7615.5  7411.0  4133.0  4192.0   59.0  1.652353   354.456939\n",
      "35  7470.5  7424.5  4250.0  4331.0   81.0  1.117393   396.067556\n",
      "36  7441.0  7404.5  4360.0  4421.0   61.0  1.085736   430.024752\n",
      "37  7544.5  7524.5  4474.0  4535.0   61.0  1.028950   442.473796\n",
      "38  7532.5  7572.5  4589.0  4608.0   19.0  0.830443   367.449362\n",
      "39  7561.5  7271.5  4609.0  4664.0   55.0  1.959543   720.032917\n",
      "40  7274.5  7292.0  4711.0  4720.0    9.0  0.902503   649.831683\n",
      "41  7322.5  7303.5  4781.0  4809.0   28.0  1.027537   667.726300\n",
      "42  7345.5  7302.5  4856.0  4881.0   25.0  1.109710   740.982458\n",
      "43  7357.0  7227.0  4978.0  5035.0   57.0  1.412203  1046.417283\n",
      "44  7269.5  7125.0  5097.0  5273.0  176.0  1.469518  1537.728556\n",
      "45  7503.0  7426.0  5469.0  5493.0   24.0  1.221724  1878.680416\n",
      "46  7480.0  7478.0  5558.0  5597.0   39.0  0.969186  1820.791283\n",
      "47  7517.0  7300.0  5664.0  5732.0   68.0  1.705651  3105.633899\n",
      "48  7539.0  7563.0  5920.0  5943.0   23.0  0.883166  2742.791517\n",
      "49  7530.5  7541.5  5955.0  5969.0   14.0  0.926035  2539.921232\n",
      "50  7554.0  7505.0  6023.0  6090.0   67.0  1.125725  2859.251603\n",
      "51  7573.0  7420.0  6192.0  6248.0   56.0  1.477999  4225.970015\n",
      "52  7414.0  7433.0  6300.0  6319.0   19.0  0.898596  3797.438860\n",
      "53  7484.0  7486.5  6383.0  6414.0   31.0  0.954152  3623.332515\n",
      "54  7653.5  7620.0  6492.0  6569.0   77.0  1.072408  3885.691270\n",
      "55  7721.5  7725.0  6777.0  6820.0   43.0  0.951173  3695.965163\n",
      "56  7709.5  7710.5  6845.0  6906.0   61.0  0.959258  3545.382924\n",
      "57  7736.0  7702.5  6951.0  6963.0   12.0  1.071231  3797.923852\n",
      "58  7686.0  7482.5  6979.0  7160.0  181.0  1.642420  6237.785383\n",
      "59  7484.5  7435.0  7223.0  7303.0   80.0  1.128943  7042.101035\n",
      "60  7430.5  7386.0  7353.0  7403.0    0.0  0.000000     0.000000\n",
      "\n",
      "[61 rows x 7 columns]\n"
     ]
    }
   ],
   "source": [
    "\n",
    "## Short Only ##  (Why is it backwards???) ## 1 Minute! ##\n",
    "leverage = 25\n",
    "#price = pd.DataFrame(np.zeros((l-cci_len, 6)))\n",
    "#mat = np.zeros((20, 1200))\n",
    "#pnl = 1;\n",
    "#leverage = 10\n",
    "f=0\n",
    "d=0\n",
    "hi = 0\n",
    "lo = -10\n",
    "j = 0\n",
    "k = 0\n",
    "liq = 0\n",
    "price = np.zeros((l-cci_len, 7))\n",
    "for i in range(cci_len, l):\n",
    "    if (CCI[i] <= lo and j == 0):\n",
    "        j = 1\n",
    "        price[k, 0] = close[i]\n",
    "        price[k, 2] = i\n",
    "    elif j == 1 and high[i] > (1/leverage+1)*price[k,0]:\n",
    "        liq +=1\n",
    "    elif j == 1 and close[i] > (1/leverage/8 + 1)*price[k,0]:\n",
    "        price[k, 1] = close[i]\n",
    "        price[k, 3] = i \n",
    "        j = 0\n",
    "        k = k+ 1\n",
    "    elif (CCI[i] >= hi) and (j==1):\n",
    "        #mat[j,k] = RSIclose[i]\n",
    "        price[k, 3] = i \n",
    "        price[k, 1] = close[i]\n",
    "        k = k+1\n",
    "        j = 0\n",
    "   # d = 1\n",
    "price = np.delete(price, np.s_[k::], 0)\n",
    "pnl = np.ones(len(price))\n",
    "pnlT = np.ones(len(price))\n",
    "X = 0\n",
    "X2= abs(X-1)\n",
    "p = 0\n",
    "p2 = abs(p-1)\n",
    "for i in range(0, len(price)-1):\n",
    "    check = (price[i,X]/price[i,X2]-1-.00075*2)*leverage\n",
    "    if check > 1:\n",
    "        p = 1\n",
    "        p2 = abs(p-1)\n",
    "    else:\n",
    "        p = 0\n",
    "        p2 = abs(p-1)\n",
    "    pnl[i+1] = (p2+(price[i,X]/price[i,X2]-1-.00075*2)*leverage)\n",
    "    pnlT[i+1] = pnlT[i]*(p2+(price[i,X]/price[i,X2]-1-.00075*2)*leverage)\n",
    "    price[i, 4] = price[i,3]-price[i,2]\n",
    "    price[i, 5] = pnl[i+1]\n",
    "    price[i, 6] = pnlT[i+1]\n",
    "    \n",
    "    \n",
    "price = pd.DataFrame(price)\n",
    "print(np.average(price.iloc[:,4]))    \n",
    "\n",
    "J = np.arange(1, l)\n",
    "m = 3\n",
    "plt.subplot(m,1,1)\n",
    "#plt.plot(range())\n",
    "plt.plot(range(1,len(pnl)+1), np.log2(pnlT), label='Boys per Time')\n",
    "plt.subplot(m,1,3)\n",
    "n, bins, patches = plt.hist(np.log10(pnl), 500, density=False, facecolor='g', alpha=0.85)\n",
    "plt.subplot(m,1,2)\n",
    "plt.plot(J, close[J], label='Boys per Time')\n",
    "print(min(pnl))\n",
    "print(np.average(pnl))\n",
    "#print(sp.stats.normaltest(pnl))\n",
    "print(liq)\n",
    "\n",
    "plt.show()\n",
    "\n",
    "## change into DataFrames ##\n",
    "\n",
    "\n",
    "print(price)\n"
   ]
  },
  {
   "cell_type": "code",
   "execution_count": null,
   "metadata": {},
   "outputs": [],
   "source": [
    "print(df_all['timestamp'].iloc[0])"
   ]
  },
  {
   "cell_type": "code",
   "execution_count": 25,
   "metadata": {},
   "outputs": [
    {
     "data": {
      "text/plain": [
       "8617.5"
      ]
     },
     "execution_count": 25,
     "metadata": {},
     "output_type": "execute_result"
    }
   ],
   "source": [
    "close[259]"
   ]
  },
  {
   "cell_type": "code",
   "execution_count": 26,
   "metadata": {},
   "outputs": [
    {
     "data": {
      "text/plain": [
       "-35.880561124817866"
      ]
     },
     "execution_count": 26,
     "metadata": {},
     "output_type": "execute_result"
    }
   ],
   "source": [
    "CCI[259]"
   ]
  },
  {
   "cell_type": "code",
   "execution_count": 14,
   "metadata": {},
   "outputs": [
    {
     "data": {
      "text/plain": [
       "1.002"
      ]
     },
     "execution_count": 14,
     "metadata": {},
     "output_type": "execute_result"
    }
   ],
   "source": [
    "leverage = 100\n",
    "1/leverage/5+1"
   ]
  },
  {
   "cell_type": "code",
   "execution_count": 95,
   "metadata": {},
   "outputs": [
    {
     "data": {
      "text/plain": [
       "1.1220184543019633"
      ]
     },
     "execution_count": 95,
     "metadata": {},
     "output_type": "execute_result"
    }
   ],
   "source": [
    "10**0.05"
   ]
  },
  {
   "cell_type": "code",
   "execution_count": 99,
   "metadata": {},
   "outputs": [
    {
     "data": {
      "text/plain": [
       "0.11332868530700327"
      ]
     },
     "execution_count": 99,
     "metadata": {},
     "output_type": "execute_result"
    }
   ],
   "source": [
    "np.log(1.12)"
   ]
  },
  {
   "cell_type": "code",
   "execution_count": 113,
   "metadata": {},
   "outputs": [
    {
     "data": {
      "text/plain": [
       "0.6085806194501846"
      ]
     },
     "execution_count": 113,
     "metadata": {},
     "output_type": "execute_result"
    }
   ],
   "source": [
    "2.7**-.5"
   ]
  },
  {
   "cell_type": "code",
   "execution_count": null,
   "metadata": {},
   "outputs": [],
   "source": []
  },
  {
   "cell_type": "code",
   "execution_count": null,
   "metadata": {},
   "outputs": [],
   "source": []
  },
  {
   "cell_type": "code",
   "execution_count": null,
   "metadata": {},
   "outputs": [],
   "source": []
  },
  {
   "cell_type": "code",
   "execution_count": null,
   "metadata": {
    "scrolled": true
   },
   "outputs": [],
   "source": []
  },
  {
   "cell_type": "code",
   "execution_count": null,
   "metadata": {
    "scrolled": true
   },
   "outputs": [],
   "source": []
  },
  {
   "cell_type": "code",
   "execution_count": null,
   "metadata": {},
   "outputs": [],
   "source": [
    "4.579964*1.5759"
   ]
  },
  {
   "cell_type": "code",
   "execution_count": null,
   "metadata": {},
   "outputs": [],
   "source": []
  },
  {
   "cell_type": "code",
   "execution_count": null,
   "metadata": {},
   "outputs": [],
   "source": [
    "(7544/7416 - 1-.00075*2)*100"
   ]
  },
  {
   "cell_type": "code",
   "execution_count": null,
   "metadata": {},
   "outputs": [],
   "source": []
  },
  {
   "cell_type": "code",
   "execution_count": null,
   "metadata": {},
   "outputs": [],
   "source": []
  },
  {
   "cell_type": "code",
   "execution_count": null,
   "metadata": {},
   "outputs": [],
   "source": []
  },
  {
   "cell_type": "code",
   "execution_count": null,
   "metadata": {},
   "outputs": [],
   "source": []
  },
  {
   "cell_type": "code",
   "execution_count": 123,
   "metadata": {},
   "outputs": [
    {
     "data": {
      "text/plain": [
       "16.36653739294609"
      ]
     },
     "execution_count": 123,
     "metadata": {},
     "output_type": "execute_result"
    }
   ],
   "source": [
    "1.15**20"
   ]
  },
  {
   "cell_type": "code",
   "execution_count": 118,
   "metadata": {},
   "outputs": [
    {
     "data": {
      "text/plain": [
       "1.9952623149688795"
      ]
     },
     "execution_count": 118,
     "metadata": {},
     "output_type": "execute_result"
    }
   ],
   "source": [
    "10**0.3"
   ]
  },
  {
   "cell_type": "code",
   "execution_count": 125,
   "metadata": {},
   "outputs": [
    {
     "data": {
      "text/plain": [
       "31.409420053989354"
      ]
     },
     "execution_count": 125,
     "metadata": {},
     "output_type": "execute_result"
    }
   ],
   "source": [
    "1.09**40"
   ]
  },
  {
   "cell_type": "code",
   "execution_count": null,
   "metadata": {},
   "outputs": [],
   "source": []
  },
  {
   "cell_type": "code",
   "execution_count": null,
   "metadata": {},
   "outputs": [],
   "source": []
  },
  {
   "cell_type": "code",
   "execution_count": null,
   "metadata": {},
   "outputs": [],
   "source": []
  },
  {
   "cell_type": "code",
   "execution_count": null,
   "metadata": {},
   "outputs": [],
   "source": []
  },
  {
   "cell_type": "code",
   "execution_count": null,
   "metadata": {},
   "outputs": [],
   "source": []
  },
  {
   "cell_type": "code",
   "execution_count": null,
   "metadata": {},
   "outputs": [],
   "source": [
    "\n"
   ]
  },
  {
   "cell_type": "code",
   "execution_count": null,
   "metadata": {},
   "outputs": [],
   "source": []
  },
  {
   "cell_type": "code",
   "execution_count": null,
   "metadata": {},
   "outputs": [],
   "source": []
  },
  {
   "cell_type": "code",
   "execution_count": null,
   "metadata": {},
   "outputs": [],
   "source": []
  },
  {
   "cell_type": "code",
   "execution_count": null,
   "metadata": {},
   "outputs": [],
   "source": []
  },
  {
   "cell_type": "code",
   "execution_count": null,
   "metadata": {},
   "outputs": [],
   "source": []
  },
  {
   "cell_type": "code",
   "execution_count": null,
   "metadata": {},
   "outputs": [],
   "source": []
  },
  {
   "cell_type": "code",
   "execution_count": null,
   "metadata": {},
   "outputs": [],
   "source": []
  },
  {
   "cell_type": "code",
   "execution_count": null,
   "metadata": {},
   "outputs": [],
   "source": []
  },
  {
   "cell_type": "code",
   "execution_count": null,
   "metadata": {},
   "outputs": [],
   "source": []
  },
  {
   "cell_type": "code",
   "execution_count": null,
   "metadata": {},
   "outputs": [],
   "source": []
  },
  {
   "cell_type": "code",
   "execution_count": null,
   "metadata": {},
   "outputs": [],
   "source": []
  },
  {
   "cell_type": "code",
   "execution_count": null,
   "metadata": {},
   "outputs": [],
   "source": []
  },
  {
   "cell_type": "code",
   "execution_count": null,
   "metadata": {},
   "outputs": [],
   "source": []
  },
  {
   "cell_type": "code",
   "execution_count": null,
   "metadata": {},
   "outputs": [],
   "source": []
  },
  {
   "cell_type": "code",
   "execution_count": null,
   "metadata": {},
   "outputs": [],
   "source": []
  },
  {
   "cell_type": "code",
   "execution_count": null,
   "metadata": {},
   "outputs": [],
   "source": [
    "cci_len"
   ]
  },
  {
   "cell_type": "code",
   "execution_count": null,
   "metadata": {},
   "outputs": [],
   "source": []
  },
  {
   "cell_type": "code",
   "execution_count": null,
   "metadata": {},
   "outputs": [],
   "source": [
    "name"
   ]
  },
  {
   "cell_type": "code",
   "execution_count": null,
   "metadata": {},
   "outputs": [],
   "source": []
  },
  {
   "cell_type": "code",
   "execution_count": null,
   "metadata": {},
   "outputs": [],
   "source": [
    "## CCI and RSI init only ##\n",
    "df1 = pd.read_csv(name)\n",
    "df_all = pd.DataFrame(df1)\n",
    "df_all = pd.DataFrame(df_all.values[::-1], df_all.index, df_all.columns) # turn around data\n",
    "\n",
    "close = pd.Series(df_all['close'])\n",
    "high = pd.Series(df_all['high'])\n",
    "low = pd.Series(df_all['low'])#close values \n",
    "l = len(close)\n",
    "CCI = pd.Series(np.zeros(l))\n",
    "SMA = pd.Series(np.zeros(l))\n",
    "madmat = pd.Series(np.zeros(l))\n",
    "cci_len=15\n",
    "TP = (high+low+close)/3\n",
    "for i in range(cci_len, len(close)):\n",
    "    SMA[i] = TP[i-cci_len:i].sum()/cci_len\n",
    "    madmat[i] = abs(SMA[i]-TP[i])\n",
    "    for j in range(1, cci_len):\n",
    "        madmat[i] = madmat[i] + abs(SMA[i]-TP[i-j])\n",
    "    madmat[i] = madmat[i]/cci_len\n",
    "    CCI[i] = (TP[i]-SMA[i])/(.015*madmat[i])\n",
    "j = 0\n",
    "k = 0\n",
    "\n",
    "#mat = np.zeros((20, 1200))\n",
    "#pnl = 1;\n",
    "#leverage = 10\n",
    "f=0\n",
    "d=0\n",
    "rsi_len = 100\n",
    "change_close = pd.Series(np.zeros(l))\n",
    "gain = pd.Series(np.zeros(l))\n",
    "loss = pd.Series(np.zeros(l))\n",
    "smagain = pd.Series(np.zeros(l))\n",
    "smaloss = pd.Series(np.zeros(l))\n",
    "RS = pd.Series(np.zeros(l))\n",
    "RSI100 = pd.Series(np.zeros(l))\n",
    "dRdt = pd.Series(np.zeros(l))\n",
    "dR2dt = pd.Series(np.zeros(l))\n",
    "for i in range(1,len(close)):   \n",
    "    #print(close[i])\n",
    "    change_close[i] = close[i]-close[i-1]\n",
    "    if change_close[i] > 0:\n",
    "        gain[i] = change_close[i]\n",
    "    elif change_close[i] < 0:\n",
    "        loss[i] = change_close[i]*-1\n",
    "    elif change_close[i] == 0.00000:\n",
    "        loss[i] = 0\n",
    "        gain[i] = 0\n",
    "    if i == rsi_len:   \n",
    "        smagain[rsi_len] = gain[i-rsi_len:i].sum()/rsi_len\n",
    "        smaloss[rsi_len] = loss[i-rsi_len:i].sum()/rsi_len\n",
    "    elif i > rsi_len: \n",
    "        smagain[i] = gain[i-rsi_len:i].sum()/rsi_len\n",
    "        smaloss[i] = loss[i-rsi_len:i].sum()/rsi_len\n",
    "        if smaloss[i] == 0:\n",
    "            RSI100[i] = 100\n",
    "        else:\n",
    "            RS[i] = smagain[i]/smaloss[i]\n",
    "            RSI100[i] = 100 - 100/(1+RS[i])\n",
    "           #print(RSIclose[i])\n",
    "CCI = sp.signal.savgol_filter(CCI, 105, 3)\n"
   ]
  },
  {
   "cell_type": "code",
   "execution_count": null,
   "metadata": {},
   "outputs": [],
   "source": [
    "def dl(end, name):\n",
    "    # Create connector\n",
    "    connector = bitmex.BitMEX(base_url=API_BASE)\n",
    "\n",
    "    # Do trade history query\n",
    "    path = \"trade/bucketed?binSize=1m&symbol=XBTUSD&columns=symbol%2C%20timestamp%2C%20close%2C%20high%2C%20low\"\n",
    "    count = 500  # max API will allow\n",
    "    query = {\n",
    "        'reverse': 'true',\n",
    "        'start': 0,\n",
    "        'count': count,\n",
    "        }\n",
    "\n",
    "    csvwriter = None\n",
    "    with open(name, 'w+') as f:\n",
    "        while True:\n",
    "            data = connector._curl_bitmex(path=path, verb=\"GET\", query=query, timeout=5)\n",
    "            if csvwriter is None:\n",
    "                # csv requires dict keys\n",
    "                if len(data) == 0:\n",
    "                    break\n",
    "                keys = sorted(data[0].keys())\n",
    "                # Write to stdout\n",
    "                csvwriter = csv.DictWriter(f, fieldnames=keys)\n",
    "                csvwriter.writeheader()\n",
    "\n",
    "            csvwriter.writerows(data)\n",
    "            query['start'] += count\n",
    "            if query['start'] > end:\n",
    "                break\n",
    "            if len(data) < count:\n",
    "                break"
   ]
  },
  {
   "cell_type": "code",
   "execution_count": null,
   "metadata": {},
   "outputs": [],
   "source": [
    "M = 7\n",
    "name = '1440_7_1m_Jun3.csv'\n",
    "dl(1440*M, name)"
   ]
  },
  {
   "cell_type": "code",
   "execution_count": null,
   "metadata": {},
   "outputs": [],
   "source": [
    "name = '1440_5m_Jun3.csv'"
   ]
  },
  {
   "cell_type": "code",
   "execution_count": null,
   "metadata": {},
   "outputs": [],
   "source": [
    "name = '1440_30_Jun3.csv'"
   ]
  },
  {
   "cell_type": "code",
   "execution_count": null,
   "metadata": {},
   "outputs": [],
   "source": [
    "name = '1440_7_Jun3.csv'"
   ]
  },
  {
   "cell_type": "code",
   "execution_count": null,
   "metadata": {},
   "outputs": [],
   "source": [
    "name = '500J3.csv'"
   ]
  },
  {
   "cell_type": "code",
   "execution_count": null,
   "metadata": {},
   "outputs": [],
   "source": [
    "def dlCCI(end, name):\n",
    "    # Create connector\n",
    "    connector = bitmex.BitMEX(base_url=API_BASE)\n",
    "\n",
    "    # Do trade history query\n",
    "    path = \"trade/bucketed?binSize=5m&symbol=XBTUSD&columns=symbol%2C%20timestamp%2C%20close%2C%20high%2C%20low\"\n",
    "    count = 500  # max API will allow\n",
    "    query = {\n",
    "        'reverse': 'true',\n",
    "        'start': 0,\n",
    "        'count': count,\n",
    "        }\n",
    "\n",
    "    csvwriter = None\n",
    "    with open(name, 'w+') as f:\n",
    "        while True:\n",
    "            data = connector._curl_bitmex(path=path, verb=\"GET\", query=query, timeout=5)\n",
    "            if csvwriter is None:\n",
    "                # csv requires dict keys\n",
    "                if len(data) == 0:\n",
    "                    break\n",
    "                keys = sorted(data[0].keys())\n",
    "                # Write to stdout\n",
    "                csvwriter = csv.DictWriter(f, fieldnames=keys)\n",
    "                csvwriter.writeheader()\n",
    "            csvwriter.writerows(data)\n",
    "            query['start'] += count\n",
    "            if query['start'] > end:\n",
    "                break\n",
    "            if len(data) < count:\n",
    "                break\n",
    "    df1 = pd.read_csv(name)\n",
    "    df_all = pd.DataFrame(df1)\n",
    "    df_all = pd.DataFrame(df_all.values[::-1], df_all.index, df_all.columns) # turn around data\n",
    "\n",
    "    close = pd.Series(df_all['close'])\n",
    "    high = pd.Series(df_all['high'])\n",
    "    low = pd.Series(df_all['low'])#close values \n",
    "    l = len(close)\n",
    "    CCI = pd.Series(np.zeros(l))\n",
    "    SMA = pd.Series(np.zeros(l))\n",
    "    madmat = pd.Series(np.zeros(l))\n",
    "    cci_len=30\n",
    "    TP = (high+low+close)/3\n",
    "    for i in range(cci_len, len(close)):\n",
    "        SMA[i] = TP[i-cci_len:i].sum()/cci_len\n",
    "        madmat[i] = abs(SMA[i]-TP[i])\n",
    "        for j in range(1, cci_len):\n",
    "            madmat[i] = madmat[i] + abs(SMA[i]-TP[i-j])\n",
    "        madmat[i] = madmat[i]/cci_len\n",
    "        CCI[i] = (TP[i]-SMA[i])/(.015*madmat[i])\n",
    "    j = 0\n",
    "    k = 0\n",
    "    CCI = sp.signal.savgol_filter(CCI, 105, 3)\n",
    "    cci500df = pd.DataFrame(CCI)\n",
    "    print(cci500df.iloc[l-1])"
   ]
  },
  {
   "cell_type": "code",
   "execution_count": null,
   "metadata": {},
   "outputs": [],
   "source": [
    "dlshort_cci(500, '500J3_2.csv')"
   ]
  },
  {
   "cell_type": "code",
   "execution_count": null,
   "metadata": {},
   "outputs": [],
   "source": [
    "def dl_starttime(name):\n",
    "    # Create connector\n",
    "    connector = bitmex.BitMEX(base_url=API_BASE)\n",
    "\n",
    "    # Do trade history query\n",
    "    path = \"trade/bucketed?binSize=5m&symbol=XBTUSD&columns=symbol%2C%20timestamp%2C%20close%2C%20high%2C%20low&startTime=2018-06-02T05%3A10%3A00.000Z\"\n",
    "    count = 500  # max API will allow\n",
    "    query = {\n",
    "        'reverse': 'true',\n",
    "        'start': 0,\n",
    "        'count': count,\n",
    "        }\n",
    "\n",
    "    csvwriter = None\n",
    "    with open(name, 'w+') as f:\n",
    "        while True:\n",
    "            data = connector._curl_bitmex(path=path, verb=\"GET\", query=query, timeout=5)\n",
    "            if csvwriter is None:\n",
    "                # csv requires dict keys\n",
    "                if len(data) == 0:\n",
    "                    break\n",
    "                keys = sorted(data[0].keys())\n",
    "                # Write to stdout\n",
    "                csvwriter = csv.DictWriter(f, fieldnames=keys)\n",
    "                csvwriter.writeheader()\n",
    "\n",
    "            csvwriter.writerows(data)\n",
    "            query['start'] += count\n",
    "            #if query['start'] > num-1:\n",
    "            #    break\n",
    "            if len(data) < count:\n",
    "                break\n",
    "    df1 = pd.read_csv(name)\n",
    "    df_all = pd.DataFrame(df1)\n",
    "    df_all = pd.DataFrame(df_all.values[::-1], df_all.index, df_all.columns) # turn around data\n",
    "\n",
    "    close = pd.Series(df_all['close'])\n",
    "    high = pd.Series(df_all['high'])\n",
    "    low = pd.Series(df_all['low'])#close values \n",
    "    l = len(close)\n",
    "    CCI = pd.Series(np.zeros(l))\n",
    "    SMA = pd.Series(np.zeros(l))\n",
    "    madmat = pd.Series(np.zeros(l))\n",
    "    cci_len=30\n",
    "    TP = (high+low+close)/3\n",
    "    for i in range(cci_len, len(close)):\n",
    "        SMA[i] = TP[i-cci_len:i].sum()/cci_len\n",
    "        madmat[i] = abs(SMA[i]-TP[i])\n",
    "        for j in range(1, cci_len):\n",
    "            madmat[i] = madmat[i] + abs(SMA[i]-TP[i-j])\n",
    "        madmat[i] = madmat[i]/cci_len\n",
    "        CCI[i] = (TP[i]-SMA[i])/(.015*madmat[i])\n",
    "    j = 0\n",
    "    k = 0\n",
    "    CCI_500 = sp.signal.savgol_filter(CCI, 105, 3)\n",
    "    cci500df = pd.DataFrame(CCI_500)\n",
    "    print(df_all['timestamp'])"
   ]
  },
  {
   "cell_type": "code",
   "execution_count": null,
   "metadata": {},
   "outputs": [],
   "source": [
    "dl_starttime('boysnow.csv')"
   ]
  },
  {
   "cell_type": "code",
   "execution_count": null,
   "metadata": {},
   "outputs": [],
   "source": [
    "dl_starttime('boysnow.csv')"
   ]
  },
  {
   "cell_type": "code",
   "execution_count": null,
   "metadata": {},
   "outputs": [],
   "source": [
    "def dl1m(num,name):\n",
    "    # Create connector\n",
    "    connector = bitmex.BitMEX(base_url=API_BASE)\n",
    "\n",
    "    # Do trade history query\n",
    "    path = \"trade/bucketed?binSize=1m&symbol=XBTUSD&columns=symbol%2C%20timestamp%2C%20close%2C%20high%2C%20low\"\n",
    "    count = 500  # max API will allow\n",
    "    query = {\n",
    "        'reverse': 'true',\n",
    "        'start': 0,\n",
    "        'count': count,\n",
    "        }\n",
    "\n",
    "    csvwriter = None\n",
    "    with open(name, 'w+') as f:\n",
    "        while True:\n",
    "            data = connector._curl_bitmex(path=path, verb=\"GET\", query=query, timeout=5)\n",
    "            if csvwriter is None:\n",
    "                # csv requires dict keys\n",
    "                if len(data) == 0:\n",
    "                    break\n",
    "                keys = sorted(data[0].keys())\n",
    "                # Write to stdout\n",
    "                csvwriter = csv.DictWriter(f, fieldnames=keys)\n",
    "                csvwriter.writeheader()\n",
    "\n",
    "            csvwriter.writerows(data)\n",
    "            #data2 = pd.DataFrame\n",
    "            query['start'] += count\n",
    "            if query['start'] > num:\n",
    "                break\n",
    "            if len(data) < count:\n",
    "                break"
   ]
  },
  {
   "cell_type": "code",
   "execution_count": 5,
   "metadata": {},
   "outputs": [],
   "source": [
    "def dl5m(start, num,name):\n",
    "    # Create connector\n",
    "    connector = bitmex.BitMEX(base_url=API_BASE)\n",
    "\n",
    "    # Do trade history query\n",
    "    path = \"trade/bucketed?binSize=5m&symbol=XBTUSD&columns=symbol%2C%20timestamp%2C%20close%2C%20high%2C%20low\"\n",
    "    count = 300  # max API will allow\n",
    "    query = {\n",
    "        'reverse': 'true',\n",
    "        'start': start,\n",
    "        'count': count,\n",
    "        }\n",
    "\n",
    "    csvwriter = None\n",
    "    with open(name, 'w+') as f:\n",
    "        while True:\n",
    "            data = connector._curl_bitmex(path=path, verb=\"GET\", query=query, timeout=5)\n",
    "            if csvwriter is None:\n",
    "                # csv requires dict keys\n",
    "                if len(data) == 0:\n",
    "                    break\n",
    "                keys = sorted(data[0].keys())\n",
    "                # Write to stdout\n",
    "                csvwriter = csv.DictWriter(f, fieldnames=keys)\n",
    "                csvwriter.writeheader()\n",
    "\n",
    "            csvwriter.writerows(data)\n",
    "            #data2 = pd.DataFrame\n",
    "            query['start'] += count\n",
    "            if query['start'] > num:\n",
    "                break\n",
    "            if len(data) < count:\n",
    "                break"
   ]
  },
  {
   "cell_type": "code",
   "execution_count": null,
   "metadata": {},
   "outputs": [],
   "source": [
    "boys_now = 1\n",
    "n1 = 500\n",
    "n2 = 1440\n",
    "while True:\n",
    "    time.sleep(1)\n",
    "    t = pd.Series(datetime.datetime.now().timetuple())\n",
    "    if t[5] == 0:\n",
    "        n2 += 1\n",
    "        dlCCI(n2, '1440j3_try.csv')\n",
    "        \n",
    "    else:\n",
    "        boys_now\n"
   ]
  },
  {
   "cell_type": "code",
   "execution_count": null,
   "metadata": {},
   "outputs": [],
   "source": [
    "dlshortCCI(500, '500J3_10.csv')"
   ]
  },
  {
   "cell_type": "code",
   "execution_count": null,
   "metadata": {},
   "outputs": [],
   "source": [
    "dlCCI(1440, '1440j3_try.csv')"
   ]
  },
  {
   "cell_type": "code",
   "execution_count": 49,
   "metadata": {},
   "outputs": [],
   "source": [
    "name=  '1440_10_5m_jun5.csv'\n",
    "\n",
    "dl5m(1440*5,1440*10, name)"
   ]
  },
  {
   "cell_type": "code",
   "execution_count": null,
   "metadata": {},
   "outputs": [],
   "source": [
    "name=  '1440_7_5m_jun4.csv'"
   ]
  },
  {
   "cell_type": "code",
   "execution_count": null,
   "metadata": {},
   "outputs": [],
   "source": [
    "name = '1440_5m_jun4.csv'"
   ]
  },
  {
   "cell_type": "code",
   "execution_count": 126,
   "metadata": {},
   "outputs": [
    {
     "data": {
      "text/plain": [
       "'1440_10_5m_jun5.csv'"
      ]
     },
     "execution_count": 126,
     "metadata": {},
     "output_type": "execute_result"
    }
   ],
   "source": [
    "name"
   ]
  },
  {
   "cell_type": "code",
   "execution_count": 127,
   "metadata": {},
   "outputs": [],
   "source": [
    "name = '1440_4_5m_jun5.csv'"
   ]
  },
  {
   "cell_type": "code",
   "execution_count": null,
   "metadata": {},
   "outputs": [],
   "source": []
  }
 ],
 "metadata": {
  "kernelspec": {
   "display_name": "Python [conda env:domdecarlo]",
   "language": "python",
   "name": "conda-env-domdecarlo-py"
  },
  "language_info": {
   "codemirror_mode": {
    "name": "ipython",
    "version": 3
   },
   "file_extension": ".py",
   "mimetype": "text/x-python",
   "name": "python",
   "nbconvert_exporter": "python",
   "pygments_lexer": "ipython3",
   "version": "3.5.3"
  }
 },
 "nbformat": 4,
 "nbformat_minor": 2
}
