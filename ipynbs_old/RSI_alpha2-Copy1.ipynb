{
 "cells": [
  {
   "cell_type": "code",
   "execution_count": 19,
   "metadata": {},
   "outputs": [
    {
     "ename": "ImportError",
     "evalue": "No module named 'py35'",
     "output_type": "error",
     "traceback": [
      "\u001b[1;31m---------------------------------------------------------------------------\u001b[0m",
      "\u001b[1;31mImportError\u001b[0m                               Traceback (most recent call last)",
      "\u001b[1;32m<ipython-input-19-3acaeee7a39d>\u001b[0m in \u001b[0;36m<module>\u001b[1;34m()\u001b[0m\n\u001b[1;32m----> 1\u001b[1;33m \u001b[1;32mimport\u001b[0m \u001b[0mpy35\u001b[0m \u001b[1;32mas\u001b[0m \u001b[0mpy\u001b[0m\u001b[1;33m\u001b[0m\u001b[0m\n\u001b[0m",
      "\u001b[1;31mImportError\u001b[0m: No module named 'py35'"
     ]
    }
   ],
   "source": []
  },
  {
   "cell_type": "code",
   "execution_count": 1,
   "metadata": {},
   "outputs": [],
   "source": [
    "from __future__ import division\n",
    "import matplotlib.pyplot as plt\n",
    "import pandas as pd\n",
    "import numpy as np\n",
    "import argparse\n",
    "import json\n",
    "import csv\n",
    "import sys\n",
    "import time\n",
    "from lib import bitmex\n",
    "from lib.bitmex import BitMEX\n",
    "from settings import API_BASE, API_KEY, API_SECRET\n",
    "import scipy as sp\n",
    "from scipy.stats import *\n",
    "from scipy.stats import skew, kurtosis"
   ]
  },
  {
   "cell_type": "code",
   "execution_count": 68,
   "metadata": {},
   "outputs": [],
   "source": [
    "#API_BASE = 'https://www.bitmex.com/api/v1/'\n",
    "connector = bitmex.BitMEX(base_url=API_BASE,apiKey=API_KEY,apiSecret=API_SECRET)\n",
    "\n",
    "#connector = bitmex.BitMEX(base_url=API_BASE)\n",
    "\n",
    "def GetOrderBookPrice():\n",
    "    queryL2 = {\n",
    "    'symbol': 'XBTUSD',\n",
    "    'depth' : 1,\n",
    "    }\n",
    "\n",
    "    dataL2 = pd.DataFrame(connector._curl_bitmex(path=\"orderbook/L2\", verb=\"GET\", query=queryL2, timeout=5))\n",
    "    BuySide = dataL2.price[1]\n",
    "    SellSide = dataL2.price[0]\n",
    "    return BuySide\n",
    "def GetOrderBookPriceEnd():\n",
    "    queryL2 = {\n",
    "    'symbol': 'XBTUSD',\n",
    "    'depth' : 1,\n",
    "    }\n",
    "\n",
    "    dataL2 = pd.DataFrame(connector._curl_bitmex(path=\"orderbook/L2\", verb=\"GET\", query=queryL2, timeout=5))\n",
    "    BuySide = dataL2.price[1]\n",
    "    SellSide = dataL2.price[0]\n",
    "    return SellSide\n",
    "\n",
    "def Leverage(leverage):\n",
    "    query = {\n",
    "    'symbol': 'XBTUSD',\n",
    "    'leverage' : leverage,\n",
    "    }\n",
    "    data = connector._curl_bitmex(path=\"position/leverage\", verb=\"POST\", query=query, timeout=5)\n",
    "\n",
    "    \n",
    "def BeginShort(GetOrderBookPrice, GetBalance):\n",
    "    queryShort = {\n",
    "        'symbol': 'XBTUSD',\n",
    "        'simpleOrderQty': Balance,\n",
    "        'price' : GetOrderBookPrice(),\n",
    "    }\n",
    "    data = connector._curl_bitmex(path=\"order\", verb=\"POST\", query=queryShort, timeout=5)\n",
    "    \n",
    "def EndShort(Balance):\n",
    "    queryShort = {\n",
    "        'symbol': 'XBTUSD',\n",
    "        'orderQty': -1*Balance,\n",
    "        'ordType': 'Market',\n",
    "        'execInst': 'Close'\n",
    "    }\n",
    "    data = connector._curl_bitmex(path=\"order\", verb=\"POST\", query=queryShort, timeout=5)\n",
    "#BitMEX.sell(1, 10000)"
   ]
  },
  {
   "cell_type": "code",
   "execution_count": 70,
   "metadata": {},
   "outputs": [],
   "source": [
    "BeginShort(GetOrderBookPrice, -1)"
   ]
  },
  {
   "cell_type": "code",
   "execution_count": 74,
   "metadata": {},
   "outputs": [],
   "source": [
    "EndShort(-1)"
   ]
  },
  {
   "cell_type": "code",
   "execution_count": 76,
   "metadata": {},
   "outputs": [],
   "source": [
    "Leverage(1)"
   ]
  },
  {
   "cell_type": "code",
   "execution_count": 3,
   "metadata": {},
   "outputs": [],
   "source": []
  },
  {
   "cell_type": "code",
   "execution_count": 4,
   "metadata": {},
   "outputs": [],
   "source": [
    "rsi_dl(0, 500000, '500000.csv', 3)"
   ]
  },
  {
   "cell_type": "code",
   "execution_count": null,
   "metadata": {},
   "outputs": [],
   "source": []
  },
  {
   "cell_type": "code",
   "execution_count": null,
   "metadata": {},
   "outputs": [],
   "source": []
  },
  {
   "cell_type": "code",
   "execution_count": null,
   "metadata": {},
   "outputs": [],
   "source": []
  },
  {
   "cell_type": "code",
   "execution_count": null,
   "metadata": {},
   "outputs": [],
   "source": []
  },
  {
   "cell_type": "code",
   "execution_count": null,
   "metadata": {},
   "outputs": [],
   "source": []
  },
  {
   "cell_type": "code",
   "execution_count": null,
   "metadata": {},
   "outputs": [],
   "source": []
  },
  {
   "cell_type": "code",
   "execution_count": null,
   "metadata": {},
   "outputs": [],
   "source": []
  },
  {
   "cell_type": "code",
   "execution_count": null,
   "metadata": {},
   "outputs": [],
   "source": []
  },
  {
   "cell_type": "code",
   "execution_count": null,
   "metadata": {},
   "outputs": [],
   "source": []
  },
  {
   "cell_type": "code",
   "execution_count": null,
   "metadata": {},
   "outputs": [],
   "source": []
  },
  {
   "cell_type": "code",
   "execution_count": null,
   "metadata": {},
   "outputs": [],
   "source": []
  },
  {
   "cell_type": "code",
   "execution_count": null,
   "metadata": {},
   "outputs": [],
   "source": []
  },
  {
   "cell_type": "code",
   "execution_count": null,
   "metadata": {},
   "outputs": [],
   "source": [
    "\n"
   ]
  },
  {
   "cell_type": "code",
   "execution_count": null,
   "metadata": {},
   "outputs": [],
   "source": []
  },
  {
   "cell_type": "code",
   "execution_count": null,
   "metadata": {},
   "outputs": [],
   "source": []
  },
  {
   "cell_type": "code",
   "execution_count": null,
   "metadata": {},
   "outputs": [],
   "source": [
    "\n",
    "price = np.delete(price, np.s_[k::1], 0)\n",
    "print(k)\n"
   ]
  },
  {
   "cell_type": "code",
   "execution_count": null,
   "metadata": {},
   "outputs": [],
   "source": []
  },
  {
   "cell_type": "code",
   "execution_count": null,
   "metadata": {},
   "outputs": [],
   "source": []
  },
  {
   "cell_type": "code",
   "execution_count": 5,
   "metadata": {},
   "outputs": [
    {
     "data": {
      "text/plain": [
       "4294967296"
      ]
     },
     "execution_count": 5,
     "metadata": {},
     "output_type": "execute_result"
    }
   ],
   "source": [
    "2**32"
   ]
  },
  {
   "cell_type": "code",
   "execution_count": null,
   "metadata": {},
   "outputs": [],
   "source": []
  },
  {
   "cell_type": "code",
   "execution_count": null,
   "metadata": {},
   "outputs": [],
   "source": []
  },
  {
   "cell_type": "code",
   "execution_count": null,
   "metadata": {},
   "outputs": [],
   "source": []
  },
  {
   "cell_type": "code",
   "execution_count": 99,
   "metadata": {},
   "outputs": [],
   "source": [
    "## RSI w/ ALPHA ##\n",
    "def rsi_ewma(trades):\n",
    "    # Create connector\n",
    "    connector = bitmex.BitMEX(base_url=API_BASE)\n",
    "    # Do trade history query\n",
    "    path = \"trade/bucketed?binSize=1m&symbol=XBTUSD&columns=symbol%2C%20timestamp%2C%20close\"\n",
    "    count = 500  # max API will allow\n",
    "    query = {\n",
    "        'reverse': 'true',\n",
    "        'start': 0,\n",
    "        'count': count,\n",
    "        }\n",
    "    while True:\n",
    "        data = pd.DataFrame(connector._curl_bitmex(path=path, verb=\"GET\", query=query, timeout=5))\n",
    "        query['start'] += count\n",
    "        if query['start'] > trades:\n",
    "            break\n",
    "        if len(data) < count:\n",
    "            break\n",
    "    data = pd.DataFrame(data.values[::-1], data.index, data.columns) # turn around data#\n",
    "    close = data['close'] #close values\n",
    "    l = len(close)\n",
    "    rsi_len = 15\n",
    "    ## RSI CLOSE ##\n",
    "    change_close = pd.Series(np.zeros(l))\n",
    "    gain = pd.Series(np.zeros(l))\n",
    "    loss = pd.Series(np.zeros(l))\n",
    "    smagain = pd.Series(np.zeros(l))\n",
    "    smaloss = pd.Series(np.zeros(l))\n",
    "    RS = pd.Series(np.zeros(l))\n",
    "    RSIclose = pd.Series(np.zeros(l))\n",
    "    alpha = 0.7\n",
    "    for i in range(1,len(close)):   \n",
    "        #print(close[i])\n",
    "        change_close[i] = close[i]-close[i-1]\n",
    "        if change_close[i] > 0:\n",
    "            gain[i] = change_close[i]\n",
    "        elif change_close[i] < 0:\n",
    "            loss[i] = change_close[i]*-1\n",
    "        elif change_close[i] == 0.00000:\n",
    "            loss[i] = 0\n",
    "            gain[i] = 0\n",
    "        if i == rsi_len:   \n",
    "            smagain[rsi_len] = gain[i-rsi_len:i].sum()/rsi_len\n",
    "            smaloss[rsi_len] = loss[i-rsi_len:i].sum()/rsi_len\n",
    "        elif i > rsi_len: \n",
    "            smagain[i] = (1-alpha)*smagain[i-1]+(alpha)*gain[i]\n",
    "            smaloss[i] = (1-alpha)*smaloss[i-1]+(alpha)*loss[i]\n",
    "            if smaloss[i] == 0:\n",
    "                RSIclose[i] = 100\n",
    "            else:\n",
    "                RS[i] = smagain[i]/smaloss[i]\n",
    "                RSIclose[i] = 100 - 100/(1+RS[i])\n",
    "    RSI = RSIclose[l-1]\n",
    "    return RSI\n"
   ]
  },
  {
   "cell_type": "code",
   "execution_count": 100,
   "metadata": {},
   "outputs": [
    {
     "data": {
      "text/plain": [
       "11.39335297196024"
      ]
     },
     "execution_count": 100,
     "metadata": {},
     "output_type": "execute_result"
    }
   ],
   "source": [
    "rsi_ewma(500)"
   ]
  },
  {
   "cell_type": "code",
   "execution_count": 88,
   "metadata": {},
   "outputs": [],
   "source": [
    "## RSI w/ AsdfsdfLPHA ##\n",
    "def rsi_ewms(trades):\n",
    "    # Create connector\n",
    "    connector = bitmex.BitMEX(base_url=API_BASE)\n",
    "\n",
    "    # Do trade history query\n",
    "    path = \"trade/bucketed?binSize=1m&symbol=XBTUSD&columns=close\"\n",
    "    count = 500  # max API will allow\n",
    "    query = {\n",
    "        'reverse': 'true',\n",
    "        'start': 0,\n",
    "        'count': count,\n",
    "        }\n",
    "\n",
    "    csvwriter = None\n",
    "    while True:\n",
    "        data = pd.DataFrame(connector._curl_bitmex(path=path, verb=\"GET\", query=query, timeout=5))\n",
    "        query['start'] += count\n",
    "        if query['start'] > trades:\n",
    "            break\n",
    "        if len(data) < count:\n",
    "            break\n",
    "    print(data)\n"
   ]
  },
  {
   "cell_type": "code",
   "execution_count": 7,
   "metadata": {},
   "outputs": [],
   "source": []
  },
  {
   "cell_type": "code",
   "execution_count": 8,
   "metadata": {},
   "outputs": [
    {
     "name": "stdout",
     "output_type": "stream",
     "text": [
      "0      0.000000\n",
      "1      0.000000\n",
      "2      0.000000\n",
      "3      0.000000\n",
      "4      0.000000\n",
      "5      0.000000\n",
      "6      0.000000\n",
      "7      0.000000\n",
      "8      0.000000\n",
      "9      0.000000\n",
      "10     0.000000\n",
      "11     0.000000\n",
      "12     0.000000\n",
      "13     0.000000\n",
      "14     0.000000\n",
      "15     0.000000\n",
      "16    26.829268\n",
      "17     7.601740\n",
      "18     7.601740\n",
      "19     1.090295\n",
      "20    81.277260\n",
      "21    92.514834\n",
      "22    94.653987\n",
      "23    99.379881\n",
      "24    14.416762\n",
      "25     8.418822\n",
      "26    85.230012\n",
      "27    87.550403\n",
      "28    42.762902\n",
      "29     5.467819\n",
      "        ...    \n",
      "70     4.149782\n",
      "71    80.811579\n",
      "72    55.296318\n",
      "73    26.941498\n",
      "74     6.097389\n",
      "75    61.400497\n",
      "76    75.707405\n",
      "77    96.409431\n",
      "78    96.409431\n",
      "79    99.773888\n",
      "80    29.228758\n",
      "81    17.262577\n",
      "82    84.583779\n",
      "83    45.780948\n",
      "84    58.479353\n",
      "85    58.479353\n",
      "86     1.973978\n",
      "87    79.605187\n",
      "88    85.495739\n",
      "89    98.963772\n",
      "90    30.055204\n",
      "91    26.929976\n",
      "92    69.381147\n",
      "93    69.381147\n",
      "94    69.381147\n",
      "95     0.608791\n",
      "96     0.340737\n",
      "97    63.907516\n",
      "98    93.562536\n",
      "99    77.281180\n",
      "Length: 100, dtype: float64\n",
      "0      0.000000\n",
      "1      0.000000\n",
      "2      0.000000\n",
      "3      0.000000\n",
      "4      0.000000\n",
      "5      0.000000\n",
      "6      0.000000\n",
      "7      0.000000\n",
      "8      0.000000\n",
      "9      0.000000\n",
      "10     0.000000\n",
      "11     0.000000\n",
      "12     0.000000\n",
      "13     0.000000\n",
      "14     0.000000\n",
      "15     0.000000\n",
      "16    26.829268\n",
      "17     7.601740\n",
      "18     7.601740\n",
      "19     1.090295\n",
      "20    81.277260\n",
      "21    92.514834\n",
      "22    94.653987\n",
      "23    99.379881\n",
      "24    14.416762\n",
      "25     8.418822\n",
      "26    85.230012\n",
      "27    87.550403\n",
      "28    42.762902\n",
      "29     5.467819\n",
      "        ...    \n",
      "70     4.149782\n",
      "71    80.811579\n",
      "72    55.296318\n",
      "73    26.941498\n",
      "74     6.097389\n",
      "75    61.400497\n",
      "76    75.707405\n",
      "77    96.409431\n",
      "78    96.409431\n",
      "79    99.773888\n",
      "80    29.228758\n",
      "81    17.262577\n",
      "82    84.583779\n",
      "83    45.780948\n",
      "84    58.479353\n",
      "85    58.479353\n",
      "86     1.973978\n",
      "87    79.605187\n",
      "88    85.495739\n",
      "89    98.963772\n",
      "90    30.055204\n",
      "91    26.929976\n",
      "92    69.381147\n",
      "93    69.381147\n",
      "94    69.381147\n",
      "95     0.608791\n",
      "96     0.340737\n",
      "97    63.907516\n",
      "98    93.562536\n",
      "99    77.281180\n",
      "Length: 100, dtype: float64\n"
     ]
    }
   ],
   "source": []
  },
  {
   "cell_type": "code",
   "execution_count": null,
   "metadata": {},
   "outputs": [],
   "source": []
  },
  {
   "cell_type": "code",
   "execution_count": 6,
   "metadata": {},
   "outputs": [],
   "source": []
  },
  {
   "cell_type": "code",
   "execution_count": 11,
   "metadata": {},
   "outputs": [
    {
     "name": "stdout",
     "output_type": "stream",
     "text": [
      "Unhandled Error: 429 Client Error: Too Many Requests for url: https://www.bitmex.com/api/v1/trade/bucketed?binSize=1m&symbol=XBTUSD&columns=symbol%2C%20timestamp%2C%20close%2C%20vwap&start=16700&count=100&reverse=true {\"error\":{\"message\":\"Rate limit exceeded, retry in 2 seconds.\",\"name\":\"RateLimitError\"}}\n",
      "Endpoint was: GET trade/bucketed?binSize=1m&symbol=XBTUSD&columns=symbol%2C%20timestamp%2C%20close%2C%20vwap\n"
     ]
    },
    {
     "ename": "NameError",
     "evalue": "name 'exit' is not defined",
     "output_type": "error",
     "traceback": [
      "\u001b[1;31m---------------------------------------------------------------------------\u001b[0m",
      "\u001b[1;31mHTTPError\u001b[0m                                 Traceback (most recent call last)",
      "\u001b[1;32m~\\e\\lib\\bitmex.py\u001b[0m in \u001b[0;36m_curl_bitmex\u001b[1;34m(self, path, query, postdict, timeout, verb)\u001b[0m\n\u001b[0;32m    199\u001b[0m             \u001b[1;31m# Make non-200s throw\u001b[0m\u001b[1;33m\u001b[0m\u001b[1;33m\u001b[0m\u001b[0m\n\u001b[1;32m--> 200\u001b[1;33m             \u001b[0mresponse\u001b[0m\u001b[1;33m.\u001b[0m\u001b[0mraise_for_status\u001b[0m\u001b[1;33m(\u001b[0m\u001b[1;33m)\u001b[0m\u001b[1;33m\u001b[0m\u001b[0m\n\u001b[0m\u001b[0;32m    201\u001b[0m \u001b[1;33m\u001b[0m\u001b[0m\n",
      "\u001b[1;32mC:\\ProgramData\\Anaconda3\\envs\\domdecarlo\\lib\\site-packages\\requests\\models.py\u001b[0m in \u001b[0;36mraise_for_status\u001b[1;34m(self)\u001b[0m\n\u001b[0;32m    934\u001b[0m         \u001b[1;32mif\u001b[0m \u001b[0mhttp_error_msg\u001b[0m\u001b[1;33m:\u001b[0m\u001b[1;33m\u001b[0m\u001b[0m\n\u001b[1;32m--> 935\u001b[1;33m             \u001b[1;32mraise\u001b[0m \u001b[0mHTTPError\u001b[0m\u001b[1;33m(\u001b[0m\u001b[0mhttp_error_msg\u001b[0m\u001b[1;33m,\u001b[0m \u001b[0mresponse\u001b[0m\u001b[1;33m=\u001b[0m\u001b[0mself\u001b[0m\u001b[1;33m)\u001b[0m\u001b[1;33m\u001b[0m\u001b[0m\n\u001b[0m\u001b[0;32m    936\u001b[0m \u001b[1;33m\u001b[0m\u001b[0m\n",
      "\u001b[1;31mHTTPError\u001b[0m: 429 Client Error: Too Many Requests for url: https://www.bitmex.com/api/v1/trade/bucketed?binSize=1m&symbol=XBTUSD&columns=symbol%2C%20timestamp%2C%20close%2C%20vwap&start=16700&count=100&reverse=true",
      "\nDuring handling of the above exception, another exception occurred:\n",
      "\u001b[1;31mNameError\u001b[0m                                 Traceback (most recent call last)",
      "\u001b[1;32m<ipython-input-11-93bc51419880>\u001b[0m in \u001b[0;36m<module>\u001b[1;34m()\u001b[0m\n\u001b[0;32m      1\u001b[0m \u001b[1;33m\u001b[0m\u001b[0m\n\u001b[1;32m----> 2\u001b[1;33m \u001b[0mwtf\u001b[0m\u001b[1;33m(\u001b[0m\u001b[1;36m0\u001b[0m\u001b[1;33m,\u001b[0m \u001b[1;36m20000\u001b[0m\u001b[1;33m,\u001b[0m \u001b[1;34m'20000.csv'\u001b[0m\u001b[1;33m,\u001b[0m \u001b[1;36m0\u001b[0m\u001b[1;33m)\u001b[0m\u001b[1;33m\u001b[0m\u001b[0m\n\u001b[0m",
      "\u001b[1;32m<ipython-input-10-f84c9ad976bb>\u001b[0m in \u001b[0;36mwtf\u001b[1;34m(start, end, name, sleep)\u001b[0m\n\u001b[0;32m     15\u001b[0m     \u001b[1;32mwith\u001b[0m \u001b[0mopen\u001b[0m\u001b[1;33m(\u001b[0m\u001b[0mname\u001b[0m\u001b[1;33m,\u001b[0m \u001b[1;34m'w+'\u001b[0m\u001b[1;33m)\u001b[0m \u001b[1;32mas\u001b[0m \u001b[0mf\u001b[0m\u001b[1;33m:\u001b[0m\u001b[1;33m\u001b[0m\u001b[0m\n\u001b[0;32m     16\u001b[0m         \u001b[1;32mwhile\u001b[0m \u001b[1;32mTrue\u001b[0m\u001b[1;33m:\u001b[0m\u001b[1;33m\u001b[0m\u001b[0m\n\u001b[1;32m---> 17\u001b[1;33m             \u001b[0mdata\u001b[0m \u001b[1;33m=\u001b[0m \u001b[0mconnector\u001b[0m\u001b[1;33m.\u001b[0m\u001b[0m_curl_bitmex\u001b[0m\u001b[1;33m(\u001b[0m\u001b[0mpath\u001b[0m\u001b[1;33m=\u001b[0m\u001b[0mpath\u001b[0m\u001b[1;33m,\u001b[0m \u001b[0mverb\u001b[0m\u001b[1;33m=\u001b[0m\u001b[1;34m\"GET\"\u001b[0m\u001b[1;33m,\u001b[0m \u001b[0mquery\u001b[0m\u001b[1;33m=\u001b[0m\u001b[0mquery\u001b[0m\u001b[1;33m,\u001b[0m \u001b[0mtimeout\u001b[0m\u001b[1;33m=\u001b[0m\u001b[1;36m5\u001b[0m\u001b[1;33m)\u001b[0m\u001b[1;33m\u001b[0m\u001b[0m\n\u001b[0m\u001b[0;32m     18\u001b[0m             \u001b[1;32mif\u001b[0m \u001b[0msleep\u001b[0m \u001b[1;33m>\u001b[0m \u001b[1;36m0\u001b[0m\u001b[1;33m:\u001b[0m\u001b[1;33m\u001b[0m\u001b[0m\n\u001b[0;32m     19\u001b[0m                 \u001b[0mtime\u001b[0m\u001b[1;33m.\u001b[0m\u001b[0msleep\u001b[0m\u001b[1;33m(\u001b[0m\u001b[1;36m2.1\u001b[0m\u001b[1;33m)\u001b[0m\u001b[1;33m\u001b[0m\u001b[0m\n",
      "\u001b[1;32m~\\e\\lib\\bitmex.py\u001b[0m in \u001b[0;36m_curl_bitmex\u001b[1;34m(self, path, query, postdict, timeout, verb)\u001b[0m\n\u001b[0;32m    245\u001b[0m                 \u001b[0mprint\u001b[0m\u001b[1;33m(\u001b[0m\u001b[1;34m\"Unhandled Error:\"\u001b[0m\u001b[1;33m,\u001b[0m \u001b[0me\u001b[0m\u001b[1;33m,\u001b[0m \u001b[0mresponse\u001b[0m\u001b[1;33m.\u001b[0m\u001b[0mtext\u001b[0m\u001b[1;33m)\u001b[0m\u001b[1;33m\u001b[0m\u001b[0m\n\u001b[0;32m    246\u001b[0m                 \u001b[0mprint\u001b[0m\u001b[1;33m(\u001b[0m\u001b[1;34m\"Endpoint was: %s %s\"\u001b[0m \u001b[1;33m%\u001b[0m \u001b[1;33m(\u001b[0m\u001b[0mverb\u001b[0m\u001b[1;33m,\u001b[0m \u001b[0mpath\u001b[0m\u001b[1;33m)\u001b[0m\u001b[1;33m)\u001b[0m\u001b[1;33m\u001b[0m\u001b[0m\n\u001b[1;32m--> 247\u001b[1;33m                 \u001b[0mexit\u001b[0m\u001b[1;33m(\u001b[0m\u001b[1;36m1\u001b[0m\u001b[1;33m)\u001b[0m\u001b[1;33m\u001b[0m\u001b[0m\n\u001b[0m\u001b[0;32m    248\u001b[0m \u001b[1;33m\u001b[0m\u001b[0m\n\u001b[0;32m    249\u001b[0m         \u001b[1;32mexcept\u001b[0m \u001b[0mrequests\u001b[0m\u001b[1;33m.\u001b[0m\u001b[0mexceptions\u001b[0m\u001b[1;33m.\u001b[0m\u001b[0mTimeout\u001b[0m \u001b[1;32mas\u001b[0m \u001b[0me\u001b[0m\u001b[1;33m:\u001b[0m\u001b[1;33m\u001b[0m\u001b[0m\n",
      "\u001b[1;31mNameError\u001b[0m: name 'exit' is not defined"
     ]
    }
   ],
   "source": [
    "\n",
    "wtf(0, 20000, '20000.csv', 0)"
   ]
  },
  {
   "cell_type": "code",
   "execution_count": 10,
   "metadata": {},
   "outputs": [],
   "source": [
    "def wtf(start, end, name, sleep):\n",
    "    # Create connector\n",
    "    connector = bitmex.BitMEX(base_url=API_BASE)\n",
    "\n",
    "    # Do trade history query\n",
    "    path = \"trade/bucketed?binSize=1m&symbol=XBTUSD&columns=symbol%2C%20timestamp%2C%20close%2C%20vwap\"\n",
    "    count = 100  # max API will allow\n",
    "    query = {\n",
    "        'reverse': 'true',\n",
    "        'start': start,\n",
    "        'count': count,\n",
    "        }\n",
    "\n",
    "    csvwriter = None\n",
    "    with open(name, 'w+') as f:\n",
    "        while True:\n",
    "            data = connector._curl_bitmex(path=path, verb=\"GET\", query=query, timeout=5)\n",
    "            if sleep > 0:\n",
    "                time.sleep(2.1)\n",
    "            if csvwriter is None:\n",
    "                # csv requires dict keys\n",
    "                if len(data) == 0:\n",
    "                    break\n",
    "                keys = sorted(data[0].keys())\n",
    "                # Write to stdout\n",
    "                csvwriter = csv.DictWriter(f, fieldnames=keys)\n",
    "                csvwriter.writeheader()\n",
    "\n",
    "            csvwriter.writerows(data)\n",
    "            #data2 = pd.DataFrame\n",
    "            data2 = np.append(data, data)\n",
    "            query['start'] += count\n",
    "            if query['start'] > end:\n",
    "                break\n",
    "            if len(data) < count:\n",
    "                break\n"
   ]
  },
  {
   "cell_type": "code",
   "execution_count": 49,
   "metadata": {},
   "outputs": [],
   "source": [
    "def pnl_alpha_X(start, end, name, alpha, sleep, leverage, low, high, X):\n",
    "    \n",
    "\n",
    "\n",
    "    # Create connector\n",
    "    connector = bitmex.BitMEX(base_url=API_BASE)\n",
    "\n",
    "    # Do trade history query\n",
    "    path = \"trade/bucketed?binSize=5m&symbol=XBTUSD&columns=symbol%2C%20timestamp%2C%20close%2C%20vwap\"\n",
    "    count = 500  # max API will allow\n",
    "    query = {\n",
    "        'reverse': 'true',\n",
    "        'start': start,\n",
    "        'count': count,\n",
    "        }\n",
    "\n",
    "    csvwriter = None\n",
    "    with open(name, 'w+') as f:\n",
    "        while True:\n",
    "            data = connector._curl_bitmex(path=path, verb=\"GET\", query=query, timeout=5)\n",
    "            if sleep > 0:\n",
    "                time.sleep(2.1)\n",
    "            if csvwriter is None:\n",
    "                # csv requires dict keys\n",
    "                if len(data) == 0:\n",
    "                    break\n",
    "                keys = sorted(data[0].keys())\n",
    "                # Write to stdout\n",
    "                csvwriter = csv.DictWriter(f, fieldnames=keys)\n",
    "                csvwriter.writeheader()\n",
    "\n",
    "            csvwriter.writerows(data)\n",
    "            #data2 = pd.DataFrame\n",
    "            data2 = np.append(data, data)\n",
    "            query['start'] += count\n",
    "            if query['start'] > end:\n",
    "                break\n",
    "            if len(data) < count:\n",
    "                break\n",
    "\n",
    "    df1 = pd.read_csv(name)\n",
    "    df_all = pd.DataFrame(df1)\n",
    "    df_all = pd.DataFrame(df_all.values[::-1], df_all.index, df_all.columns) # turn around data\n",
    "\n",
    "    close = df_all['close'] #close values\n",
    "    vwap = pd.Series(df_all['vwap']) #volume-weighted price average\n",
    "    lm = len(close)-1\n",
    "    lp = len(close)+1\n",
    "    l = len(close)\n",
    "    rsi_len = 15\n",
    "    ## RSI CLOSE ##\n",
    "    change_close = pd.Series(np.zeros(l))\n",
    "    gain = pd.Series(np.zeros(l))\n",
    "    loss = pd.Series(np.zeros(l))\n",
    "    smagain = pd.Series(np.zeros(l))\n",
    "    smaloss = pd.Series(np.zeros(l))\n",
    "    RS = pd.Series(np.zeros(l))\n",
    "    RSIclose = pd.Series(np.zeros(l))\n",
    "    for i in range(1,len(close)):   \n",
    "        #print(close[i])\n",
    "        change_close[i] = close[i]-close[i-1]\n",
    "        if change_close[i] > 0:\n",
    "            gain[i] = change_close[i]\n",
    "        elif change_close[i] < 0:\n",
    "            loss[i] = change_close[i]*-1\n",
    "        elif change_close[i] == 0.00000:\n",
    "            loss[i] = 0\n",
    "            gain[i] = 0\n",
    "        if i == rsi_len:   \n",
    "            smagain[rsi_len] = gain[i-rsi_len:i].sum()/rsi_len\n",
    "            smaloss[rsi_len] = loss[i-rsi_len:i].sum()/rsi_len\n",
    "        elif i > rsi_len: \n",
    "            smagain[i] = (1-alpha)*smagain[i-1]+(alpha)*gain[i]\n",
    "            smaloss[i] = (1-alpha)*smaloss[i-1]+(alpha)*loss[i]\n",
    "            if smaloss[i] == 0:\n",
    "                RSIclose[i] = 100\n",
    "            else:\n",
    "                RS[i] = smagain[i]/smaloss[i]\n",
    "                RSIclose[i] = 100 - 100/(1+RS[i])\n",
    "               #print(RSIclose[i])\n",
    "    j = 0\n",
    "    k = 0\n",
    "    price = np.zeros((l-15, 9))\n",
    "    #pnl = 1;\n",
    "    f=0\n",
    "    d=0\n",
    "    for i in range(15, l):\n",
    "        if (RSIclose[i] < low and j == 0):\n",
    "            j = 1\n",
    "            price[k, 0] = close[i]\n",
    "            price[k, 2] = i\n",
    "            price[k, 4] = RSIclose[i]\n",
    "        elif (RSIclose[i]>=high) and (j>=1):\n",
    "            #mat[j,k] = RSIclose[i]\n",
    "            price[k, 5] = RSIclose[i]\n",
    "            price[k, 3] = i;   \n",
    "            price[k, 1] = close[i]\n",
    "            price[k, 8] = (1-price[k,1]/price[k,0])*100\n",
    "            k = k+1\n",
    "            j = 0\n",
    "       # d = 1\n",
    "    price = np.delete(price, np.s_[k::], 0)\n",
    "    pnl = np.ones(len(price))\n",
    "    pnlT = np.ones(len(price))\n",
    "    X2= abs(X-1)\n",
    "    for i in range(0, len(price)-1):\n",
    "        pnl[i] = (1+(price[i,X]/price[i,X2]-1-.00075)*leverage)\n",
    "        pnlT[i+1] = pnlT[i]*(1+(price[i,X]/price[i,X2]-1-.00075)*leverage)\n",
    "        price[i, 7] = pnlT[i]\n",
    "        price[i, 6] = pnl[i]\n",
    "    plt.plot(range(1,len(pnl)+1), pnlT, label='Boys per Time')\n",
    "    plt.title(\"Boys Club Now\")\n",
    "    plt.legend()\n",
    "    plt.show()\n",
    "    #n, bins, patches = plt.hist(pnl, 500, density=False, facecolor='g', alpha=0.85)\n",
    "    n, bins, patches = plt.hist(pnl, 500, density=False, facecolor='g', alpha=0.85)\n",
    "    #print(min(price))\n",
    "    print(np.argmax(price[:,8]))\n",
    "    print(np.max(price[:,8]))\n",
    "    print(np.mean(pnl))\n",
    "    print(sp.stats.skew(pnl))\n",
    "    print(max(pnl))\n",
    "    print(min(pnl))\n",
    "    print(pnlT[(len(pnlT) - 1)])\n",
    "    #pdb.set_trace()g"
   ]
  },
  {
   "cell_type": "code",
   "execution_count": 52,
   "metadata": {},
   "outputs": [
    {
     "data": {
      "text/plain": [
       "<function __main__.pnl_alpha_X(start, end, name, alpha, sleep, leverage, low, high, X)>"
      ]
     },
     "execution_count": 52,
     "metadata": {},
     "output_type": "execute_result"
    }
   ],
   "source": [
    "pnl_alpha_X"
   ]
  },
  {
   "cell_type": "code",
   "execution_count": 22,
   "metadata": {
    "scrolled": true
   },
   "outputs": [
    {
     "ename": "NameError",
     "evalue": "name 'pnl_alpha_X' is not defined",
     "output_type": "error",
     "traceback": [
      "\u001b[1;31m---------------------------------------------------------------------------\u001b[0m",
      "\u001b[1;31mNameError\u001b[0m                                 Traceback (most recent call last)",
      "\u001b[1;32m<ipython-input-22-af44abed74fb>\u001b[0m in \u001b[0;36m<module>\u001b[1;34m()\u001b[0m\n\u001b[1;32m----> 1\u001b[1;33m \u001b[0mpnl_alpha_X\u001b[0m\u001b[1;33m(\u001b[0m\u001b[1;36m0\u001b[0m\u001b[1;33m,\u001b[0m \u001b[1;36m100000\u001b[0m\u001b[1;33m,\u001b[0m \u001b[1;34m'100000.csv'\u001b[0m\u001b[1;33m,\u001b[0m \u001b[1;36m0.3\u001b[0m\u001b[1;33m,\u001b[0m  \u001b[1;36m2.5\u001b[0m\u001b[1;33m,\u001b[0m \u001b[1;36m10\u001b[0m\u001b[1;33m,\u001b[0m \u001b[1;36m10\u001b[0m\u001b[1;33m,\u001b[0m \u001b[1;36m90\u001b[0m\u001b[1;33m,\u001b[0m \u001b[1;36m1\u001b[0m\u001b[1;33m)\u001b[0m\u001b[1;33m\u001b[0m\u001b[0m\n\u001b[0m",
      "\u001b[1;31mNameError\u001b[0m: name 'pnl_alpha_X' is not defined"
     ]
    }
   ],
   "source": [
    "pnl_alpha_X(0, 100000, '100000.csv', 0.3,  2.5, 10, 10, 90, 1)"
   ]
  },
  {
   "cell_type": "code",
   "execution_count": 68,
   "metadata": {
    "scrolled": true
   },
   "outputs": [
    {
     "name": "stdout",
     "output_type": "stream",
     "text": [
      "1.0\n",
      "ModeResult(mode=array([1.]), count=array([1]))\n",
      "0.0\n"
     ]
    },
    {
     "name": "stderr",
     "output_type": "stream",
     "text": [
      "C:\\ProgramData\\Anaconda3\\envs\\domdecarlo\\lib\\site-packages\\pandas\\core\\series.py:696: FutureWarning: \n",
      "Passing list-likes to .loc or [] with any missing label will raise\n",
      "KeyError in the future, you can use .reindex() as an alternative.\n",
      "\n",
      "See the documentation here:\n",
      "http://pandas.pydata.org/pandas-docs/stable/indexing.html#deprecate-loc-reindex-listlike\n",
      "  return self.loc[key]\n"
     ]
    },
    {
     "data": {
      "image/png": "[encoded data removed]",
      "text/plain": [
       "<Figure size 432x288 with 2 Axes>"
      ]
     },
     "metadata": {},
     "output_type": "display_data"
    }
   ],
   "source": [
    "## just RSIalpha and PNL ##\n",
    "\n",
    "alpha = .2\n",
    "low = 10\n",
    "high = 90\n",
    "leverage = 10\n",
    "df1 = pd.read_csv('100000.csv')\n",
    "df_all = pd.DataFrame(df1)\n",
    "df_all = pd.DataFrame(df_all.values[::-1], df_all.index, df_all.columns) # turn around data\n",
    "\n",
    "close = pd.Series(df_all['close']) #close values \n",
    "lm = len(close)-1\n",
    "lp = len(close)+1\n",
    "l = len(close)\n",
    "rsi_len = 15\n",
    "## RSI CLOSE ##\n",
    "change_close = pd.Series(np.zeros(l))\n",
    "gain = pd.Series(np.zeros(l))\n",
    "loss = pd.Series(np.zeros(l))\n",
    "smagain = pd.Series(np.zeros(l))\n",
    "smaloss = pd.Series(np.zeros(l))\n",
    "smagaina = pd.Series(np.zeros(l))\n",
    "smalossa = pd.Series(np.zeros(l))\n",
    "RS = pd.Series(np.zeros(l))\n",
    "RSIclose = pd.Series(np.zeros(l))\n",
    "\n",
    "for i in range(1,len(close)):   \n",
    "    #print(close[i])\n",
    "    change_close[i] = close[i]-close[i-1]\n",
    "    if change_close[i] > 0:\n",
    "        gain[i] = change_close[i]\n",
    "    elif change_close[i] < 0:\n",
    "        loss[i] = change_close[i]*-1\n",
    "    elif change_close[i] == 0.00000:\n",
    "        loss[i] = 0\n",
    "        gain[i] = 0\n",
    "    if i == rsi_len:   \n",
    "        smagain[rsi_len] = gain[i-rsi_len:i].sum()/rsi_len\n",
    "        smaloss[rsi_len] = loss[i-rsi_len:i].sum()/rsi_len\n",
    "    elif i > rsi_len: \n",
    "        smagaina[i] = (1-alpha)*smagain[i-1]+(alpha)*gain[i]\n",
    "        smalossa[i] = (1-alpha)*smaloss[i-1]+(alpha)*loss[i]\n",
    "        smagain[rsi_len] = gain[i-rsi_len:i].sum()/rsi_len\n",
    "        smaloss[rsi_len] = loss[i-rsi_len:i].sum()/rsi_len\n",
    "        if smaloss[i] == 0:\n",
    "            RSIclose[i] = 100\n",
    "        else:\n",
    "            RS[i] = smagain[i]/smaloss[i]\n",
    "            RSIclose[i] = 100 - 100/(1+RS[i])\n",
    "j = 0\n",
    "k = 0\n",
    "price = np.zeros((l-15, 9))\n",
    "#mat = np.zeros((20, 1200))\n",
    "#pnl = 1;\n",
    "#leverage = 10\n",
    "f=0\n",
    "d=0\n",
    "for i in range(rsi_len, l):\n",
    "    if (RSIclose[i] < low and j == 0):\n",
    "        j = 1\n",
    "        price[k, 0] = close[i]\n",
    "        price[k, 2] = i\n",
    "        price[k, 4] = RSIclose[i]\n",
    "    #elif  (RSIclose[i] < low and j>=1):    \n",
    "    #    j = j + 1\n",
    "    #    mat[j,k] = RSIclose[i]\n",
    "    #elif RSIclose[i] >= low  and (RSIclose[i] <= high) and (j >= 1):\n",
    "    ##    j = j + 1\n",
    "     # #  mat[j,k] = RSIclose[i] \n",
    "    elif (RSIclose[i]>=high) and (j>=1):\n",
    "        j = j+1\n",
    "        #mat[j,k] = RSIclose[i]\n",
    "        price[k, 5] = RSIclose[i]\n",
    "        price[k, 3] = i  \n",
    "        price[k, 1] = close[i]\n",
    "        price[k, 8] = (1-price[k,1]/price[k,0])*100\n",
    "        k = k+1\n",
    "        j = 0\n",
    "       # d = 1\n",
    "\n",
    "   # if price[k,4] == price[k,5]:\n",
    "   #     p = price[k,5]+1\n",
    "   #     price[k,5] = p\n",
    "   #     price[k,1] = close[p]\n",
    "  #  if (RSIclose[i] >= hiS and j == 0):\n",
    " #       j = 1\n",
    " #       price[k, 0] = close[i]\n",
    " #       price[k, 2] = 1\n",
    "  #  elif (RSIclose[i] <= loS) and (j>=1):\n",
    "    #    j = 0 \n",
    "  #     k = k+1\n",
    "  #  price[k, 1] = close[i];\n",
    "price = np.delete(price, np.s_[k::], 0)\n",
    "pnl = np.ones(len(price))\n",
    "pnlT = np.ones(len(price))\n",
    "X = 1\n",
    "X2= abs(X-1)\n",
    "\n",
    "for i in range(0, len(price)-1):\n",
    "    pnl[i+1] = 1*(1+(price[i,X]/price[i,X2]-1-.00075)*leverage)\n",
    "    pnlT[i+1] = pnlT[i]*(1+(price[i,X]/price[i,X2]-1-.00075)*leverage)\n",
    "    price[i, 7] = pnlT[i]\n",
    "    price[i, 6] = pnl[i]\n",
    "   #f pnl[i+1] < 0.8:\n",
    "       # pnlT[i+1] = 1\n",
    "    #   print('No boys.')\n",
    "\n",
    "#n, bins, patches = plt.hist(pnl, 500, density=False, facecolor='g', alpha=0.85)\n",
    "#plt.hist(pnl, 500, density=False, facecolor='g', alpha=0.85)\n",
    "#pdb.set_trace()\n",
    "print(np.mean(pnl))\n",
    "print(sp.stats.mode(pnl))\n",
    "print(sp.stats.skew(pnl))\n",
    "j = np.arange(1, 100000)\n",
    "plt.subplot(2,1,1)\n",
    "plt.plot(j, close[j], label='Boys per Time')\n",
    "plt.subplot(2,1,2)\n",
    "plt.plot(range(1,len(pnl)+1), pnlT, label='Boys per Time')\n",
    "plt.show()"
   ]
  },
  {
   "cell_type": "code",
   "execution_count": null,
   "metadata": {},
   "outputs": [],
   "source": []
  },
  {
   "cell_type": "code",
   "execution_count": 50,
   "metadata": {},
   "outputs": [
    {
     "data": {
      "text/plain": [
       "2.0942088940419734"
      ]
     },
     "execution_count": 50,
     "metadata": {},
     "output_type": "execute_result"
    }
   ],
   "source": [
    "sp.stats.skew(pnl)"
   ]
  },
  {
   "cell_type": "code",
   "execution_count": 110,
   "metadata": {},
   "outputs": [
    {
     "data": {
      "text/plain": [
       "array([80.37257091, 84.87879577, 70.90231099, ..., 90.97357711,\n",
       "       76.78933176, 92.26714021])"
      ]
     },
     "execution_count": 110,
     "metadata": {},
     "output_type": "execute_result"
    }
   ],
   "source": [
    "price[:,5]"
   ]
  },
  {
   "cell_type": "code",
   "execution_count": 78,
   "metadata": {},
   "outputs": [
    {
     "name": "stdout",
     "output_type": "stream",
     "text": [
      "[[6.74300000e+03 6.74450000e+03 1.50000000e+01 ... 8.96713615e+01\n",
      "  1.00000000e+00 1.00000000e+00]\n",
      " [6.73950000e+03 6.73400000e+03 1.70000000e+01 ... 9.36328952e+01\n",
      "  9.98331974e-01 9.98331974e-01]\n",
      " [6.73000000e+03 6.73250000e+03 2.70000000e+01 ... 7.07220833e+01\n",
      "  1.00612563e+00 1.00444739e+00]\n",
      " ...\n",
      " [9.37400000e+03 9.36600000e+03 4.34690000e+04 ... 8.35667021e+01\n",
      "  9.93203625e-01 5.00318886e+01]\n",
      " [9.36500000e+03 9.35700000e+03 4.34820000e+04 ... 9.00130005e+01\n",
      "  1.00640615e+00 5.03524003e+01]\n",
      " [9.35250000e+03 9.35900000e+03 4.34930000e+04 ... 9.19647031e+01\n",
      "  0.00000000e+00 0.00000000e+00]]\n"
     ]
    }
   ],
   "source": [
    "print(price)"
   ]
  },
  {
   "cell_type": "code",
   "execution_count": 80,
   "metadata": {},
   "outputs": [
    {
     "name": "stdout",
     "output_type": "stream",
     "text": [
      "[[6.74300000e+03 6.74450000e+03 1.50000000e+01 ... 8.96713615e+01\n",
      "  1.00000000e+00 1.00000000e+00]\n",
      " [6.73950000e+03 6.73400000e+03 1.70000000e+01 ... 9.36328952e+01\n",
      "  9.98331974e-01 9.98331974e-01]\n",
      " [6.73000000e+03 6.73250000e+03 2.70000000e+01 ... 7.07220833e+01\n",
      "  1.00612563e+00 1.00444739e+00]\n",
      " ...\n",
      " [9.37400000e+03 9.36600000e+03 4.34690000e+04 ... 8.35667021e+01\n",
      "  9.93203625e-01 5.00318886e+01]\n",
      " [9.36500000e+03 9.35700000e+03 4.34820000e+04 ... 9.00130005e+01\n",
      "  1.00640615e+00 5.03524003e+01]\n",
      " [9.35250000e+03 9.35900000e+03 4.34930000e+04 ... 9.19647031e+01\n",
      "  0.00000000e+00 0.00000000e+00]]\n"
     ]
    }
   ],
   "source": [
    "np.set_printoptions(threshold=10)\n",
    "print(price)"
   ]
  },
  {
   "cell_type": "code",
   "execution_count": null,
   "metadata": {},
   "outputs": [],
   "source": [
    "#print(close)"
   ]
  },
  {
   "cell_type": "code",
   "execution_count": null,
   "metadata": {},
   "outputs": [],
   "source": [
    "print(RSIclose)"
   ]
  },
  {
   "cell_type": "code",
   "execution_count": null,
   "metadata": {},
   "outputs": [],
   "source": []
  },
  {
   "cell_type": "code",
   "execution_count": null,
   "metadata": {},
   "outputs": [],
   "source": []
  },
  {
   "cell_type": "code",
   "execution_count": null,
   "metadata": {},
   "outputs": [],
   "source": []
  },
  {
   "cell_type": "code",
   "execution_count": null,
   "metadata": {},
   "outputs": [],
   "source": []
  },
  {
   "cell_type": "code",
   "execution_count": null,
   "metadata": {},
   "outputs": [],
   "source": [
    "np.set_printoptions(threshold=np.inf)"
   ]
  },
  {
   "cell_type": "code",
   "execution_count": null,
   "metadata": {},
   "outputs": [],
   "source": []
  },
  {
   "cell_type": "code",
   "execution_count": null,
   "metadata": {},
   "outputs": [],
   "source": []
  },
  {
   "cell_type": "code",
   "execution_count": null,
   "metadata": {},
   "outputs": [],
   "source": []
  },
  {
   "cell_type": "code",
   "execution_count": null,
   "metadata": {},
   "outputs": [],
   "source": []
  },
  {
   "cell_type": "code",
   "execution_count": 132,
   "metadata": {},
   "outputs": [],
   "source": []
  },
  {
   "cell_type": "code",
   "execution_count": 11,
   "metadata": {},
   "outputs": [
    {
     "name": "stdout",
     "output_type": "stream",
     "text": [
      "99.3201997241843\n",
      "0       0.000000\n",
      "1       0.000000\n",
      "2       0.000000\n",
      "3       0.000000\n",
      "4       0.000000\n",
      "5       0.000000\n",
      "6       0.000000\n",
      "7       0.000000\n",
      "8       0.000000\n",
      "9       0.000000\n",
      "10      0.000000\n",
      "11      0.000000\n",
      "12      0.000000\n",
      "13      0.000000\n",
      "14      0.000000\n",
      "15      0.000000\n",
      "16     20.000000\n",
      "17      0.696662\n",
      "18      0.064381\n",
      "19     58.504093\n",
      "20     31.347111\n",
      "21     10.233906\n",
      "22     81.787886\n",
      "23     85.823665\n",
      "24     96.979459\n",
      "25     96.979459\n",
      "26      8.031211\n",
      "27     62.433953\n",
      "28     82.072434\n",
      "29     15.837444\n",
      "         ...    \n",
      "970    30.537760\n",
      "971    63.115787\n",
      "972    96.911753\n",
      "973    96.911753\n",
      "974    99.723790\n",
      "975    99.723790\n",
      "976    18.688850\n",
      "977    57.269475\n",
      "978    57.269475\n",
      "979     9.130953\n",
      "980    76.098868\n",
      "981    76.098868\n",
      "982    97.398820\n",
      "983    99.737565\n",
      "984    99.934342\n",
      "985    99.994450\n",
      "986    34.745691\n",
      "987    14.726341\n",
      "988     5.042301\n",
      "989     5.042301\n",
      "990     5.042301\n",
      "991    95.364399\n",
      "992    97.414110\n",
      "993    39.376882\n",
      "994    94.453329\n",
      "995    98.623092\n",
      "996    65.697351\n",
      "997    65.697351\n",
      "998    65.697351\n",
      "999    99.320200\n",
      "Length: 1000, dtype: float64\n",
      "None\n"
     ]
    }
   ],
   "source": [
    "import BK\n",
    "print(BK.rsi_ewma_pd(0.7))\n",
    "print(BK.rsi_ewma5(500, 'fuck.csv'))"
   ]
  },
  {
   "cell_type": "code",
   "execution_count": 92,
   "metadata": {},
   "outputs": [
    {
     "data": {
      "image/png": "[encoded data removed]",
      "text/plain": [
       "<Figure size 432x288 with 1 Axes>"
      ]
     },
     "metadata": {},
     "output_type": "display_data"
    },
    {
     "name": "stdout",
     "output_type": "stream",
     "text": [
      "222\n",
      "1.9966220291953163\n",
      "1.0078307368351846\n",
      "5.104474603752044\n",
      "2.018649596848653\n",
      "0.5790458372310561\n",
      "1.629068196891738\n"
     ]
    },
    {
     "data": {
      "image/png": "[encoded data removed]",
      "text/plain": [
       "<Figure size 432x288 with 1 Axes>"
      ]
     },
     "metadata": {},
     "output_type": "display_data"
    }
   ],
   "source": [
    "M = 1440\n",
    "pnl_alpha(M,1440*1+M, '300.csv', 0.7, 0, 50, 30,50)"
   ]
  },
  {
   "cell_type": "code",
   "execution_count": 53,
   "metadata": {},
   "outputs": [
    {
     "data": {
      "text/plain": [
       "<function __main__.pnl_alpha(start, end, name, alpha, sleep, leverage, low, high)>"
      ]
     },
     "execution_count": 53,
     "metadata": {},
     "output_type": "execute_result"
    }
   ],
   "source": [
    "pnl_alpha"
   ]
  },
  {
   "cell_type": "code",
   "execution_count": 6,
   "metadata": {},
   "outputs": [],
   "source": [
    "from lib import bitmex"
   ]
  },
  {
   "cell_type": "code",
   "execution_count": 7,
   "metadata": {},
   "outputs": [],
   "source": [
    "import settings"
   ]
  },
  {
   "cell_type": "code",
   "execution_count": 125,
   "metadata": {},
   "outputs": [
    {
     "name": "stdout",
     "output_type": "stream",
     "text": [
      "20499\n"
     ]
    }
   ],
   "source": [
    "p1 = len(RSIclose10000)-1\n",
    "print(p1)"
   ]
  },
  {
   "cell_type": "code",
   "execution_count": 9,
   "metadata": {},
   "outputs": [],
   "source": [
    "connector = bitmex.BitMEX(base_url=API_BASE)"
   ]
  },
  {
   "cell_type": "code",
   "execution_count": 15,
   "metadata": {},
   "outputs": [],
   "source": [
    "\n",
    "connector = bitmex.BitMEX(base_url=API_BASE, apiKey=API_KEY, apiSecret=API_SECRET)"
   ]
  },
  {
   "cell_type": "code",
   "execution_count": 14,
   "metadata": {},
   "outputs": [],
   "source": [
    "from settings import API_KEY, API_SECRET, API_BASE"
   ]
  },
  {
   "cell_type": "code",
   "execution_count": 20,
   "metadata": {},
   "outputs": [
    {
     "ename": "SyntaxError",
     "evalue": "invalid syntax (<ipython-input-20-565361ab2d8f>, line 1)",
     "output_type": "error",
     "traceback": [
      "\u001b[1;36m  File \u001b[1;32m\"<ipython-input-20-565361ab2d8f>\"\u001b[1;36m, line \u001b[1;32m1\u001b[0m\n\u001b[1;33m    from bitmex import bitmex.BitMEX\u001b[0m\n\u001b[1;37m                             ^\u001b[0m\n\u001b[1;31mSyntaxError\u001b[0m\u001b[1;31m:\u001b[0m invalid syntax\n"
     ]
    }
   ],
   "source": [
    "from bitmex import bitmex.BitMEX"
   ]
  },
  {
   "cell_type": "code",
   "execution_count": 12,
   "metadata": {},
   "outputs": [],
   "source": [
    "def pnl_only(alpha, name, low, high, leverage):\n",
    "    df1 = pd.read_csv(name)\n",
    "    df_all = pd.DataFrame(df1)\n",
    "    df_all = pd.DataFrame(df_all.values[::-1], df_all.index, df_all.columns) # turn around data\n",
    "\n",
    "    close = df_all['close'] #close values\n",
    "    vwap = pd.Series(df_all['vwap']) #volume-weighted price average\n",
    "    lm = len(close)-1\n",
    "    lp = len(close)+1\n",
    "    l = len(close)\n",
    "    rsi_len = 15\n",
    "    ## RSI CLOSE ##\n",
    "    change_close = pd.Series(np.zeros(l))\n",
    "    gain = pd.Series(np.zeros(l))\n",
    "    loss = pd.Series(np.zeros(l))\n",
    "    smagain = pd.Series(np.zeros(l))\n",
    "    smaloss = pd.Series(np.zeros(l))\n",
    "    RS = pd.Series(np.zeros(l))\n",
    "    RSIclose = pd.Series(np.zeros(l))\n",
    "    for i in range(1,len(close)):   \n",
    "        #print(close[i])\n",
    "        change_close[i] = close[i]-close[i-1]\n",
    "        if change_close[i] > 0:\n",
    "            gain[i] = change_close[i]\n",
    "        elif change_close[i] < 0:\n",
    "            loss[i] = change_close[i]*-1\n",
    "        elif change_close[i] == 0.00000:\n",
    "            loss[i] = 0\n",
    "            gain[i] = 0\n",
    "        if i == rsi_len:   \n",
    "            smagain[rsi_len] = gain[i-rsi_len:i].sum()/rsi_len\n",
    "            smaloss[rsi_len] = loss[i-rsi_len:i].sum()/rsi_len\n",
    "        elif i > rsi_len: \n",
    "            smagain[i] = (1-alpha)*smagain[i-1]+(alpha)*gain[i]\n",
    "            smaloss[i] = (1-alpha)*smaloss[i-1]+(alpha)*loss[i]\n",
    "            if smaloss[i] == 0:\n",
    "                RSIclose[i] = 100\n",
    "            else:\n",
    "                RS[i] = smagain[i]/smaloss[i]\n",
    "                RSIclose[i] = 100 - 100/(1+RS[i])\n",
    "               #print(RSIclose[i])\n",
    "    j = 0\n",
    "    k = 0\n",
    "    price = np.zeros((l-15, 9))\n",
    "    #pnl = 1;\n",
    "    f=0\n",
    "    d=0\n",
    "    for i in range(15, l):\n",
    "        if (RSIclose[i] < low and j == 0):\n",
    "            j = 1\n",
    "            price[k, 0] = close[i]\n",
    "            price[k, 2] = i\n",
    "            price[k, 4] = RSIclose[i]\n",
    "        elif (RSIclose[i]>=high) and (j>=1):\n",
    "            j = j+1\n",
    "            #mat[j,k] = RSIclose[i]\n",
    "            price[k, 5] = RSIclose[i]\n",
    "            price[k, 3] = i;   \n",
    "            price[k, 1] = close[i]\n",
    "            price[k, 8] = (1-price[k,1]/price[k,0])*100\n",
    "            k = k+1\n",
    "            j = 0\n",
    "           # d = 1\n",
    "    price = np.delete(price, np.s_[k::], 0)\n",
    "    pnl = np.ones(len(price))\n",
    "    pnlT = np.ones(len(price))\n",
    "    for i in range(0, len(price)-1):\n",
    "        pnl[i] = (1+(price[i,S]/price[i,S]-1)*leverage)\n",
    "        pnlT[i+1] = pnlT[i]*(1+(price[i,0]/price[i,1]-1)*leverage)\n",
    "        price[i, 3] = pnlT[i]\n",
    "        price[i, 2] = pnl[i]\n",
    "    plt.plot(range(1,len(pnl)+1), pnlT, label='Boys per Time')\n",
    "    plt.title(\"Boys Club Now\")\n",
    "    plt.legend()\n",
    "    plt.show()\n",
    "    #n, bins, patches = plt.hist(pnl, 500, density=False, facecolor='g', alpha=0.85)\n",
    "    #n, bins, patches = plt.hist(pnl, 500, density=False, facecolor='g', alpha=0.85)\n",
    "    print(min(pnl))\n",
    "    print(np.mean(pnl))\n",
    "    print(len(close))\n",
    "    #pdb.set_trace()"
   ]
  },
  {
   "cell_type": "code",
   "execution_count": 18,
   "metadata": {},
   "outputs": [
    {
     "data": {
      "text/plain": [
       "<function __main__.pnl_only(alpha, name, low, high, leverage)>"
      ]
     },
     "execution_count": 18,
     "metadata": {},
     "output_type": "execute_result"
    }
   ],
   "source": [
    "pnl_only"
   ]
  },
  {
   "cell_type": "code",
   "execution_count": 18,
   "metadata": {},
   "outputs": [
    {
     "data": {
      "image/png": "[encoded data removed]",
      "text/plain": [
       "<Figure size 432x288 with 1 Axes>"
      ]
     },
     "metadata": {},
     "output_type": "display_data"
    },
    {
     "name": "stdout",
     "output_type": "stream",
     "text": [
      "0.789522918615528\n",
      "1.0047954471484013\n",
      "5500\n"
     ]
    }
   ],
   "source": [
    "pnl_only(0.7, '300.csv', 30, 80, 25)"
   ]
  },
  {
   "cell_type": "code",
   "execution_count": 52,
   "metadata": {},
   "outputs": [
    {
     "data": {
      "text/plain": [
       "0"
      ]
     },
     "execution_count": 52,
     "metadata": {},
     "output_type": "execute_result"
    }
   ],
   "source": []
  },
  {
   "cell_type": "code",
   "execution_count": null,
   "metadata": {},
   "outputs": [],
   "source": []
  }
 ],
 "metadata": {
  "kernelspec": {
   "display_name": "Python [conda env:domdecarlo]",
   "language": "python",
   "name": "conda-env-domdecarlo-py"
  },
  "language_info": {
   "codemirror_mode": {
    "name": "ipython",
    "version": 3
   },
   "file_extension": ".py",
   "mimetype": "text/x-python",
   "name": "python",
   "nbconvert_exporter": "python",
   "pygments_lexer": "ipython3",
   "version": "3.5.3"
  }
 },
 "nbformat": 4,
 "nbformat_minor": 2
}
