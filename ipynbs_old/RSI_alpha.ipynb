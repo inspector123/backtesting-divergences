{
 "cells": [
  {
   "cell_type": "code",
   "execution_count": 19,
   "metadata": {},
   "outputs": [
    {
     "ename": "ImportError",
     "evalue": "No module named 'py35'",
     "output_type": "error",
     "traceback": [
      "\u001b[1;31m---------------------------------------------------------------------------\u001b[0m",
      "\u001b[1;31mImportError\u001b[0m                               Traceback (most recent call last)",
      "\u001b[1;32m<ipython-input-19-3acaeee7a39d>\u001b[0m in \u001b[0;36m<module>\u001b[1;34m()\u001b[0m\n\u001b[1;32m----> 1\u001b[1;33m \u001b[1;32mimport\u001b[0m \u001b[0mpy35\u001b[0m \u001b[1;32mas\u001b[0m \u001b[0mpy\u001b[0m\u001b[1;33m\u001b[0m\u001b[0m\n\u001b[0m",
      "\u001b[1;31mImportError\u001b[0m: No module named 'py35'"
     ]
    }
   ],
   "source": []
  },
  {
   "cell_type": "code",
   "execution_count": 3,
   "metadata": {},
   "outputs": [],
   "source": [
    "from __future__ import division\n",
    "import matplotlib.pyplot as plt\n",
    "import pandas as pd\n",
    "import numpy as np\n",
    "import argparse\n",
    "import json\n",
    "import csv\n",
    "import sys\n",
    "import time\n",
    "from lib import bitmex\n",
    "from lib.bitmex import BitMEX\n",
    "from settings import API_BASE, API_KEY, API_SECRET\n",
    "import scipy as sp\n",
    "from scipy.stats import *\n",
    "from scipy.stats import skew, kurtosis"
   ]
  },
  {
   "cell_type": "code",
   "execution_count": 68,
   "metadata": {},
   "outputs": [],
   "source": [
    "#API_BASE = 'https://www.bitmex.com/api/v1/'\n",
    "connector = bitmex.BitMEX(base_url=API_BASE,apiKey=API_KEY,apiSecret=API_SECRET)\n",
    "\n",
    "#connector = bitmex.BitMEX(base_url=API_BASE)\n",
    "\n",
    "def GetOrderBookPrice():\n",
    "    queryL2 = {\n",
    "    'symbol': 'XBTUSD',\n",
    "    'depth' : 1,\n",
    "    }\n",
    "\n",
    "    dataL2 = pd.DataFrame(connector._curl_bitmex(path=\"orderbook/L2\", verb=\"GET\", query=queryL2, timeout=5))\n",
    "    BuySide = dataL2.price[1]\n",
    "    SellSide = dataL2.price[0]\n",
    "    return BuySide\n",
    "def GetOrderBookPriceEnd():\n",
    "    queryL2 = {\n",
    "    'symbol': 'XBTUSD',\n",
    "    'depth' : 1,\n",
    "    }\n",
    "\n",
    "    dataL2 = pd.DataFrame(connector._curl_bitmex(path=\"orderbook/L2\", verb=\"GET\", query=queryL2, timeout=5))\n",
    "    BuySide = dataL2.price[1]\n",
    "    SellSide = dataL2.price[0]\n",
    "    return SellSide\n",
    "\n",
    "def Leverage(leverage):\n",
    "    query = {\n",
    "    'symbol': 'XBTUSD',\n",
    "    'leverage' : leverage,\n",
    "    }\n",
    "    data = connector._curl_bitmex(path=\"position/leverage\", verb=\"POST\", query=query, timeout=5)\n",
    "\n",
    "    \n",
    "def BeginShort(GetOrderBookPrice, GetBalance):\n",
    "    queryShort = {\n",
    "        'symbol': 'XBTUSD',\n",
    "        'simpleOrderQty': Balance,\n",
    "        'price' : GetOrderBookPrice(),\n",
    "    }\n",
    "    data = connector._curl_bitmex(path=\"order\", verb=\"POST\", query=queryShort, timeout=5)\n",
    "    \n",
    "def EndShort(Balance):\n",
    "    queryShort = {\n",
    "        'symbol': 'XBTUSD',\n",
    "        'orderQty': -1*Balance,\n",
    "        'ordType': 'Market',\n",
    "        'execInst': 'Close'\n",
    "    }\n",
    "    data = connector._curl_bitmex(path=\"order\", verb=\"POST\", query=queryShort, timeout=5)\n",
    "#BitMEX.sell(1, 10000)"
   ]
  },
  {
   "cell_type": "code",
   "execution_count": 70,
   "metadata": {},
   "outputs": [],
   "source": [
    "BeginShort(GetOrderBookPrice, -1)"
   ]
  },
  {
   "cell_type": "code",
   "execution_count": 74,
   "metadata": {},
   "outputs": [],
   "source": [
    "EndShort(-1)"
   ]
  },
  {
   "cell_type": "code",
   "execution_count": 76,
   "metadata": {},
   "outputs": [],
   "source": [
    "Leverage(1)"
   ]
  },
  {
   "cell_type": "code",
   "execution_count": 3,
   "metadata": {},
   "outputs": [],
   "source": []
  },
  {
   "cell_type": "code",
   "execution_count": 4,
   "metadata": {},
   "outputs": [],
   "source": [
    "rsi_dl(0, 500000, '500000.csv', 3)"
   ]
  },
  {
   "cell_type": "code",
   "execution_count": null,
   "metadata": {},
   "outputs": [],
   "source": []
  },
  {
   "cell_type": "code",
   "execution_count": null,
   "metadata": {},
   "outputs": [],
   "source": []
  },
  {
   "cell_type": "code",
   "execution_count": null,
   "metadata": {},
   "outputs": [],
   "source": []
  },
  {
   "cell_type": "code",
   "execution_count": null,
   "metadata": {},
   "outputs": [],
   "source": []
  },
  {
   "cell_type": "code",
   "execution_count": null,
   "metadata": {},
   "outputs": [],
   "source": []
  },
  {
   "cell_type": "code",
   "execution_count": null,
   "metadata": {},
   "outputs": [],
   "source": []
  },
  {
   "cell_type": "code",
   "execution_count": null,
   "metadata": {},
   "outputs": [],
   "source": []
  },
  {
   "cell_type": "code",
   "execution_count": null,
   "metadata": {},
   "outputs": [],
   "source": []
  },
  {
   "cell_type": "code",
   "execution_count": null,
   "metadata": {},
   "outputs": [],
   "source": []
  },
  {
   "cell_type": "code",
   "execution_count": null,
   "metadata": {},
   "outputs": [],
   "source": []
  },
  {
   "cell_type": "code",
   "execution_count": null,
   "metadata": {},
   "outputs": [],
   "source": []
  },
  {
   "cell_type": "code",
   "execution_count": null,
   "metadata": {},
   "outputs": [],
   "source": []
  },
  {
   "cell_type": "code",
   "execution_count": null,
   "metadata": {},
   "outputs": [],
   "source": [
    "\n"
   ]
  },
  {
   "cell_type": "code",
   "execution_count": null,
   "metadata": {},
   "outputs": [],
   "source": []
  },
  {
   "cell_type": "code",
   "execution_count": null,
   "metadata": {},
   "outputs": [],
   "source": []
  },
  {
   "cell_type": "code",
   "execution_count": null,
   "metadata": {},
   "outputs": [],
   "source": [
    "\n",
    "price = np.delete(price, np.s_[k::1], 0)\n",
    "print(k)\n"
   ]
  },
  {
   "cell_type": "code",
   "execution_count": null,
   "metadata": {},
   "outputs": [],
   "source": []
  },
  {
   "cell_type": "code",
   "execution_count": null,
   "metadata": {},
   "outputs": [],
   "source": []
  },
  {
   "cell_type": "code",
   "execution_count": 5,
   "metadata": {},
   "outputs": [
    {
     "data": {
      "text/plain": [
       "4294967296"
      ]
     },
     "execution_count": 5,
     "metadata": {},
     "output_type": "execute_result"
    }
   ],
   "source": [
    "2**32"
   ]
  },
  {
   "cell_type": "code",
   "execution_count": null,
   "metadata": {},
   "outputs": [],
   "source": []
  },
  {
   "cell_type": "code",
   "execution_count": null,
   "metadata": {},
   "outputs": [],
   "source": []
  },
  {
   "cell_type": "code",
   "execution_count": null,
   "metadata": {},
   "outputs": [],
   "source": []
  },
  {
   "cell_type": "code",
   "execution_count": 5,
   "metadata": {},
   "outputs": [],
   "source": [
    "## RSI w/ ALPHA ##\n",
    "def rsi_ewma(trades):\n",
    "    # Create connector\n",
    "    connector = bitmex.BitMEX(base_url=API_BASE)\n",
    "    # Do trade history query\n",
    "    path = \"trade/bucketed?binSize=1m&symbol=XBTUSD&columns=symbol%2C%20timestamp%2C%20close\"\n",
    "    count = 500  # max API will allow\n",
    "    query = {\n",
    "        'reverse': 'true',\n",
    "        'start': 0,\n",
    "        'count': count,\n",
    "        }\n",
    "    while True:\n",
    "        data = pd.DataFrame(connector._curl_bitmex(path=path, verb=\"GET\", query=query, timeout=5))\n",
    "        query['start'] += count\n",
    "        if query['start'] > trades:\n",
    "            break\n",
    "        if len(data) < count:\n",
    "            break\n",
    "    data = pd.DataFrame(data.values[::-1], data.index, data.columns) # turn around data#\n",
    "    close = data['close'] #close values\n",
    "    l = len(close)\n",
    "    rsi_len = 15\n",
    "    ## RSI CLOSE ##\n",
    "    change_close = pd.Series(np.zeros(l))\n",
    "    gain = pd.Series(np.zeros(l))\n",
    "    loss = pd.Series(np.zeros(l))\n",
    "    smagain = pd.Series(np.zeros(l))\n",
    "    smaloss = pd.Series(np.zeros(l))\n",
    "    RS = pd.Series(np.zeros(l))\n",
    "    RSIclose = pd.Series(np.zeros(l))\n",
    "    alpha = 0.7\n",
    "    for i in range(1,len(close)):   \n",
    "        #print(close[i])\n",
    "        change_close[i] = close[i]-close[i-1]\n",
    "        if change_close[i] > 0:\n",
    "            gain[i] = change_close[i]\n",
    "        elif change_close[i] < 0:\n",
    "            loss[i] = change_close[i]*-1\n",
    "        elif change_close[i] == 0.00000:\n",
    "            loss[i] = 0\n",
    "            gain[i] = 0\n",
    "        if i == rsi_len:   \n",
    "            smagain[rsi_len] = gain[i-rsi_len:i].sum()/rsi_len\n",
    "            smaloss[rsi_len] = loss[i-rsi_len:i].sum()/rsi_len\n",
    "        elif i > rsi_len: \n",
    "            smagain[i] = (1-alpha)*smagain[i-1]+(alpha)*gain[i]\n",
    "            smaloss[i] = (1-alpha)*smaloss[i-1]+(alpha)*loss[i]\n",
    "            if smaloss[i] == 0:\n",
    "                RSIclose[i] = 100\n",
    "            else:\n",
    "                RS[i] = smagain[i]/smaloss[i]\n",
    "                RSIclose[i] = 100 - 100/(1+RS[i])\n",
    "    RSI = RSIclose[l-1]\n",
    "    return RSI\n"
   ]
  },
  {
   "cell_type": "code",
   "execution_count": 6,
   "metadata": {},
   "outputs": [
    {
     "data": {
      "text/plain": [
       "77.29489374425242"
      ]
     },
     "execution_count": 6,
     "metadata": {},
     "output_type": "execute_result"
    }
   ],
   "source": [
    "rsi_ewma(500)"
   ]
  },
  {
   "cell_type": "code",
   "execution_count": 88,
   "metadata": {},
   "outputs": [],
   "source": [
    "## RSI w/ AsdfsdfLPHA ##\n",
    "def rsi_ewms(trades):\n",
    "    # Create connector\n",
    "    connector = bitmex.BitMEX(base_url=API_BASE)\n",
    "\n",
    "    # Do trade history query\n",
    "    path = \"trade/bucketed?binSize=1m&symbol=XBTUSD&columns=close\"\n",
    "    count = 500  # max API will allow\n",
    "    query = {\n",
    "        'reverse': 'true',\n",
    "        'start': 0,\n",
    "        'count': count,\n",
    "        }\n",
    "\n",
    "    csvwriter = None\n",
    "    while True:\n",
    "        data = pd.DataFrame(connector._curl_bitmex(path=path, verb=\"GET\", query=query, timeout=5))\n",
    "        query['start'] += count\n",
    "        if query['start'] > trades:\n",
    "            break\n",
    "        if len(data) < count:\n",
    "            break\n",
    "    print(data)\n"
   ]
  },
  {
   "cell_type": "code",
   "execution_count": 7,
   "metadata": {},
   "outputs": [],
   "source": []
  },
  {
   "cell_type": "code",
   "execution_count": 8,
   "metadata": {},
   "outputs": [
    {
     "name": "stdout",
     "output_type": "stream",
     "text": [
      "0      0.000000\n",
      "1      0.000000\n",
      "2      0.000000\n",
      "3      0.000000\n",
      "4      0.000000\n",
      "5      0.000000\n",
      "6      0.000000\n",
      "7      0.000000\n",
      "8      0.000000\n",
      "9      0.000000\n",
      "10     0.000000\n",
      "11     0.000000\n",
      "12     0.000000\n",
      "13     0.000000\n",
      "14     0.000000\n",
      "15     0.000000\n",
      "16    26.829268\n",
      "17     7.601740\n",
      "18     7.601740\n",
      "19     1.090295\n",
      "20    81.277260\n",
      "21    92.514834\n",
      "22    94.653987\n",
      "23    99.379881\n",
      "24    14.416762\n",
      "25     8.418822\n",
      "26    85.230012\n",
      "27    87.550403\n",
      "28    42.762902\n",
      "29     5.467819\n",
      "        ...    \n",
      "70     4.149782\n",
      "71    80.811579\n",
      "72    55.296318\n",
      "73    26.941498\n",
      "74     6.097389\n",
      "75    61.400497\n",
      "76    75.707405\n",
      "77    96.409431\n",
      "78    96.409431\n",
      "79    99.773888\n",
      "80    29.228758\n",
      "81    17.262577\n",
      "82    84.583779\n",
      "83    45.780948\n",
      "84    58.479353\n",
      "85    58.479353\n",
      "86     1.973978\n",
      "87    79.605187\n",
      "88    85.495739\n",
      "89    98.963772\n",
      "90    30.055204\n",
      "91    26.929976\n",
      "92    69.381147\n",
      "93    69.381147\n",
      "94    69.381147\n",
      "95     0.608791\n",
      "96     0.340737\n",
      "97    63.907516\n",
      "98    93.562536\n",
      "99    77.281180\n",
      "Length: 100, dtype: float64\n",
      "0      0.000000\n",
      "1      0.000000\n",
      "2      0.000000\n",
      "3      0.000000\n",
      "4      0.000000\n",
      "5      0.000000\n",
      "6      0.000000\n",
      "7      0.000000\n",
      "8      0.000000\n",
      "9      0.000000\n",
      "10     0.000000\n",
      "11     0.000000\n",
      "12     0.000000\n",
      "13     0.000000\n",
      "14     0.000000\n",
      "15     0.000000\n",
      "16    26.829268\n",
      "17     7.601740\n",
      "18     7.601740\n",
      "19     1.090295\n",
      "20    81.277260\n",
      "21    92.514834\n",
      "22    94.653987\n",
      "23    99.379881\n",
      "24    14.416762\n",
      "25     8.418822\n",
      "26    85.230012\n",
      "27    87.550403\n",
      "28    42.762902\n",
      "29     5.467819\n",
      "        ...    \n",
      "70     4.149782\n",
      "71    80.811579\n",
      "72    55.296318\n",
      "73    26.941498\n",
      "74     6.097389\n",
      "75    61.400497\n",
      "76    75.707405\n",
      "77    96.409431\n",
      "78    96.409431\n",
      "79    99.773888\n",
      "80    29.228758\n",
      "81    17.262577\n",
      "82    84.583779\n",
      "83    45.780948\n",
      "84    58.479353\n",
      "85    58.479353\n",
      "86     1.973978\n",
      "87    79.605187\n",
      "88    85.495739\n",
      "89    98.963772\n",
      "90    30.055204\n",
      "91    26.929976\n",
      "92    69.381147\n",
      "93    69.381147\n",
      "94    69.381147\n",
      "95     0.608791\n",
      "96     0.340737\n",
      "97    63.907516\n",
      "98    93.562536\n",
      "99    77.281180\n",
      "Length: 100, dtype: float64\n"
     ]
    }
   ],
   "source": []
  },
  {
   "cell_type": "code",
   "execution_count": null,
   "metadata": {},
   "outputs": [],
   "source": []
  },
  {
   "cell_type": "code",
   "execution_count": 6,
   "metadata": {},
   "outputs": [],
   "source": []
  },
  {
   "cell_type": "code",
   "execution_count": 131,
   "metadata": {},
   "outputs": [],
   "source": [
    "wtf(0, 500, '500.csv', 0)\n",
    "wtf(0, 20000, '20000.csv', 0)"
   ]
  },
  {
   "cell_type": "code",
   "execution_count": 107,
   "metadata": {},
   "outputs": [],
   "source": [
    "def wtf(start, end, name, sleep):\n",
    "    # Create connector\n",
    "    connector = bitmex.BitMEX(base_url=API_BASE)\n",
    "\n",
    "    # Do trade history query\n",
    "    path = \"trade/bucketed?binSize=1m&symbol=XBTUSD&columns=symbol%2C%20timestamp%2C%20close%2C%20vwap\"\n",
    "    count = 100  # max API will allow\n",
    "    query = {\n",
    "        'reverse': 'true',\n",
    "        'start': start,\n",
    "        'count': count,\n",
    "        }\n",
    "\n",
    "    csvwriter = None\n",
    "    with open(name, 'w+') as f:\n",
    "        while True:\n",
    "            data = connector._curl_bitmex(path=path, verb=\"GET\", query=query, timeout=5)\n",
    "            if sleep > 0:\n",
    "                time.sleep(2.1)\n",
    "            if csvwriter is None:\n",
    "                # csv requires dict keys\n",
    "                if len(data) == 0:\n",
    "                    break\n",
    "                keys = sorted(data[0].keys())\n",
    "                # Write to stdout\n",
    "                csvwriter = csv.DictWriter(f, fieldnames=keys)\n",
    "                csvwriter.writeheader()\n",
    "\n",
    "            csvwriter.writerows(data)\n",
    "            #data2 = pd.DataFrame\n",
    "            data2 = np.append(data, data)\n",
    "            query['start'] += count\n",
    "            if query['start'] > end:\n",
    "                break\n",
    "            if len(data) < count:\n",
    "                break\n"
   ]
  },
  {
   "cell_type": "code",
   "execution_count": 49,
   "metadata": {},
   "outputs": [],
   "source": [
    "def pnl_alpha(start, end, name, alpha, sleep, leverage, low, high):\n",
    "    \n",
    "\n",
    "\n",
    "    # Create connector\n",
    "    connector = bitmex.BitMEX(base_url=API_BASE)\n",
    "\n",
    "    # Do trade history query\n",
    "    path = \"trade/bucketed?binSize=5m&symbol=XBTUSD&columns=symbol%2C%20timestamp%2C%20close%2C%20vwap\"\n",
    "    count = 500  # max API will allow\n",
    "    query = {\n",
    "        'reverse': 'true',\n",
    "        'start': start,\n",
    "        'count': count,\n",
    "        }\n",
    "\n",
    "    csvwriter = None\n",
    "    with open(name, 'w+') as f:\n",
    "        while True:\n",
    "            data = connector._curl_bitmex(path=path, verb=\"GET\", query=query, timeout=5)\n",
    "            if sleep > 0:\n",
    "                time.sleep(2.1)\n",
    "            if csvwriter is None:\n",
    "                # csv requires dict keys\n",
    "                if len(data) == 0:\n",
    "                    break\n",
    "                keys = sorted(data[0].keys())\n",
    "                # Write to stdout\n",
    "                csvwriter = csv.DictWriter(f, fieldnames=keys)\n",
    "                csvwriter.writeheader()\n",
    "\n",
    "            csvwriter.writerows(data)\n",
    "            #data2 = pd.DataFrame\n",
    "            data2 = np.append(data, data)\n",
    "            query['start'] += count\n",
    "            if query['start'] > 0:\n",
    "                break\n",
    "            if len(data) < count:\n",
    "                break\n",
    "\n",
    "    df1 = pd.read_csv(name)\n",
    "    df_all = pd.DataFrame(df1)\n",
    "    df_all = pd.DataFrame(df_all.values[::-1], df_all.index, df_all.columns) # turn around data\n",
    "\n",
    "    close = df_all['close'] #close values\n",
    "    vwap = pd.Series(df_all['vwap']) #volume-weighted price average\n",
    "    lm = len(close)-1\n",
    "    lp = len(close)+1\n",
    "    l = len(close)\n",
    "    rsi_len = 15\n",
    "    ## RSI CLOSE ##\n",
    "    change_close = pd.Series(np.zeros(l))\n",
    "    gain = pd.Series(np.zeros(l))\n",
    "    loss = pd.Series(np.zeros(l))\n",
    "    smagain = pd.Series(np.zeros(l))\n",
    "    smaloss = pd.Series(np.zeros(l))\n",
    "    RS = pd.Series(np.zeros(l))\n",
    "    RSIclose = pd.Series(np.zeros(l))\n",
    "    for i in range(1,len(close)):   \n",
    "        #print(close[i])\n",
    "        change_close[i] = close[i]-close[i-1]\n",
    "        if change_close[i] > 0:\n",
    "            gain[i] = change_close[i]\n",
    "        elif change_close[i] < 0:\n",
    "            loss[i] = change_close[i]*-1\n",
    "        elif change_close[i] == 0.00000:\n",
    "            loss[i] = 0\n",
    "            gain[i] = 0\n",
    "        if i == rsi_len:   \n",
    "            smagain[rsi_len] = gain[i-rsi_len:i].sum()/rsi_len\n",
    "            smaloss[rsi_len] = loss[i-rsi_len:i].sum()/rsi_len\n",
    "        elif i > rsi_len: \n",
    "            smagain[i] = (1-alpha)*smagain[i-1]+(alpha)*gain[i]\n",
    "            smaloss[i] = (1-alpha)*smaloss[i-1]+(alpha)*loss[i]\n",
    "            if smaloss[i] == 0:\n",
    "                RSIclose[i] = 100\n",
    "            else:\n",
    "                RS[i] = smagain[i]/smaloss[i]\n",
    "                RSIclose[i] = 100 - 100/(1+RS[i])\n",
    "               #print(RSIclose[i])\n",
    "    j = 0\n",
    "    k = 0\n",
    "    price = np.zeros((l-15, 6))\n",
    "    #pnl = 1;\n",
    "    f=0\n",
    "    d=0\n",
    "    for i in range(15, l):\n",
    "        if (RSIclose[i] < low and j == 0):\n",
    "            j = 1\n",
    "            price[k, 0] = close[i]\n",
    "            price[k, 2] = i\n",
    "            price[k, 4] = RSIclose[i]\n",
    "        elif (RSIclose[i]>=high) and (j>=1):\n",
    "            j = j+1\n",
    "            #mat[j,k] = RSIclose[i]\n",
    "            price[k, 5] = RSIclose[i]\n",
    "            price[k, 3] = i\n",
    "            price[k, 1] = close[i]\n",
    "            k = k+1\n",
    "            j = 0\n",
    "       # d = 1\n",
    "    price = np.delete(price, np.s_[k::], 0)\n",
    "    pnl = np.ones(len(price))\n",
    "    pnlT = np.ones(len(price))\n",
    "    for i in range(0, len(price)-1):\n",
    "        pnl[i] = (1+(price[i,1]/price[i,0]-1-.00075)*leverage)\n",
    "        pnlT[i+1] = pnlT[i]*(1+(price[i,0]/price[i,1]-1-.00075)*leverage)\n",
    "    plt.plot(range(1,len(pnl)+1), pnlT, label='Boys per Time')\n",
    "    plt.title(\"Boys Club Now\")\n",
    "    plt.legend()\n",
    "    plt.show()\n",
    "    #n, bins, patches = plt.hist(pnl, 500, density=False, facecolor='g', alpha=0.85)\n",
    "    #n, bins, patches = plt.hist(pnl, 500, density=False, facecolor='g', alpha=0.85)\n",
    "    #print(min(price))\n",
    "    print(np.mean(pnl))\n",
    "\n",
    "    #pdb.set_trace()g"
   ]
  },
  {
   "cell_type": "code",
   "execution_count": 3,
   "metadata": {},
   "outputs": [
    {
     "data": {
      "text/plain": [
       "<function __main__.pnl_alpha(start, end, name, alpha, sleep, leverage, low, high)>"
      ]
     },
     "execution_count": 3,
     "metadata": {},
     "output_type": "execute_result"
    }
   ],
   "source": [
    "pnl_alpha"
   ]
  },
  {
   "cell_type": "code",
   "execution_count": 50,
   "metadata": {
    "scrolled": true
   },
   "outputs": [
    {
     "data": {
      "image/png": "[encoded data removed]",
      "text/plain": [
       "<Figure size 432x288 with 1 Axes>"
      ]
     },
     "metadata": {},
     "output_type": "display_data"
    },
    {
     "name": "stdout",
     "output_type": "stream",
     "text": [
      "0.9419187596466716\n"
     ]
    }
   ],
   "source": [
    "pnl_alpha(0, 0, 'hr.csv', 0.7,  0, 100, 30, 50)"
   ]
  },
  {
   "cell_type": "code",
   "execution_count": 12,
   "metadata": {
    "scrolled": true
   },
   "outputs": [
    {
     "data": {
      "image/png": "[encoded data removed]",
      "text/plain": [
       "<Figure size 432x288 with 1 Axes>"
      ]
     },
     "metadata": {},
     "output_type": "display_data"
    },
    {
     "name": "stdout",
     "output_type": "stream",
     "text": [
      "0.03653190452995725\n",
      "1.0010961349829528\n",
      "0.39943065882980655\n",
      "1.003654525520771\n"
     ]
    },
    {
     "data": {
      "image/png": "[encoded data removed]",
      "text/plain": [
       "<Figure size 432x288 with 1 Axes>"
      ]
     },
     "metadata": {},
     "output_type": "display_data"
    }
   ],
   "source": [
    "\n",
    "price = np.zeros((l-15, 9))\n",
    "#mat = np.zeros((20, 1200))\n",
    "#pnl = 1;\n",
    "#leverage = 10\n",
    "f=0\n",
    "d=0\n",
    "for i in range(15, l):\n",
    "    if (RSIclose[i] < low and j == 0):\n",
    "        j = 1\n",
    "        price[k, 0] = close[i]\n",
    "        price[k, 2] = i\n",
    "        price[k, 4] = RSIclose[i]\n",
    "    #elif  (RSIclose[i] < low and j>=1):    \n",
    "    #    j = j + 1\n",
    "    #    mat[j,k] = RSIclose[i]\n",
    "    #elif RSIclose[i] >= low  and (RSIclose[i] <= high) and (j >= 1):\n",
    "    ##    j = j + 1\n",
    "     # #  mat[j,k] = RSIclose[i] \n",
    "    elif (RSIclose[i]>=high) and (j>=1):\n",
    "        j = j+1\n",
    "        #mat[j,k] = RSIclose[i]\n",
    "        price[k, 5] = RSIclose[i]\n",
    "        price[k, 3] = i;   \n",
    "        price[k, 1] = close[i]\n",
    "        price[k, 8] = (1-price[k,1]/price[k,0])*100\n",
    "        k = k+1\n",
    "        j = 0\n",
    "       # d = 1\n",
    "\n",
    "   # if price[k,4] == price[k,5]:\n",
    "   #     p = price[k,5]+1\n",
    "   #     price[k,5] = p\n",
    "   #     price[k,1] = close[p]\n",
    "  #  if (RSIclose[i] >= hiS and j == 0):\n",
    " #       j = 1\n",
    " #       price[k, 0] = close[i]\n",
    " #       price[k, 2] = 1\n",
    "  #  elif (RSIclose[i] <= loS) and (j>=1):\n",
    "    #    j = 0 \n",
    "  #     k = k+1\n",
    "  #  price[k, 1] = close[i];\n",
    "price = np.delete(price, np.s_[k::], 0)\n",
    "pnl = np.ones(len(price))\n",
    "pnlT = np.ones(len(price))\n",
    "for i in range(0, len(price)-1):\n",
    "    pnl[i+1] = 1*(1+(price[i,0]/price[i,1]-1)*leverage)\n",
    "    pnlT[i+1] = pnlT[i]*(1+(price[i,0]/price[i,1]-1)*leverage)\n",
    "    price[i, 7] = pnlT[i]\n",
    "    price[i, 6] = pnl[i]\n",
    "    if pnl[i+1] < 0.8:\n",
    "       # pnlT[i+1] = 1\n",
    "        print('No boys.')\n",
    "plt.plot(range(1,len(pnl)+1), pnlT, label='Boys per Time')\n",
    "plt.title(\"Boys Club Now\")\n",
    "plt.legend()\n",
    "plt.show()\n",
    "#price= pd.DataFrame(price)\n",
    "#n, bins, patches = plt.hist(pnl, 500, density=False, facecolor='g', alpha=0.85)\n",
    "n, bins, patches = plt.hist(pnl, 500, density=False, facecolor='g', alpha=0.85)\n",
    "#pdb.set_trace()\n",
    "print(max(price[:,8]))\n",
    "print(np.mean(pnl))\n",
    "print(sp.stats.skew(pnl))\n",
    "print(max(pnl))"
   ]
  },
  {
   "cell_type": "code",
   "execution_count": 13,
   "metadata": {},
   "outputs": [
    {
     "name": "stdout",
     "output_type": "stream",
     "text": [
      "[[ 8.21200000e+03  8.20900000e+03  1.50000000e+01  1.80000000e+01\n",
      "   0.00000000e+00  5.67829147e+01  1.00000000e+00  1.00000000e+00\n",
      "   3.65319045e-02]\n",
      " [ 8.22050000e+03  8.21800000e+03  2.40000000e+01  2.80000000e+01\n",
      "   2.20032035e+01  6.31157798e+01  1.00365453e+00  1.00365453e+00\n",
      "   3.04117754e-02]\n",
      " [ 8.22350000e+03  8.22400000e+03  3.30000000e+01  3.40000000e+01\n",
      "   1.86888504e+01  5.72694751e+01  1.00304210e+00  1.00670775e+00\n",
      "  -6.08013620e-03]\n",
      " [ 8.22350000e+03  8.22400000e+03  3.60000000e+01  3.70000000e+01\n",
      "   9.13095301e+00  7.60988675e+01  9.99392023e-01  1.00609569e+00\n",
      "  -6.08013620e-03]\n",
      " [ 8.22750000e+03  8.22700000e+03  4.40000000e+01  4.80000000e+01\n",
      "   1.47263412e+01  9.53643986e+01  0.00000000e+00  0.00000000e+00\n",
      "   6.07718019e-03]]\n"
     ]
    }
   ],
   "source": [
    "np.set_printoptions(threshold=1000000)\n",
    "print(price)"
   ]
  },
  {
   "cell_type": "code",
   "execution_count": 50,
   "metadata": {},
   "outputs": [
    {
     "data": {
      "text/plain": [
       "2.0942088940419734"
      ]
     },
     "execution_count": 50,
     "metadata": {},
     "output_type": "execute_result"
    }
   ],
   "source": [
    "sp.stats.skew(pnl)"
   ]
  },
  {
   "cell_type": "code",
   "execution_count": 110,
   "metadata": {},
   "outputs": [
    {
     "data": {
      "text/plain": [
       "array([80.37257091, 84.87879577, 70.90231099, ..., 90.97357711,\n",
       "       76.78933176, 92.26714021])"
      ]
     },
     "execution_count": 110,
     "metadata": {},
     "output_type": "execute_result"
    }
   ],
   "source": [
    "price[:,5]"
   ]
  },
  {
   "cell_type": "code",
   "execution_count": 78,
   "metadata": {},
   "outputs": [
    {
     "name": "stdout",
     "output_type": "stream",
     "text": [
      "[[6.74300000e+03 6.74450000e+03 1.50000000e+01 ... 8.96713615e+01\n",
      "  1.00000000e+00 1.00000000e+00]\n",
      " [6.73950000e+03 6.73400000e+03 1.70000000e+01 ... 9.36328952e+01\n",
      "  9.98331974e-01 9.98331974e-01]\n",
      " [6.73000000e+03 6.73250000e+03 2.70000000e+01 ... 7.07220833e+01\n",
      "  1.00612563e+00 1.00444739e+00]\n",
      " ...\n",
      " [9.37400000e+03 9.36600000e+03 4.34690000e+04 ... 8.35667021e+01\n",
      "  9.93203625e-01 5.00318886e+01]\n",
      " [9.36500000e+03 9.35700000e+03 4.34820000e+04 ... 9.00130005e+01\n",
      "  1.00640615e+00 5.03524003e+01]\n",
      " [9.35250000e+03 9.35900000e+03 4.34930000e+04 ... 9.19647031e+01\n",
      "  0.00000000e+00 0.00000000e+00]]\n"
     ]
    }
   ],
   "source": [
    "print(price)"
   ]
  },
  {
   "cell_type": "code",
   "execution_count": 80,
   "metadata": {},
   "outputs": [
    {
     "name": "stdout",
     "output_type": "stream",
     "text": [
      "[[6.74300000e+03 6.74450000e+03 1.50000000e+01 ... 8.96713615e+01\n",
      "  1.00000000e+00 1.00000000e+00]\n",
      " [6.73950000e+03 6.73400000e+03 1.70000000e+01 ... 9.36328952e+01\n",
      "  9.98331974e-01 9.98331974e-01]\n",
      " [6.73000000e+03 6.73250000e+03 2.70000000e+01 ... 7.07220833e+01\n",
      "  1.00612563e+00 1.00444739e+00]\n",
      " ...\n",
      " [9.37400000e+03 9.36600000e+03 4.34690000e+04 ... 8.35667021e+01\n",
      "  9.93203625e-01 5.00318886e+01]\n",
      " [9.36500000e+03 9.35700000e+03 4.34820000e+04 ... 9.00130005e+01\n",
      "  1.00640615e+00 5.03524003e+01]\n",
      " [9.35250000e+03 9.35900000e+03 4.34930000e+04 ... 9.19647031e+01\n",
      "  0.00000000e+00 0.00000000e+00]]\n"
     ]
    }
   ],
   "source": [
    "np.set_printoptions(threshold=10)\n",
    "print(price)"
   ]
  },
  {
   "cell_type": "code",
   "execution_count": null,
   "metadata": {},
   "outputs": [],
   "source": [
    "#print(close)"
   ]
  },
  {
   "cell_type": "code",
   "execution_count": null,
   "metadata": {},
   "outputs": [],
   "source": [
    "print(RSIclose)"
   ]
  },
  {
   "cell_type": "code",
   "execution_count": null,
   "metadata": {},
   "outputs": [],
   "source": [
    "## just RSIalpha and PNL ##\n",
    "\n",
    "alpha = 0.995\n",
    "low = 30\n",
    "high = 70\n",
    "leverage = 10\n",
    "df1 = pd.read_csv('hr.csv')\n",
    "df_all = pd.DataFrame(df1)\n",
    "df_all = pd.DataFrame(df_all.values[::-1], df_all.index, df_all.columns) # turn around data\n",
    "\n",
    "close = pd.Series(df_all['close']) #close values \n",
    "lm = len(close)-1\n",
    "lp = len(close)+1\n",
    "l = len(close)\n",
    "rsi_len = 75\n",
    "## RSI CLOSE ##\n",
    "change_close = pd.Series(np.zeros(l))\n",
    "gain = pd.Series(np.zeros(l))\n",
    "loss = pd.Series(np.zeros(l))\n",
    "smagain = pd.Series(np.zeros(l))\n",
    "smaloss = pd.Series(np.zeros(l))\n",
    "RS = pd.Series(np.zeros(l))\n",
    "RSIclose = pd.Series(np.zeros(l))\n",
    "\n",
    "for i in range(1,len(close)):   \n",
    "    #print(close[i])\n",
    "    change_close[i] = close[i]-close[i-1]\n",
    "    if change_close[i] > 0:\n",
    "        gain[i] = change_close[i]\n",
    "    elif change_close[i] < 0:\n",
    "        loss[i] = change_close[i]*-1\n",
    "    elif change_close[i] == 0.00000:\n",
    "        loss[i] = 0\n",
    "        gain[i] = 0\n",
    "    if i == rsi_len:   \n",
    "        smagain[rsi_len] = gain[i-rsi_len:i].sum()/rsi_len\n",
    "        smaloss[rsi_len] = loss[i-rsi_len:i].sum()/rsi_len\n",
    "    elif i > rsi_len: \n",
    "        smagain[i] = (1-alpha)*smagain[i-1]+(alpha)*gain[i]\n",
    "        smaloss[i] = (1-alpha)*smaloss[i-1]+(alpha)*loss[i]\n",
    "        if smaloss[i] == 0:\n",
    "            RSIclose[i] = 100\n",
    "        else:\n",
    "            RS[i] = smagain[i]/smaloss[i]\n",
    "            RSIclose[i] = 100 - 100/(1+RS[i])\n",
    "j = 0\n",
    "k = 0"
   ]
  },
  {
   "cell_type": "code",
   "execution_count": null,
   "metadata": {},
   "outputs": [],
   "source": []
  },
  {
   "cell_type": "code",
   "execution_count": null,
   "metadata": {},
   "outputs": [],
   "source": []
  },
  {
   "cell_type": "code",
   "execution_count": null,
   "metadata": {},
   "outputs": [],
   "source": []
  },
  {
   "cell_type": "code",
   "execution_count": null,
   "metadata": {},
   "outputs": [],
   "source": [
    "np.set_printoptions(threshold=np.inf)"
   ]
  },
  {
   "cell_type": "code",
   "execution_count": null,
   "metadata": {},
   "outputs": [],
   "source": []
  },
  {
   "cell_type": "code",
   "execution_count": null,
   "metadata": {},
   "outputs": [],
   "source": []
  },
  {
   "cell_type": "code",
   "execution_count": null,
   "metadata": {},
   "outputs": [],
   "source": []
  },
  {
   "cell_type": "code",
   "execution_count": null,
   "metadata": {},
   "outputs": [],
   "source": []
  },
  {
   "cell_type": "code",
   "execution_count": 132,
   "metadata": {},
   "outputs": [],
   "source": []
  },
  {
   "cell_type": "code",
   "execution_count": 133,
   "metadata": {},
   "outputs": [
    {
     "name": "stdout",
     "output_type": "stream",
     "text": [
      "4.845024410644214\n",
      "4.845024410644214\n"
     ]
    }
   ],
   "source": []
  },
  {
   "cell_type": "code",
   "execution_count": 92,
   "metadata": {},
   "outputs": [
    {
     "data": {
      "image/png": "[encoded data removed]",
      "text/plain": [
       "<Figure size 432x288 with 1 Axes>"
      ]
     },
     "metadata": {},
     "output_type": "display_data"
    },
    {
     "name": "stdout",
     "output_type": "stream",
     "text": [
      "222\n",
      "1.9966220291953163\n",
      "1.0078307368351846\n",
      "5.104474603752044\n",
      "2.018649596848653\n",
      "0.5790458372310561\n",
      "1.629068196891738\n"
     ]
    },
    {
     "data": {
      "image/png": "[encoded data removed]",
      "text/plain": [
       "<Figure size 432x288 with 1 Axes>"
      ]
     },
     "metadata": {},
     "output_type": "display_data"
    }
   ],
   "source": [
    "M = 1440\n",
    "pnl_alpha(M,1440*1+M, '300.csv', 0.7, 0, 50, 30,50)"
   ]
  },
  {
   "cell_type": "code",
   "execution_count": 53,
   "metadata": {},
   "outputs": [
    {
     "data": {
      "text/plain": [
       "<function __main__.pnl_alpha(start, end, name, alpha, sleep, leverage, low, high)>"
      ]
     },
     "execution_count": 53,
     "metadata": {},
     "output_type": "execute_result"
    }
   ],
   "source": [
    "pnl_alpha"
   ]
  },
  {
   "cell_type": "code",
   "execution_count": 6,
   "metadata": {},
   "outputs": [],
   "source": [
    "from lib import bitmex"
   ]
  },
  {
   "cell_type": "code",
   "execution_count": 7,
   "metadata": {},
   "outputs": [],
   "source": [
    "import settings"
   ]
  },
  {
   "cell_type": "code",
   "execution_count": 125,
   "metadata": {},
   "outputs": [
    {
     "name": "stdout",
     "output_type": "stream",
     "text": [
      "20499\n"
     ]
    }
   ],
   "source": [
    "p1 = len(RSIclose10000)-1\n",
    "print(p1)"
   ]
  },
  {
   "cell_type": "code",
   "execution_count": 9,
   "metadata": {},
   "outputs": [],
   "source": [
    "connector = bitmex.BitMEX(base_url=API_BASE)"
   ]
  },
  {
   "cell_type": "code",
   "execution_count": 15,
   "metadata": {},
   "outputs": [],
   "source": [
    "\n",
    "connector = bitmex.BitMEX(base_url=API_BASE, apiKey=API_KEY, apiSecret=API_SECRET)"
   ]
  },
  {
   "cell_type": "code",
   "execution_count": 14,
   "metadata": {},
   "outputs": [],
   "source": [
    "from settings import API_KEY, API_SECRET, API_BASE"
   ]
  },
  {
   "cell_type": "code",
   "execution_count": 20,
   "metadata": {},
   "outputs": [
    {
     "ename": "SyntaxError",
     "evalue": "invalid syntax (<ipython-input-20-565361ab2d8f>, line 1)",
     "output_type": "error",
     "traceback": [
      "\u001b[1;36m  File \u001b[1;32m\"<ipython-input-20-565361ab2d8f>\"\u001b[1;36m, line \u001b[1;32m1\u001b[0m\n\u001b[1;33m    from bitmex import bitmex.BitMEX\u001b[0m\n\u001b[1;37m                             ^\u001b[0m\n\u001b[1;31mSyntaxError\u001b[0m\u001b[1;31m:\u001b[0m invalid syntax\n"
     ]
    }
   ],
   "source": [
    "from bitmex import bitmex.BitMEX"
   ]
  },
  {
   "cell_type": "code",
   "execution_count": 12,
   "metadata": {},
   "outputs": [],
   "source": [
    "def pnl_only(alpha, name, low, high, leverage):\n",
    "    df1 = pd.read_csv(name)\n",
    "    df_all = pd.DataFrame(df1)\n",
    "    df_all = pd.DataFrame(df_all.values[::-1], df_all.index, df_all.columns) # turn around data\n",
    "\n",
    "    close = df_all['close'] #close values\n",
    "    vwap = pd.Series(df_all['vwap']) #volume-weighted price average\n",
    "    lm = len(close)-1\n",
    "    lp = len(close)+1\n",
    "    l = len(close)\n",
    "    rsi_len = 15\n",
    "    ## RSI CLOSE ##\n",
    "    change_close = pd.Series(np.zeros(l))\n",
    "    gain = pd.Series(np.zeros(l))\n",
    "    loss = pd.Series(np.zeros(l))\n",
    "    smagain = pd.Series(np.zeros(l))\n",
    "    smaloss = pd.Series(np.zeros(l))\n",
    "    RS = pd.Series(np.zeros(l))\n",
    "    RSIclose = pd.Series(np.zeros(l))\n",
    "    for i in range(1,len(close)):   \n",
    "        #print(close[i])\n",
    "        change_close[i] = close[i]-close[i-1]\n",
    "        if change_close[i] > 0:\n",
    "            gain[i] = change_close[i]\n",
    "        elif change_close[i] < 0:\n",
    "            loss[i] = change_close[i]*-1\n",
    "        elif change_close[i] == 0.00000:\n",
    "            loss[i] = 0\n",
    "            gain[i] = 0\n",
    "        if i == rsi_len:   \n",
    "            smagain[rsi_len] = gain[i-rsi_len:i].sum()/rsi_len\n",
    "            smaloss[rsi_len] = loss[i-rsi_len:i].sum()/rsi_len\n",
    "        elif i > rsi_len: \n",
    "            smagain[i] = (1-alpha)*smagain[i-1]+(alpha)*gain[i]\n",
    "            smaloss[i] = (1-alpha)*smaloss[i-1]+(alpha)*loss[i]\n",
    "            if smaloss[i] == 0:\n",
    "                RSIclose[i] = 100\n",
    "            else:\n",
    "                RS[i] = smagain[i]/smaloss[i]\n",
    "                RSIclose[i] = 100 - 100/(1+RS[i])\n",
    "               #print(RSIclose[i])\n",
    "    j = 0\n",
    "    k = 0\n",
    "    price = np.zeros((l-15, 9))\n",
    "    #pnl = 1;\n",
    "    f=0\n",
    "    d=0\n",
    "    for i in range(15, l):\n",
    "        if (RSIclose[i] < low and j == 0):\n",
    "            j = 1\n",
    "            price[k, 0] = close[i]\n",
    "            price[k, 2] = i\n",
    "            price[k, 4] = RSIclose[i]\n",
    "        elif (RSIclose[i]>=high) and (j>=1):\n",
    "            j = j+1\n",
    "            #mat[j,k] = RSIclose[i]\n",
    "            price[k, 5] = RSIclose[i]\n",
    "            price[k, 3] = i;   \n",
    "            price[k, 1] = close[i]\n",
    "            price[k, 8] = (1-price[k,1]/price[k,0])*100\n",
    "            k = k+1\n",
    "            j = 0\n",
    "           # d = 1\n",
    "    price = np.delete(price, np.s_[k::], 0)\n",
    "    pnl = np.ones(len(price))\n",
    "    pnlT = np.ones(len(price))\n",
    "    for i in range(0, len(price)-1):\n",
    "        pnl[i] = (1+(price[i,S]/price[i,S]-1)*leverage)\n",
    "        pnlT[i+1] = pnlT[i]*(1+(price[i,0]/price[i,1]-1)*leverage)\n",
    "        price[i, 3] = pnlT[i]\n",
    "        price[i, 2] = pnl[i]\n",
    "    plt.plot(range(1,len(pnl)+1), pnlT, label='Boys per Time')\n",
    "    plt.title(\"Boys Club Now\")\n",
    "    plt.legend()\n",
    "    plt.show()\n",
    "    #n, bins, patches = plt.hist(pnl, 500, density=False, facecolor='g', alpha=0.85)\n",
    "    #n, bins, patches = plt.hist(pnl, 500, density=False, facecolor='g', alpha=0.85)\n",
    "    print(min(pnl))\n",
    "    print(np.mean(pnl))\n",
    "    print(len(close))\n",
    "    #pdb.set_trace()"
   ]
  },
  {
   "cell_type": "code",
   "execution_count": 18,
   "metadata": {},
   "outputs": [
    {
     "data": {
      "text/plain": [
       "<function __main__.pnl_only(alpha, name, low, high, leverage)>"
      ]
     },
     "execution_count": 18,
     "metadata": {},
     "output_type": "execute_result"
    }
   ],
   "source": [
    "pnl_only"
   ]
  },
  {
   "cell_type": "code",
   "execution_count": 18,
   "metadata": {},
   "outputs": [
    {
     "data": {
      "image/png": "[encoded data removed]",
      "text/plain": [
       "<Figure size 432x288 with 1 Axes>"
      ]
     },
     "metadata": {},
     "output_type": "display_data"
    },
    {
     "name": "stdout",
     "output_type": "stream",
     "text": [
      "0.789522918615528\n",
      "1.0047954471484013\n",
      "5500\n"
     ]
    }
   ],
   "source": [
    "pnl_only(0.7, '300.csv', 30, 80, 25)"
   ]
  },
  {
   "cell_type": "code",
   "execution_count": 52,
   "metadata": {},
   "outputs": [
    {
     "data": {
      "text/plain": [
       "0"
      ]
     },
     "execution_count": 52,
     "metadata": {},
     "output_type": "execute_result"
    }
   ],
   "source": []
  },
  {
   "cell_type": "code",
   "execution_count": null,
   "metadata": {},
   "outputs": [],
   "source": []
  }
 ],
 "metadata": {
  "kernelspec": {
   "display_name": "Python [conda env:domdecarlo]",
   "language": "python",
   "name": "conda-env-domdecarlo-py"
  },
  "language_info": {
   "codemirror_mode": {
    "name": "ipython",
    "version": 3
   },
   "file_extension": ".py",
   "mimetype": "text/x-python",
   "name": "python",
   "nbconvert_exporter": "python",
   "pygments_lexer": "ipython3",
   "version": "3.5.3"
  }
 },
 "nbformat": 4,
 "nbformat_minor": 2
}
